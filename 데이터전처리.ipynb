{
  "nbformat": 4,
  "nbformat_minor": 0,
  "metadata": {
    "colab": {
      "name": "데이터전처리.ipynb",
      "provenance": [],
      "collapsed_sections": [],
      "authorship_tag": "ABX9TyNUC0KB610kM2OcqDSau6SQ",
      "include_colab_link": true
    },
    "kernelspec": {
      "name": "python3",
      "display_name": "Python 3"
    },
    "accelerator": "GPU"
  },
  "cells": [
    {
      "cell_type": "markdown",
      "metadata": {
        "id": "view-in-github",
        "colab_type": "text"
      },
      "source": [
        "<a href=\"https://colab.research.google.com/github/YNNJN/colorPool_Data/blob/master/%EB%8D%B0%EC%9D%B4%ED%84%B0%EC%A0%84%EC%B2%98%EB%A6%AC.ipynb\" target=\"_parent\"><img src=\"https://colab.research.google.com/assets/colab-badge.svg\" alt=\"Open In Colab\"/></a>"
      ]
    },
    {
      "cell_type": "markdown",
      "metadata": {
        "id": "4pbhlXlf-Fke",
        "colab_type": "text"
      },
      "source": [
        "## 0. 데이터 로드 & 상위 데이터 추출\n",
        "\n",
        "- 각 배색에 대한 조화도 평점을 기준으로, 내림차순 정렬하여 상위 3000개를 데이터 프레임으로 추출 완료함\n",
        "    - 상위 3000개 데이터의 조화도 평균 평점 : 4.35, 표준편차 : 0.26"
      ]
    },
    {
      "cell_type": "code",
      "metadata": {
        "id": "lQ334EK3Baa5",
        "colab_type": "code",
        "colab": {
          "base_uri": "https://localhost:8080/",
          "height": 119
        },
        "outputId": "248412af-bdb5-4190-b627-3d55aaa2799f"
      },
      "source": [
        "!git clone https://github.com/YNNJN/colorPool_Data.git"
      ],
      "execution_count": 1,
      "outputs": [
        {
          "output_type": "stream",
          "text": [
            "Cloning into 'colorPool_Data'...\n",
            "remote: Enumerating objects: 33, done.\u001b[K\n",
            "remote: Counting objects: 100% (33/33), done.\u001b[K\n",
            "remote: Compressing objects: 100% (30/30), done.\u001b[K\n",
            "remote: Total 33 (delta 17), reused 5 (delta 0), pack-reused 0\u001b[K\n",
            "Unpacking objects: 100% (33/33), done.\n"
          ],
          "name": "stdout"
        }
      ]
    },
    {
      "cell_type": "code",
      "metadata": {
        "id": "cwqKK-QYBlcK",
        "colab_type": "code",
        "colab": {
          "base_uri": "https://localhost:8080/",
          "height": 68
        },
        "outputId": "ca81525b-9ad2-4523-f8c4-69ac2c0fd39e"
      },
      "source": [
        "!ls -ltr"
      ],
      "execution_count": 2,
      "outputs": [
        {
          "output_type": "stream",
          "text": [
            "total 8\n",
            "drwxr-xr-x 1 root root 4096 Sep 14 16:31 sample_data\n",
            "drwxr-xr-x 3 root root 4096 Sep 16 18:54 colorPool_Data\n"
          ],
          "name": "stdout"
        }
      ]
    },
    {
      "cell_type": "code",
      "metadata": {
        "id": "kHEGjPSstoES",
        "colab_type": "code",
        "colab": {
          "base_uri": "https://localhost:8080/",
          "height": 34
        },
        "outputId": "d94df055-63c2-42c8-f765-94356afc4582"
      },
      "source": [
        "# connect to google dirve\n",
        "\n",
        "from google.colab import drive\n",
        "drive.mount('/content/gdrive')"
      ],
      "execution_count": 3,
      "outputs": [
        {
          "output_type": "stream",
          "text": [
            "Mounted at /content/gdrive\n"
          ],
          "name": "stdout"
        }
      ]
    },
    {
      "cell_type": "code",
      "metadata": {
        "id": "PQNUwVbjt3Hd",
        "colab_type": "code",
        "colab": {}
      },
      "source": [
        "import numpy as np # linear algebra\n",
        "import pandas as pd # data processing, CSV file I/O (e.g. pd.read_csv)\n",
        "\n",
        "rgbData = pd.read_csv('gdrive/My Drive/colorPOOL/kulerData/kulerData_data.csv', names=['R1', 'R2', 'R3', 'R4', 'R5', 'G1', 'G2', 'G3', 'G4', 'G5', 'B1', 'B2', 'B3', 'B4', 'B5' ])\n",
        "ratingData = pd.read_csv('gdrive/My Drive/colorPOOL/kulerData/kulerData_targets.csv', names=['rating'])\n",
        "idData = pd.read_csv('gdrive/My Drive/colorPOOL/kulerData/kulerData_ids.csv', names=['id'])\n",
        "nameData = pd.read_csv('gdrive/My Drive/colorPOOL/kulerData/kulerData_name.csv', names=['name'])\n",
        "\n",
        "rgbRatingData = pd.concat([rgbData, ratingData, idData, nameData], axis=1)"
      ],
      "execution_count": 4,
      "outputs": []
    },
    {
      "cell_type": "code",
      "metadata": {
        "id": "fPBh4EEx_sla",
        "colab_type": "code",
        "colab": {
          "base_uri": "https://localhost:8080/",
          "height": 419
        },
        "outputId": "3f0c50ca-20cb-4942-c6af-93d19082d66b"
      },
      "source": [
        "df = pd.DataFrame(rgbRatingData)\n",
        "df_sorted = df.sort_values(by=['rating'], ascending=[False])\n",
        "df_extracted = df_sorted[0:3000]\n",
        "df_rgbExtracted = df_extracted.drop(df_extracted.columns[-1], axis=1)\n",
        "df_rgbExtracted = df_rgbExtracted.drop(df_extracted.columns[-2], axis=1)\n",
        "df_rgbExtracted = df_rgbExtracted.drop(df_extracted.columns[-3], axis=1)\n",
        "\n",
        "df_rgbExtracted\n",
        "\n",
        "# df_extracted.to_csv('gdrive/My Drive/colorPOOL/kulerData/matrixData.csv')"
      ],
      "execution_count": 5,
      "outputs": [
        {
          "output_type": "execute_result",
          "data": {
            "text/html": [
              "<div>\n",
              "<style scoped>\n",
              "    .dataframe tbody tr th:only-of-type {\n",
              "        vertical-align: middle;\n",
              "    }\n",
              "\n",
              "    .dataframe tbody tr th {\n",
              "        vertical-align: top;\n",
              "    }\n",
              "\n",
              "    .dataframe thead th {\n",
              "        text-align: right;\n",
              "    }\n",
              "</style>\n",
              "<table border=\"1\" class=\"dataframe\">\n",
              "  <thead>\n",
              "    <tr style=\"text-align: right;\">\n",
              "      <th></th>\n",
              "      <th>R1</th>\n",
              "      <th>R2</th>\n",
              "      <th>R3</th>\n",
              "      <th>R4</th>\n",
              "      <th>R5</th>\n",
              "      <th>G1</th>\n",
              "      <th>G2</th>\n",
              "      <th>G3</th>\n",
              "      <th>G4</th>\n",
              "      <th>G5</th>\n",
              "      <th>B1</th>\n",
              "      <th>B2</th>\n",
              "      <th>B3</th>\n",
              "      <th>B4</th>\n",
              "      <th>B5</th>\n",
              "    </tr>\n",
              "  </thead>\n",
              "  <tbody>\n",
              "    <tr>\n",
              "      <th>44985</th>\n",
              "      <td>0.43922</td>\n",
              "      <td>0.619610</td>\n",
              "      <td>0.45490</td>\n",
              "      <td>0.27843</td>\n",
              "      <td>0.388240</td>\n",
              "      <td>0.286270</td>\n",
              "      <td>0.52157</td>\n",
              "      <td>0.47843</td>\n",
              "      <td>0.27451</td>\n",
              "      <td>0.30196</td>\n",
              "      <td>0.172550</td>\n",
              "      <td>0.270590</td>\n",
              "      <td>0.341180</td>\n",
              "      <td>0.196080</td>\n",
              "      <td>0.16471</td>\n",
              "    </tr>\n",
              "    <tr>\n",
              "      <th>37404</th>\n",
              "      <td>0.05098</td>\n",
              "      <td>0.949020</td>\n",
              "      <td>0.74902</td>\n",
              "      <td>0.68235</td>\n",
              "      <td>0.643140</td>\n",
              "      <td>0.050980</td>\n",
              "      <td>0.94902</td>\n",
              "      <td>0.85098</td>\n",
              "      <td>0.85098</td>\n",
              "      <td>0.85098</td>\n",
              "      <td>0.050980</td>\n",
              "      <td>0.949020</td>\n",
              "      <td>0.721570</td>\n",
              "      <td>0.639220</td>\n",
              "      <td>0.58824</td>\n",
              "    </tr>\n",
              "    <tr>\n",
              "      <th>36535</th>\n",
              "      <td>0.93333</td>\n",
              "      <td>0.850980</td>\n",
              "      <td>0.67059</td>\n",
              "      <td>0.42745</td>\n",
              "      <td>0.317650</td>\n",
              "      <td>0.568630</td>\n",
              "      <td>0.33333</td>\n",
              "      <td>0.74902</td>\n",
              "      <td>0.65098</td>\n",
              "      <td>0.55686</td>\n",
              "      <td>0.058824</td>\n",
              "      <td>0.145100</td>\n",
              "      <td>0.082353</td>\n",
              "      <td>0.090196</td>\n",
              "      <td>0.65098</td>\n",
              "    </tr>\n",
              "    <tr>\n",
              "      <th>4099</th>\n",
              "      <td>0.76863</td>\n",
              "      <td>0.039216</td>\n",
              "      <td>0.80392</td>\n",
              "      <td>0.40000</td>\n",
              "      <td>0.000000</td>\n",
              "      <td>0.000000</td>\n",
              "      <td>0.50980</td>\n",
              "      <td>0.00000</td>\n",
              "      <td>0.25490</td>\n",
              "      <td>0.00000</td>\n",
              "      <td>0.000000</td>\n",
              "      <td>0.756860</td>\n",
              "      <td>0.509800</td>\n",
              "      <td>0.125490</td>\n",
              "      <td>0.00000</td>\n",
              "    </tr>\n",
              "    <tr>\n",
              "      <th>4091</th>\n",
              "      <td>1.00000</td>\n",
              "      <td>0.823530</td>\n",
              "      <td>0.88627</td>\n",
              "      <td>0.67059</td>\n",
              "      <td>0.403920</td>\n",
              "      <td>0.984310</td>\n",
              "      <td>0.76863</td>\n",
              "      <td>0.44314</td>\n",
              "      <td>0.32157</td>\n",
              "      <td>0.21569</td>\n",
              "      <td>0.839220</td>\n",
              "      <td>0.725490</td>\n",
              "      <td>0.215690</td>\n",
              "      <td>0.196080</td>\n",
              "      <td>0.13725</td>\n",
              "    </tr>\n",
              "    <tr>\n",
              "      <th>...</th>\n",
              "      <td>...</td>\n",
              "      <td>...</td>\n",
              "      <td>...</td>\n",
              "      <td>...</td>\n",
              "      <td>...</td>\n",
              "      <td>...</td>\n",
              "      <td>...</td>\n",
              "      <td>...</td>\n",
              "      <td>...</td>\n",
              "      <td>...</td>\n",
              "      <td>...</td>\n",
              "      <td>...</td>\n",
              "      <td>...</td>\n",
              "      <td>...</td>\n",
              "      <td>...</td>\n",
              "    </tr>\n",
              "    <tr>\n",
              "      <th>31263</th>\n",
              "      <td>0.80000</td>\n",
              "      <td>0.980390</td>\n",
              "      <td>0.67451</td>\n",
              "      <td>0.34510</td>\n",
              "      <td>0.164710</td>\n",
              "      <td>0.325490</td>\n",
              "      <td>1.00000</td>\n",
              "      <td>1.00000</td>\n",
              "      <td>0.80000</td>\n",
              "      <td>0.52549</td>\n",
              "      <td>0.513730</td>\n",
              "      <td>0.580390</td>\n",
              "      <td>0.874510</td>\n",
              "      <td>0.623530</td>\n",
              "      <td>0.60000</td>\n",
              "    </tr>\n",
              "    <tr>\n",
              "      <th>31270</th>\n",
              "      <td>0.65098</td>\n",
              "      <td>0.949020</td>\n",
              "      <td>0.94902</td>\n",
              "      <td>0.15294</td>\n",
              "      <td>0.372550</td>\n",
              "      <td>0.545100</td>\n",
              "      <td>0.94902</td>\n",
              "      <td>0.91373</td>\n",
              "      <td>0.17255</td>\n",
              "      <td>0.45098</td>\n",
              "      <td>0.011765</td>\n",
              "      <td>0.949020</td>\n",
              "      <td>0.427450</td>\n",
              "      <td>0.188240</td>\n",
              "      <td>0.40000</td>\n",
              "    </tr>\n",
              "    <tr>\n",
              "      <th>31278</th>\n",
              "      <td>0.85098</td>\n",
              "      <td>0.850980</td>\n",
              "      <td>0.94902</td>\n",
              "      <td>0.47451</td>\n",
              "      <td>0.011765</td>\n",
              "      <td>0.015686</td>\n",
              "      <td>0.40392</td>\n",
              "      <td>0.62353</td>\n",
              "      <td>0.65098</td>\n",
              "      <td>0.58824</td>\n",
              "      <td>0.015686</td>\n",
              "      <td>0.015686</td>\n",
              "      <td>0.019608</td>\n",
              "      <td>0.090196</td>\n",
              "      <td>0.65098</td>\n",
              "    </tr>\n",
              "    <tr>\n",
              "      <th>31279</th>\n",
              "      <td>0.14902</td>\n",
              "      <td>0.549020</td>\n",
              "      <td>0.85098</td>\n",
              "      <td>0.94902</td>\n",
              "      <td>0.949020</td>\n",
              "      <td>0.003922</td>\n",
              "      <td>0.15294</td>\n",
              "      <td>0.41569</td>\n",
              "      <td>0.56863</td>\n",
              "      <td>0.88235</td>\n",
              "      <td>0.003922</td>\n",
              "      <td>0.011765</td>\n",
              "      <td>0.160780</td>\n",
              "      <td>0.239220</td>\n",
              "      <td>0.55294</td>\n",
              "    </tr>\n",
              "    <tr>\n",
              "      <th>31289</th>\n",
              "      <td>0.60784</td>\n",
              "      <td>0.474510</td>\n",
              "      <td>0.32549</td>\n",
              "      <td>0.21176</td>\n",
              "      <td>0.090196</td>\n",
              "      <td>0.756860</td>\n",
              "      <td>0.63922</td>\n",
              "      <td>0.43137</td>\n",
              "      <td>0.29020</td>\n",
              "      <td>0.10196</td>\n",
              "      <td>0.949020</td>\n",
              "      <td>0.850980</td>\n",
              "      <td>0.650980</td>\n",
              "      <td>0.450980</td>\n",
              "      <td>0.12157</td>\n",
              "    </tr>\n",
              "  </tbody>\n",
              "</table>\n",
              "<p>3000 rows × 15 columns</p>\n",
              "</div>"
            ],
            "text/plain": [
              "            R1        R2       R3  ...        B3        B4       B5\n",
              "44985  0.43922  0.619610  0.45490  ...  0.341180  0.196080  0.16471\n",
              "37404  0.05098  0.949020  0.74902  ...  0.721570  0.639220  0.58824\n",
              "36535  0.93333  0.850980  0.67059  ...  0.082353  0.090196  0.65098\n",
              "4099   0.76863  0.039216  0.80392  ...  0.509800  0.125490  0.00000\n",
              "4091   1.00000  0.823530  0.88627  ...  0.215690  0.196080  0.13725\n",
              "...        ...       ...      ...  ...       ...       ...      ...\n",
              "31263  0.80000  0.980390  0.67451  ...  0.874510  0.623530  0.60000\n",
              "31270  0.65098  0.949020  0.94902  ...  0.427450  0.188240  0.40000\n",
              "31278  0.85098  0.850980  0.94902  ...  0.019608  0.090196  0.65098\n",
              "31279  0.14902  0.549020  0.85098  ...  0.160780  0.239220  0.55294\n",
              "31289  0.60784  0.474510  0.32549  ...  0.650980  0.450980  0.12157\n",
              "\n",
              "[3000 rows x 15 columns]"
            ]
          },
          "metadata": {
            "tags": []
          },
          "execution_count": 5
        }
      ]
    },
    {
      "cell_type": "markdown",
      "metadata": {
        "id": "EIu-RJkiE98D",
        "colab_type": "text"
      },
      "source": [
        "# 1. 표본 색채 설정 & 색차 허용치 보정\n",
        "- 표본 색채 설정 이유\n",
        "    - Kuler에서 활용되는 색채들 중 서로 비슷한 색들을 근사하여 분석하기 위해, 인지적으로 균등한 표본 색채를 설정함\n",
        "- 색차 허용치 보정 이유\n",
        "    - 색차 표본간의 거리를 사람이 인식하는 색차와 균등하게 보정하기 위함\n",
        "\n",
        "#### McDonald의 색차 계산식 이용\n",
        "- 이유 : CIE L*a*b 색공간 내에서의 기하학적 거리 ≠ 사람의 인지적 색차\n",
        "    - 방법 : 색차허용치 = 색공간 내 기하학적 거리/(1+0.022(채도값)) = 6.35\n",
        "    - 의의 : 색채 표본간의 거리를 사람이 인식하는 색차와 균등하게 보정 완료\n",
        "- 진행과정 :"
      ]
    },
    {
      "cell_type": "markdown",
      "metadata": {
        "id": "rCIoauyXIHCQ",
        "colab_type": "text"
      },
      "source": [
        "## 1) 데이터 변환\n",
        "- RGB → XYZ → CIE L*a*b"
      ]
    },
    {
      "cell_type": "code",
      "metadata": {
        "id": "9GJEruYLE_49",
        "colab_type": "code",
        "colab": {
          "base_uri": "https://localhost:8080/",
          "height": 419
        },
        "outputId": "8cfcb14b-3f68-4635-a3a8-8538919f3ba2"
      },
      "source": [
        "# 데이터프레임 구조 변환 3000*15 => 15000*3\n",
        "\n",
        "df1=df_rgbExtracted.iloc[:,[0,5,10]].reset_index(drop=True).rename(columns={\"R1\":'R',\"G1\":'G',\"B1\":'B'})\n",
        "df2=df_rgbExtracted.iloc[:,[1,6,11]].reset_index(drop=True).rename(columns={\"R2\":'R',\"G2\":'G',\"B2\":'B'})\n",
        "df3=df_rgbExtracted.iloc[:,[2,7,12]].reset_index(drop=True).rename(columns={\"R3\":'R',\"G3\":'G',\"B3\":'B'})\n",
        "df4=df_rgbExtracted.iloc[:,[3,8,13]].reset_index(drop=True).rename(columns={\"R4\":'R',\"G4\":'G',\"B4\":'B'})\n",
        "df5=df_rgbExtracted.iloc[:,[4,9,14]].reset_index(drop=True).rename(columns={\"R5\":'R',\"G5\":'G',\"B5\":'B'})\n",
        "\n",
        "df_all=pd.concat([df1,df2,df3,df4,df4], axis=0).reset_index(drop=True)\n",
        "df_all"
      ],
      "execution_count": 6,
      "outputs": [
        {
          "output_type": "execute_result",
          "data": {
            "text/html": [
              "<div>\n",
              "<style scoped>\n",
              "    .dataframe tbody tr th:only-of-type {\n",
              "        vertical-align: middle;\n",
              "    }\n",
              "\n",
              "    .dataframe tbody tr th {\n",
              "        vertical-align: top;\n",
              "    }\n",
              "\n",
              "    .dataframe thead th {\n",
              "        text-align: right;\n",
              "    }\n",
              "</style>\n",
              "<table border=\"1\" class=\"dataframe\">\n",
              "  <thead>\n",
              "    <tr style=\"text-align: right;\">\n",
              "      <th></th>\n",
              "      <th>R</th>\n",
              "      <th>G</th>\n",
              "      <th>B</th>\n",
              "    </tr>\n",
              "  </thead>\n",
              "  <tbody>\n",
              "    <tr>\n",
              "      <th>0</th>\n",
              "      <td>0.43922</td>\n",
              "      <td>0.28627</td>\n",
              "      <td>0.172550</td>\n",
              "    </tr>\n",
              "    <tr>\n",
              "      <th>1</th>\n",
              "      <td>0.05098</td>\n",
              "      <td>0.05098</td>\n",
              "      <td>0.050980</td>\n",
              "    </tr>\n",
              "    <tr>\n",
              "      <th>2</th>\n",
              "      <td>0.93333</td>\n",
              "      <td>0.56863</td>\n",
              "      <td>0.058824</td>\n",
              "    </tr>\n",
              "    <tr>\n",
              "      <th>3</th>\n",
              "      <td>0.76863</td>\n",
              "      <td>0.00000</td>\n",
              "      <td>0.000000</td>\n",
              "    </tr>\n",
              "    <tr>\n",
              "      <th>4</th>\n",
              "      <td>1.00000</td>\n",
              "      <td>0.98431</td>\n",
              "      <td>0.839220</td>\n",
              "    </tr>\n",
              "    <tr>\n",
              "      <th>...</th>\n",
              "      <td>...</td>\n",
              "      <td>...</td>\n",
              "      <td>...</td>\n",
              "    </tr>\n",
              "    <tr>\n",
              "      <th>14995</th>\n",
              "      <td>0.34510</td>\n",
              "      <td>0.80000</td>\n",
              "      <td>0.623530</td>\n",
              "    </tr>\n",
              "    <tr>\n",
              "      <th>14996</th>\n",
              "      <td>0.15294</td>\n",
              "      <td>0.17255</td>\n",
              "      <td>0.188240</td>\n",
              "    </tr>\n",
              "    <tr>\n",
              "      <th>14997</th>\n",
              "      <td>0.47451</td>\n",
              "      <td>0.65098</td>\n",
              "      <td>0.090196</td>\n",
              "    </tr>\n",
              "    <tr>\n",
              "      <th>14998</th>\n",
              "      <td>0.94902</td>\n",
              "      <td>0.56863</td>\n",
              "      <td>0.239220</td>\n",
              "    </tr>\n",
              "    <tr>\n",
              "      <th>14999</th>\n",
              "      <td>0.21176</td>\n",
              "      <td>0.29020</td>\n",
              "      <td>0.450980</td>\n",
              "    </tr>\n",
              "  </tbody>\n",
              "</table>\n",
              "<p>15000 rows × 3 columns</p>\n",
              "</div>"
            ],
            "text/plain": [
              "             R        G         B\n",
              "0      0.43922  0.28627  0.172550\n",
              "1      0.05098  0.05098  0.050980\n",
              "2      0.93333  0.56863  0.058824\n",
              "3      0.76863  0.00000  0.000000\n",
              "4      1.00000  0.98431  0.839220\n",
              "...        ...      ...       ...\n",
              "14995  0.34510  0.80000  0.623530\n",
              "14996  0.15294  0.17255  0.188240\n",
              "14997  0.47451  0.65098  0.090196\n",
              "14998  0.94902  0.56863  0.239220\n",
              "14999  0.21176  0.29020  0.450980\n",
              "\n",
              "[15000 rows x 3 columns]"
            ]
          },
          "metadata": {
            "tags": []
          },
          "execution_count": 6
        }
      ]
    },
    {
      "cell_type": "code",
      "metadata": {
        "id": "KPRblrrJF0AY",
        "colab_type": "code",
        "colab": {
          "base_uri": "https://localhost:8080/",
          "height": 241
        },
        "outputId": "6718c18d-2f0f-48f5-f472-db141101a09e"
      },
      "source": [
        "!pip install colormath"
      ],
      "execution_count": 7,
      "outputs": [
        {
          "output_type": "stream",
          "text": [
            "Collecting colormath\n",
            "  Downloading https://files.pythonhosted.org/packages/ce/cf/70ea34103a76cc6fb1892289bda321cd0cc73b1a5500ee7fe9ef9f64acef/colormath-3.0.0.tar.gz\n",
            "Requirement already satisfied: numpy in /usr/local/lib/python3.6/dist-packages (from colormath) (1.18.5)\n",
            "Requirement already satisfied: networkx>=2.0 in /usr/local/lib/python3.6/dist-packages (from colormath) (2.5)\n",
            "Requirement already satisfied: decorator>=4.3.0 in /usr/local/lib/python3.6/dist-packages (from networkx>=2.0->colormath) (4.4.2)\n",
            "Building wheels for collected packages: colormath\n",
            "  Building wheel for colormath (setup.py) ... \u001b[?25l\u001b[?25hdone\n",
            "  Created wheel for colormath: filename=colormath-3.0.0-cp36-none-any.whl size=39392 sha256=886cefd62e0d13c13afdd10e9677bf1433bc28caac6b12f4efb4f34a20f58fd8\n",
            "  Stored in directory: /root/.cache/pip/wheels/20/49/7b/9635bccd6136cc713f623caa85ced89c0c63878f8b2a58fe99\n",
            "Successfully built colormath\n",
            "Installing collected packages: colormath\n",
            "Successfully installed colormath-3.0.0\n"
          ],
          "name": "stdout"
        }
      ]
    },
    {
      "cell_type": "code",
      "metadata": {
        "id": "Nkeo8szBFZEr",
        "colab_type": "code",
        "colab": {}
      },
      "source": [
        "# RGB → XYZ\n",
        "\n",
        "from colormath.color_objects import XYZColor, sRGBColor\n",
        "from colormath.color_conversions import convert_color\n",
        "\n",
        "x=[]\n",
        "y=[]\n",
        "z=[]\n",
        "\n",
        "for i in range(len(df_all)):\n",
        "    rgb = sRGBColor(df_all['R'][i], df_all['G'][i], df_all['B'][i])\n",
        "    xyz = convert_color(rgb, XYZColor, target_illuminant='d50') \n",
        "    x.append(xyz.xyz_x)\n",
        "    y.append(xyz.xyz_y)\n",
        "    z.append(xyz.xyz_z)"
      ],
      "execution_count": 8,
      "outputs": []
    },
    {
      "cell_type": "code",
      "metadata": {
        "id": "JX6DmREIFgmm",
        "colab_type": "code",
        "colab": {
          "base_uri": "https://localhost:8080/",
          "height": 204
        },
        "outputId": "5a5fbabd-faf8-4f89-c7b3-3046786d6206"
      },
      "source": [
        "xyz=pd.DataFrame({\"X\":x,\"Y\":y,\"Z\":z})\n",
        "xyz.head()"
      ],
      "execution_count": 9,
      "outputs": [
        {
          "output_type": "execute_result",
          "data": {
            "text/html": [
              "<div>\n",
              "<style scoped>\n",
              "    .dataframe tbody tr th:only-of-type {\n",
              "        vertical-align: middle;\n",
              "    }\n",
              "\n",
              "    .dataframe tbody tr th {\n",
              "        vertical-align: top;\n",
              "    }\n",
              "\n",
              "    .dataframe thead th {\n",
              "        text-align: right;\n",
              "    }\n",
              "</style>\n",
              "<table border=\"1\" class=\"dataframe\">\n",
              "  <thead>\n",
              "    <tr style=\"text-align: right;\">\n",
              "      <th></th>\n",
              "      <th>X</th>\n",
              "      <th>Y</th>\n",
              "      <th>Z</th>\n",
              "    </tr>\n",
              "  </thead>\n",
              "  <tbody>\n",
              "    <tr>\n",
              "      <th>0</th>\n",
              "      <td>0.099912</td>\n",
              "      <td>0.085339</td>\n",
              "      <td>0.026717</td>\n",
              "    </tr>\n",
              "    <tr>\n",
              "      <th>1</th>\n",
              "      <td>0.003881</td>\n",
              "      <td>0.004025</td>\n",
              "      <td>0.003322</td>\n",
              "    </tr>\n",
              "    <tr>\n",
              "      <th>2</th>\n",
              "      <td>0.482525</td>\n",
              "      <td>0.393500</td>\n",
              "      <td>0.042819</td>\n",
              "    </tr>\n",
              "    <tr>\n",
              "      <th>3</th>\n",
              "      <td>0.240701</td>\n",
              "      <td>0.122816</td>\n",
              "      <td>0.007690</td>\n",
              "    </tr>\n",
              "    <tr>\n",
              "      <th>4</th>\n",
              "      <td>0.903736</td>\n",
              "      <td>0.954817</td>\n",
              "      <td>0.587924</td>\n",
              "    </tr>\n",
              "  </tbody>\n",
              "</table>\n",
              "</div>"
            ],
            "text/plain": [
              "          X         Y         Z\n",
              "0  0.099912  0.085339  0.026717\n",
              "1  0.003881  0.004025  0.003322\n",
              "2  0.482525  0.393500  0.042819\n",
              "3  0.240701  0.122816  0.007690\n",
              "4  0.903736  0.954817  0.587924"
            ]
          },
          "metadata": {
            "tags": []
          },
          "execution_count": 9
        }
      ]
    },
    {
      "cell_type": "code",
      "metadata": {
        "id": "YxUzCCVfGNIS",
        "colab_type": "code",
        "colab": {
          "base_uri": "https://localhost:8080/",
          "height": 34
        },
        "outputId": "55cd5022-f0ad-47a4-90e0-348e398c4f11"
      },
      "source": [
        "!pip install -q colour-science"
      ],
      "execution_count": 10,
      "outputs": [
        {
          "output_type": "stream",
          "text": [
            "\u001b[?25l\r\u001b[K     |▏                               | 10kB 22.5MB/s eta 0:00:01\r\u001b[K     |▍                               | 20kB 6.4MB/s eta 0:00:01\r\u001b[K     |▋                               | 30kB 7.5MB/s eta 0:00:01\r\u001b[K     |▉                               | 40kB 7.4MB/s eta 0:00:01\r\u001b[K     |█                               | 51kB 6.7MB/s eta 0:00:01\r\u001b[K     |█▎                              | 61kB 7.3MB/s eta 0:00:01\r\u001b[K     |█▍                              | 71kB 7.8MB/s eta 0:00:01\r\u001b[K     |█▋                              | 81kB 8.7MB/s eta 0:00:01\r\u001b[K     |█▉                              | 92kB 7.8MB/s eta 0:00:01\r\u001b[K     |██                              | 102kB 8.0MB/s eta 0:00:01\r\u001b[K     |██▎                             | 112kB 8.0MB/s eta 0:00:01\r\u001b[K     |██▌                             | 122kB 8.0MB/s eta 0:00:01\r\u001b[K     |██▊                             | 133kB 8.0MB/s eta 0:00:01\r\u001b[K     |██▉                             | 143kB 8.0MB/s eta 0:00:01\r\u001b[K     |███                             | 153kB 8.0MB/s eta 0:00:01\r\u001b[K     |███▎                            | 163kB 8.0MB/s eta 0:00:01\r\u001b[K     |███▌                            | 174kB 8.0MB/s eta 0:00:01\r\u001b[K     |███▊                            | 184kB 8.0MB/s eta 0:00:01\r\u001b[K     |████                            | 194kB 8.0MB/s eta 0:00:01\r\u001b[K     |████▏                           | 204kB 8.0MB/s eta 0:00:01\r\u001b[K     |████▎                           | 215kB 8.0MB/s eta 0:00:01\r\u001b[K     |████▌                           | 225kB 8.0MB/s eta 0:00:01\r\u001b[K     |████▊                           | 235kB 8.0MB/s eta 0:00:01\r\u001b[K     |█████                           | 245kB 8.0MB/s eta 0:00:01\r\u001b[K     |█████▏                          | 256kB 8.0MB/s eta 0:00:01\r\u001b[K     |█████▍                          | 266kB 8.0MB/s eta 0:00:01\r\u001b[K     |█████▌                          | 276kB 8.0MB/s eta 0:00:01\r\u001b[K     |█████▊                          | 286kB 8.0MB/s eta 0:00:01\r\u001b[K     |██████                          | 296kB 8.0MB/s eta 0:00:01\r\u001b[K     |██████▏                         | 307kB 8.0MB/s eta 0:00:01\r\u001b[K     |██████▍                         | 317kB 8.0MB/s eta 0:00:01\r\u001b[K     |██████▋                         | 327kB 8.0MB/s eta 0:00:01\r\u001b[K     |██████▉                         | 337kB 8.0MB/s eta 0:00:01\r\u001b[K     |███████                         | 348kB 8.0MB/s eta 0:00:01\r\u001b[K     |███████▏                        | 358kB 8.0MB/s eta 0:00:01\r\u001b[K     |███████▍                        | 368kB 8.0MB/s eta 0:00:01\r\u001b[K     |███████▋                        | 378kB 8.0MB/s eta 0:00:01\r\u001b[K     |███████▉                        | 389kB 8.0MB/s eta 0:00:01\r\u001b[K     |████████                        | 399kB 8.0MB/s eta 0:00:01\r\u001b[K     |████████▎                       | 409kB 8.0MB/s eta 0:00:01\r\u001b[K     |████████▍                       | 419kB 8.0MB/s eta 0:00:01\r\u001b[K     |████████▋                       | 430kB 8.0MB/s eta 0:00:01\r\u001b[K     |████████▉                       | 440kB 8.0MB/s eta 0:00:01\r\u001b[K     |█████████                       | 450kB 8.0MB/s eta 0:00:01\r\u001b[K     |█████████▎                      | 460kB 8.0MB/s eta 0:00:01\r\u001b[K     |█████████▌                      | 471kB 8.0MB/s eta 0:00:01\r\u001b[K     |█████████▊                      | 481kB 8.0MB/s eta 0:00:01\r\u001b[K     |█████████▉                      | 491kB 8.0MB/s eta 0:00:01\r\u001b[K     |██████████                      | 501kB 8.0MB/s eta 0:00:01\r\u001b[K     |██████████▎                     | 512kB 8.0MB/s eta 0:00:01\r\u001b[K     |██████████▌                     | 522kB 8.0MB/s eta 0:00:01\r\u001b[K     |██████████▊                     | 532kB 8.0MB/s eta 0:00:01\r\u001b[K     |███████████                     | 542kB 8.0MB/s eta 0:00:01\r\u001b[K     |███████████                     | 552kB 8.0MB/s eta 0:00:01\r\u001b[K     |███████████▎                    | 563kB 8.0MB/s eta 0:00:01\r\u001b[K     |███████████▌                    | 573kB 8.0MB/s eta 0:00:01\r\u001b[K     |███████████▊                    | 583kB 8.0MB/s eta 0:00:01\r\u001b[K     |████████████                    | 593kB 8.0MB/s eta 0:00:01\r\u001b[K     |████████████▏                   | 604kB 8.0MB/s eta 0:00:01\r\u001b[K     |████████████▍                   | 614kB 8.0MB/s eta 0:00:01\r\u001b[K     |████████████▌                   | 624kB 8.0MB/s eta 0:00:01\r\u001b[K     |████████████▊                   | 634kB 8.0MB/s eta 0:00:01\r\u001b[K     |█████████████                   | 645kB 8.0MB/s eta 0:00:01\r\u001b[K     |█████████████▏                  | 655kB 8.0MB/s eta 0:00:01\r\u001b[K     |█████████████▍                  | 665kB 8.0MB/s eta 0:00:01\r\u001b[K     |█████████████▋                  | 675kB 8.0MB/s eta 0:00:01\r\u001b[K     |█████████████▉                  | 686kB 8.0MB/s eta 0:00:01\r\u001b[K     |██████████████                  | 696kB 8.0MB/s eta 0:00:01\r\u001b[K     |██████████████▏                 | 706kB 8.0MB/s eta 0:00:01\r\u001b[K     |██████████████▍                 | 716kB 8.0MB/s eta 0:00:01\r\u001b[K     |██████████████▋                 | 727kB 8.0MB/s eta 0:00:01\r\u001b[K     |██████████████▉                 | 737kB 8.0MB/s eta 0:00:01\r\u001b[K     |███████████████                 | 747kB 8.0MB/s eta 0:00:01\r\u001b[K     |███████████████▏                | 757kB 8.0MB/s eta 0:00:01\r\u001b[K     |███████████████▍                | 768kB 8.0MB/s eta 0:00:01\r\u001b[K     |███████████████▋                | 778kB 8.0MB/s eta 0:00:01\r\u001b[K     |███████████████▉                | 788kB 8.0MB/s eta 0:00:01\r\u001b[K     |████████████████                | 798kB 8.0MB/s eta 0:00:01\r\u001b[K     |████████████████▎               | 808kB 8.0MB/s eta 0:00:01\r\u001b[K     |████████████████▌               | 819kB 8.0MB/s eta 0:00:01\r\u001b[K     |████████████████▋               | 829kB 8.0MB/s eta 0:00:01\r\u001b[K     |████████████████▉               | 839kB 8.0MB/s eta 0:00:01\r\u001b[K     |█████████████████               | 849kB 8.0MB/s eta 0:00:01\r\u001b[K     |█████████████████▎              | 860kB 8.0MB/s eta 0:00:01\r\u001b[K     |█████████████████▌              | 870kB 8.0MB/s eta 0:00:01\r\u001b[K     |█████████████████▊              | 880kB 8.0MB/s eta 0:00:01\r\u001b[K     |██████████████████              | 890kB 8.0MB/s eta 0:00:01\r\u001b[K     |██████████████████              | 901kB 8.0MB/s eta 0:00:01\r\u001b[K     |██████████████████▎             | 911kB 8.0MB/s eta 0:00:01\r\u001b[K     |██████████████████▌             | 921kB 8.0MB/s eta 0:00:01\r\u001b[K     |██████████████████▊             | 931kB 8.0MB/s eta 0:00:01\r\u001b[K     |███████████████████             | 942kB 8.0MB/s eta 0:00:01\r\u001b[K     |███████████████████▏            | 952kB 8.0MB/s eta 0:00:01\r\u001b[K     |███████████████████▍            | 962kB 8.0MB/s eta 0:00:01\r\u001b[K     |███████████████████▌            | 972kB 8.0MB/s eta 0:00:01\r\u001b[K     |███████████████████▊            | 983kB 8.0MB/s eta 0:00:01\r\u001b[K     |████████████████████            | 993kB 8.0MB/s eta 0:00:01\r\u001b[K     |████████████████████▏           | 1.0MB 8.0MB/s eta 0:00:01\r\u001b[K     |████████████████████▍           | 1.0MB 8.0MB/s eta 0:00:01\r\u001b[K     |████████████████████▋           | 1.0MB 8.0MB/s eta 0:00:01\r\u001b[K     |████████████████████▊           | 1.0MB 8.0MB/s eta 0:00:01\r\u001b[K     |█████████████████████           | 1.0MB 8.0MB/s eta 0:00:01\r\u001b[K     |█████████████████████▏          | 1.1MB 8.0MB/s eta 0:00:01\r\u001b[K     |█████████████████████▍          | 1.1MB 8.0MB/s eta 0:00:01\r\u001b[K     |█████████████████████▋          | 1.1MB 8.0MB/s eta 0:00:01\r\u001b[K     |█████████████████████▉          | 1.1MB 8.0MB/s eta 0:00:01\r\u001b[K     |██████████████████████          | 1.1MB 8.0MB/s eta 0:00:01\r\u001b[K     |██████████████████████▏         | 1.1MB 8.0MB/s eta 0:00:01\r\u001b[K     |██████████████████████▍         | 1.1MB 8.0MB/s eta 0:00:01\r\u001b[K     |██████████████████████▋         | 1.1MB 8.0MB/s eta 0:00:01\r\u001b[K     |██████████████████████▉         | 1.1MB 8.0MB/s eta 0:00:01\r\u001b[K     |███████████████████████         | 1.1MB 8.0MB/s eta 0:00:01\r\u001b[K     |███████████████████████▎        | 1.2MB 8.0MB/s eta 0:00:01\r\u001b[K     |███████████████████████▌        | 1.2MB 8.0MB/s eta 0:00:01\r\u001b[K     |███████████████████████▋        | 1.2MB 8.0MB/s eta 0:00:01\r\u001b[K     |███████████████████████▉        | 1.2MB 8.0MB/s eta 0:00:01\r\u001b[K     |████████████████████████        | 1.2MB 8.0MB/s eta 0:00:01\r\u001b[K     |████████████████████████▎       | 1.2MB 8.0MB/s eta 0:00:01\r\u001b[K     |████████████████████████▌       | 1.2MB 8.0MB/s eta 0:00:01\r\u001b[K     |████████████████████████▊       | 1.2MB 8.0MB/s eta 0:00:01\r\u001b[K     |████████████████████████▉       | 1.2MB 8.0MB/s eta 0:00:01\r\u001b[K     |█████████████████████████       | 1.2MB 8.0MB/s eta 0:00:01\r\u001b[K     |█████████████████████████▎      | 1.3MB 8.0MB/s eta 0:00:01\r\u001b[K     |█████████████████████████▌      | 1.3MB 8.0MB/s eta 0:00:01\r\u001b[K     |█████████████████████████▊      | 1.3MB 8.0MB/s eta 0:00:01\r\u001b[K     |██████████████████████████      | 1.3MB 8.0MB/s eta 0:00:01\r\u001b[K     |██████████████████████████▏     | 1.3MB 8.0MB/s eta 0:00:01\r\u001b[K     |██████████████████████████▎     | 1.3MB 8.0MB/s eta 0:00:01\r\u001b[K     |██████████████████████████▌     | 1.3MB 8.0MB/s eta 0:00:01\r\u001b[K     |██████████████████████████▊     | 1.3MB 8.0MB/s eta 0:00:01\r\u001b[K     |███████████████████████████     | 1.3MB 8.0MB/s eta 0:00:01\r\u001b[K     |███████████████████████████▏    | 1.4MB 8.0MB/s eta 0:00:01\r\u001b[K     |███████████████████████████▍    | 1.4MB 8.0MB/s eta 0:00:01\r\u001b[K     |███████████████████████████▋    | 1.4MB 8.0MB/s eta 0:00:01\r\u001b[K     |███████████████████████████▊    | 1.4MB 8.0MB/s eta 0:00:01\r\u001b[K     |████████████████████████████    | 1.4MB 8.0MB/s eta 0:00:01\r\u001b[K     |████████████████████████████▏   | 1.4MB 8.0MB/s eta 0:00:01\r\u001b[K     |████████████████████████████▍   | 1.4MB 8.0MB/s eta 0:00:01\r\u001b[K     |████████████████████████████▋   | 1.4MB 8.0MB/s eta 0:00:01\r\u001b[K     |████████████████████████████▉   | 1.4MB 8.0MB/s eta 0:00:01\r\u001b[K     |█████████████████████████████   | 1.4MB 8.0MB/s eta 0:00:01\r\u001b[K     |█████████████████████████████▏  | 1.5MB 8.0MB/s eta 0:00:01\r\u001b[K     |█████████████████████████████▍  | 1.5MB 8.0MB/s eta 0:00:01\r\u001b[K     |█████████████████████████████▋  | 1.5MB 8.0MB/s eta 0:00:01\r\u001b[K     |█████████████████████████████▉  | 1.5MB 8.0MB/s eta 0:00:01\r\u001b[K     |██████████████████████████████  | 1.5MB 8.0MB/s eta 0:00:01\r\u001b[K     |██████████████████████████████▎ | 1.5MB 8.0MB/s eta 0:00:01\r\u001b[K     |██████████████████████████████▍ | 1.5MB 8.0MB/s eta 0:00:01\r\u001b[K     |██████████████████████████████▋ | 1.5MB 8.0MB/s eta 0:00:01\r\u001b[K     |██████████████████████████████▉ | 1.5MB 8.0MB/s eta 0:00:01\r\u001b[K     |███████████████████████████████ | 1.5MB 8.0MB/s eta 0:00:01\r\u001b[K     |███████████████████████████████▎| 1.6MB 8.0MB/s eta 0:00:01\r\u001b[K     |███████████████████████████████▌| 1.6MB 8.0MB/s eta 0:00:01\r\u001b[K     |███████████████████████████████▊| 1.6MB 8.0MB/s eta 0:00:01\r\u001b[K     |███████████████████████████████▉| 1.6MB 8.0MB/s eta 0:00:01\r\u001b[K     |████████████████████████████████| 1.6MB 8.0MB/s \n",
            "\u001b[?25h"
          ],
          "name": "stdout"
        }
      ]
    },
    {
      "cell_type": "code",
      "metadata": {
        "id": "20Cn0I4HF6Up",
        "colab_type": "code",
        "colab": {}
      },
      "source": [
        "# XYZ → CIE Lab\n",
        "\n",
        "import colour\n",
        "\n",
        "l=[]\n",
        "a=[]\n",
        "b=[]\n",
        "\n",
        "for i in range(len(xyz)):\n",
        "    lab = colour.XYZ_to_Lab([xyz['X'][i], xyz['Y'][i], xyz['Z'][i]])\n",
        "\n",
        "    l.append(lab[0])\n",
        "    a.append(lab[1])\n",
        "    b.append(lab[2])"
      ],
      "execution_count": 11,
      "outputs": []
    },
    {
      "cell_type": "code",
      "metadata": {
        "id": "MkDJiiAjGLkC",
        "colab_type": "code",
        "colab": {
          "base_uri": "https://localhost:8080/",
          "height": 419
        },
        "outputId": "2ebbb4a3-3333-4e99-b6f8-b336100aa140"
      },
      "source": [
        "lab = pd.DataFrame({\"L\":l,\"a\":a,\"b\":b})\n",
        "lab"
      ],
      "execution_count": 12,
      "outputs": [
        {
          "output_type": "execute_result",
          "data": {
            "text/html": [
              "<div>\n",
              "<style scoped>\n",
              "    .dataframe tbody tr th:only-of-type {\n",
              "        vertical-align: middle;\n",
              "    }\n",
              "\n",
              "    .dataframe tbody tr th {\n",
              "        vertical-align: top;\n",
              "    }\n",
              "\n",
              "    .dataframe thead th {\n",
              "        text-align: right;\n",
              "    }\n",
              "</style>\n",
              "<table border=\"1\" class=\"dataframe\">\n",
              "  <thead>\n",
              "    <tr style=\"text-align: right;\">\n",
              "      <th></th>\n",
              "      <th>L</th>\n",
              "      <th>a</th>\n",
              "      <th>b</th>\n",
              "    </tr>\n",
              "  </thead>\n",
              "  <tbody>\n",
              "    <tr>\n",
              "      <th>0</th>\n",
              "      <td>35.070886</td>\n",
              "      <td>15.841340</td>\n",
              "      <td>29.939625</td>\n",
              "    </tr>\n",
              "    <tr>\n",
              "      <th>1</th>\n",
              "      <td>3.635469</td>\n",
              "      <td>0.226806</td>\n",
              "      <td>1.517953</td>\n",
              "    </tr>\n",
              "    <tr>\n",
              "      <th>2</th>\n",
              "      <td>69.004011</td>\n",
              "      <td>32.474404</td>\n",
              "      <td>78.551124</td>\n",
              "    </tr>\n",
              "    <tr>\n",
              "      <th>3</th>\n",
              "      <td>41.660251</td>\n",
              "      <td>67.802908</td>\n",
              "      <td>60.830670</td>\n",
              "    </tr>\n",
              "    <tr>\n",
              "      <th>4</th>\n",
              "      <td>98.225945</td>\n",
              "      <td>-0.683832</td>\n",
              "      <td>34.091692</td>\n",
              "    </tr>\n",
              "    <tr>\n",
              "      <th>...</th>\n",
              "      <td>...</td>\n",
              "      <td>...</td>\n",
              "      <td>...</td>\n",
              "    </tr>\n",
              "    <tr>\n",
              "      <th>14995</th>\n",
              "      <td>74.546928</td>\n",
              "      <td>-40.763407</td>\n",
              "      <td>24.887424</td>\n",
              "    </tr>\n",
              "    <tr>\n",
              "      <th>14996</th>\n",
              "      <td>17.627638</td>\n",
              "      <td>-0.797361</td>\n",
              "      <td>2.030083</td>\n",
              "    </tr>\n",
              "    <tr>\n",
              "      <th>14997</th>\n",
              "      <td>63.046363</td>\n",
              "      <td>-28.491513</td>\n",
              "      <td>66.729849</td>\n",
              "    </tr>\n",
              "    <tr>\n",
              "      <th>14998</th>\n",
              "      <td>69.708712</td>\n",
              "      <td>34.969050</td>\n",
              "      <td>66.456883</td>\n",
              "    </tr>\n",
              "    <tr>\n",
              "      <th>14999</th>\n",
              "      <td>31.275859</td>\n",
              "      <td>2.758294</td>\n",
              "      <td>-16.869222</td>\n",
              "    </tr>\n",
              "  </tbody>\n",
              "</table>\n",
              "<p>15000 rows × 3 columns</p>\n",
              "</div>"
            ],
            "text/plain": [
              "               L          a          b\n",
              "0      35.070886  15.841340  29.939625\n",
              "1       3.635469   0.226806   1.517953\n",
              "2      69.004011  32.474404  78.551124\n",
              "3      41.660251  67.802908  60.830670\n",
              "4      98.225945  -0.683832  34.091692\n",
              "...          ...        ...        ...\n",
              "14995  74.546928 -40.763407  24.887424\n",
              "14996  17.627638  -0.797361   2.030083\n",
              "14997  63.046363 -28.491513  66.729849\n",
              "14998  69.708712  34.969050  66.456883\n",
              "14999  31.275859   2.758294 -16.869222\n",
              "\n",
              "[15000 rows x 3 columns]"
            ]
          },
          "metadata": {
            "tags": []
          },
          "execution_count": 12
        }
      ]
    },
    {
      "cell_type": "markdown",
      "metadata": {
        "id": "_sS1aJf4IBLU",
        "colab_type": "text"
      },
      "source": [
        "## 2) 데이터 양자화\n"
      ]
    },
    {
      "cell_type": "code",
      "metadata": {
        "id": "tQ1zT5spGWiP",
        "colab_type": "code",
        "colab": {}
      },
      "source": [
        "# quantize\n",
        "\n",
        "def quant(x):\n",
        "    if x % 5 == 0:\n",
        "        return int(x)\n",
        "    else:\n",
        "        return int(int((x + 5) / 5) * 5)\n",
        "\n",
        "quant_l = []\n",
        "quant_a = []\n",
        "quant_b = []\n",
        "\n",
        "for i in range(len(lab)):\n",
        "    quant_l.append(quant(lab.L[i]))\n",
        "    quant_a.append(quant(lab.a[i]))\n",
        "    quant_b.append(quant(lab.b[i]))"
      ],
      "execution_count": 13,
      "outputs": []
    },
    {
      "cell_type": "code",
      "metadata": {
        "id": "KKZLpcU1ITYl",
        "colab_type": "code",
        "colab": {
          "base_uri": "https://localhost:8080/",
          "height": 419
        },
        "outputId": "fe4a282a-f5a5-4081-c372-af710ec103a9"
      },
      "source": [
        "quant_lab = pd.DataFrame({\"L\" : quant_l, \"a\" : quant_a, \"b\": quant_b})\n",
        "quant_lab"
      ],
      "execution_count": 14,
      "outputs": [
        {
          "output_type": "execute_result",
          "data": {
            "text/html": [
              "<div>\n",
              "<style scoped>\n",
              "    .dataframe tbody tr th:only-of-type {\n",
              "        vertical-align: middle;\n",
              "    }\n",
              "\n",
              "    .dataframe tbody tr th {\n",
              "        vertical-align: top;\n",
              "    }\n",
              "\n",
              "    .dataframe thead th {\n",
              "        text-align: right;\n",
              "    }\n",
              "</style>\n",
              "<table border=\"1\" class=\"dataframe\">\n",
              "  <thead>\n",
              "    <tr style=\"text-align: right;\">\n",
              "      <th></th>\n",
              "      <th>L</th>\n",
              "      <th>a</th>\n",
              "      <th>b</th>\n",
              "    </tr>\n",
              "  </thead>\n",
              "  <tbody>\n",
              "    <tr>\n",
              "      <th>0</th>\n",
              "      <td>40</td>\n",
              "      <td>20</td>\n",
              "      <td>30</td>\n",
              "    </tr>\n",
              "    <tr>\n",
              "      <th>1</th>\n",
              "      <td>5</td>\n",
              "      <td>5</td>\n",
              "      <td>5</td>\n",
              "    </tr>\n",
              "    <tr>\n",
              "      <th>2</th>\n",
              "      <td>70</td>\n",
              "      <td>35</td>\n",
              "      <td>80</td>\n",
              "    </tr>\n",
              "    <tr>\n",
              "      <th>3</th>\n",
              "      <td>45</td>\n",
              "      <td>70</td>\n",
              "      <td>65</td>\n",
              "    </tr>\n",
              "    <tr>\n",
              "      <th>4</th>\n",
              "      <td>100</td>\n",
              "      <td>0</td>\n",
              "      <td>35</td>\n",
              "    </tr>\n",
              "    <tr>\n",
              "      <th>...</th>\n",
              "      <td>...</td>\n",
              "      <td>...</td>\n",
              "      <td>...</td>\n",
              "    </tr>\n",
              "    <tr>\n",
              "      <th>14995</th>\n",
              "      <td>75</td>\n",
              "      <td>-35</td>\n",
              "      <td>25</td>\n",
              "    </tr>\n",
              "    <tr>\n",
              "      <th>14996</th>\n",
              "      <td>20</td>\n",
              "      <td>0</td>\n",
              "      <td>5</td>\n",
              "    </tr>\n",
              "    <tr>\n",
              "      <th>14997</th>\n",
              "      <td>65</td>\n",
              "      <td>-20</td>\n",
              "      <td>70</td>\n",
              "    </tr>\n",
              "    <tr>\n",
              "      <th>14998</th>\n",
              "      <td>70</td>\n",
              "      <td>35</td>\n",
              "      <td>70</td>\n",
              "    </tr>\n",
              "    <tr>\n",
              "      <th>14999</th>\n",
              "      <td>35</td>\n",
              "      <td>5</td>\n",
              "      <td>-10</td>\n",
              "    </tr>\n",
              "  </tbody>\n",
              "</table>\n",
              "<p>15000 rows × 3 columns</p>\n",
              "</div>"
            ],
            "text/plain": [
              "         L   a   b\n",
              "0       40  20  30\n",
              "1        5   5   5\n",
              "2       70  35  80\n",
              "3       45  70  65\n",
              "4      100   0  35\n",
              "...    ...  ..  ..\n",
              "14995   75 -35  25\n",
              "14996   20   0   5\n",
              "14997   65 -20  70\n",
              "14998   70  35  70\n",
              "14999   35   5 -10\n",
              "\n",
              "[15000 rows x 3 columns]"
            ]
          },
          "metadata": {
            "tags": []
          },
          "execution_count": 14
        }
      ]
    },
    {
      "cell_type": "code",
      "metadata": {
        "id": "8Sb0rpUoIZ1Z",
        "colab_type": "code",
        "colab": {}
      },
      "source": [
        "# 적정 dEh 값과 비교하기 위한 테스트 진행\n",
        "# Cab = (a ** 2 + b ** 2) ** 1/2\n",
        "# dEh = dE / (1 + 0.022 * Cab)\n",
        "\n",
        "dE = []\n",
        "\n",
        "for i in range(len(lab)):\n",
        "    previous = [lab.L[i], lab.a[i], lab.b[i]]\n",
        "    next = [quant_lab.L[i], quant_lab.a[i], quant_lab.b[i],]\n",
        "\n",
        "    de = colour.delta_E(previous, next, method='CIE 2000')\n",
        "    dE.append(de)"
      ],
      "execution_count": 15,
      "outputs": []
    },
    {
      "cell_type": "code",
      "metadata": {
        "id": "LWHtoQIwIlJH",
        "colab_type": "code",
        "colab": {}
      },
      "source": [
        "cab = []\n",
        "\n",
        "for i in range(len(lab)):\n",
        "    cal = (lab.a[i] ** 2 + lab.b[i] ** 2) ** 1/2\n",
        "    cab.append(cal)"
      ],
      "execution_count": 16,
      "outputs": []
    },
    {
      "cell_type": "code",
      "metadata": {
        "id": "URBFecKuIpjW",
        "colab_type": "code",
        "colab": {
          "base_uri": "https://localhost:8080/",
          "height": 419
        },
        "outputId": "830ed82c-cc1a-4042-c9dd-ea66dfa6a939"
      },
      "source": [
        "tmp = pd.DataFrame({\"dE\": dE, \"Cab\" : cab})\n",
        "tmp"
      ],
      "execution_count": 17,
      "outputs": [
        {
          "output_type": "execute_result",
          "data": {
            "text/html": [
              "<div>\n",
              "<style scoped>\n",
              "    .dataframe tbody tr th:only-of-type {\n",
              "        vertical-align: middle;\n",
              "    }\n",
              "\n",
              "    .dataframe tbody tr th {\n",
              "        vertical-align: top;\n",
              "    }\n",
              "\n",
              "    .dataframe thead th {\n",
              "        text-align: right;\n",
              "    }\n",
              "</style>\n",
              "<table border=\"1\" class=\"dataframe\">\n",
              "  <thead>\n",
              "    <tr style=\"text-align: right;\">\n",
              "      <th></th>\n",
              "      <th>dE</th>\n",
              "      <th>Cab</th>\n",
              "    </tr>\n",
              "  </thead>\n",
              "  <tbody>\n",
              "    <tr>\n",
              "      <th>0</th>\n",
              "      <td>5.069017</td>\n",
              "      <td>573.664600</td>\n",
              "    </tr>\n",
              "    <tr>\n",
              "      <th>1</th>\n",
              "      <td>6.630312</td>\n",
              "      <td>1.177812</td>\n",
              "    </tr>\n",
              "    <tr>\n",
              "      <th>2</th>\n",
              "      <td>1.347346</td>\n",
              "      <td>3612.433003</td>\n",
              "    </tr>\n",
              "    <tr>\n",
              "      <th>3</th>\n",
              "      <td>3.300368</td>\n",
              "      <td>4148.802352</td>\n",
              "    </tr>\n",
              "    <tr>\n",
              "      <th>4</th>\n",
              "      <td>1.208111</td>\n",
              "      <td>581.355545</td>\n",
              "    </tr>\n",
              "    <tr>\n",
              "      <th>...</th>\n",
              "      <td>...</td>\n",
              "      <td>...</td>\n",
              "    </tr>\n",
              "    <tr>\n",
              "      <th>14995</th>\n",
              "      <td>2.321504</td>\n",
              "      <td>1140.519609</td>\n",
              "    </tr>\n",
              "    <tr>\n",
              "      <th>14996</th>\n",
              "      <td>3.280936</td>\n",
              "      <td>2.378510</td>\n",
              "    </tr>\n",
              "    <tr>\n",
              "      <th>14997</th>\n",
              "      <td>4.923121</td>\n",
              "      <td>2632.319556</td>\n",
              "    </tr>\n",
              "    <tr>\n",
              "      <th>14998</th>\n",
              "      <td>1.198079</td>\n",
              "      <td>2819.675865</td>\n",
              "    </tr>\n",
              "    <tr>\n",
              "      <th>14999</th>\n",
              "      <td>6.941460</td>\n",
              "      <td>146.089424</td>\n",
              "    </tr>\n",
              "  </tbody>\n",
              "</table>\n",
              "<p>15000 rows × 2 columns</p>\n",
              "</div>"
            ],
            "text/plain": [
              "             dE          Cab\n",
              "0      5.069017   573.664600\n",
              "1      6.630312     1.177812\n",
              "2      1.347346  3612.433003\n",
              "3      3.300368  4148.802352\n",
              "4      1.208111   581.355545\n",
              "...         ...          ...\n",
              "14995  2.321504  1140.519609\n",
              "14996  3.280936     2.378510\n",
              "14997  4.923121  2632.319556\n",
              "14998  1.198079  2819.675865\n",
              "14999  6.941460   146.089424\n",
              "\n",
              "[15000 rows x 2 columns]"
            ]
          },
          "metadata": {
            "tags": []
          },
          "execution_count": 17
        }
      ]
    },
    {
      "cell_type": "code",
      "metadata": {
        "id": "h5763ehdIqLa",
        "colab_type": "code",
        "colab": {}
      },
      "source": [
        "deh = []\n",
        "for i in range(len(tmp)):\n",
        "    cal = tmp.dE[i] / (1 + 0.022 * tmp.Cab[i])\n",
        "    deh.append(cal)"
      ],
      "execution_count": 18,
      "outputs": []
    },
    {
      "cell_type": "code",
      "metadata": {
        "id": "PIu6NFzwI7bH",
        "colab_type": "code",
        "colab": {
          "base_uri": "https://localhost:8080/",
          "height": 419
        },
        "outputId": "a0f2860f-1907-492b-e8c7-d9c217a93b2e"
      },
      "source": [
        "deh = pd.DataFrame(data=deh, columns=['dEh'])\n",
        "deh"
      ],
      "execution_count": 19,
      "outputs": [
        {
          "output_type": "execute_result",
          "data": {
            "text/html": [
              "<div>\n",
              "<style scoped>\n",
              "    .dataframe tbody tr th:only-of-type {\n",
              "        vertical-align: middle;\n",
              "    }\n",
              "\n",
              "    .dataframe tbody tr th {\n",
              "        vertical-align: top;\n",
              "    }\n",
              "\n",
              "    .dataframe thead th {\n",
              "        text-align: right;\n",
              "    }\n",
              "</style>\n",
              "<table border=\"1\" class=\"dataframe\">\n",
              "  <thead>\n",
              "    <tr style=\"text-align: right;\">\n",
              "      <th></th>\n",
              "      <th>dEh</th>\n",
              "    </tr>\n",
              "  </thead>\n",
              "  <tbody>\n",
              "    <tr>\n",
              "      <th>0</th>\n",
              "      <td>0.372158</td>\n",
              "    </tr>\n",
              "    <tr>\n",
              "      <th>1</th>\n",
              "      <td>6.462847</td>\n",
              "    </tr>\n",
              "    <tr>\n",
              "      <th>2</th>\n",
              "      <td>0.016743</td>\n",
              "    </tr>\n",
              "    <tr>\n",
              "      <th>3</th>\n",
              "      <td>0.035767</td>\n",
              "    </tr>\n",
              "    <tr>\n",
              "      <th>4</th>\n",
              "      <td>0.087609</td>\n",
              "    </tr>\n",
              "    <tr>\n",
              "      <th>...</th>\n",
              "      <td>...</td>\n",
              "    </tr>\n",
              "    <tr>\n",
              "      <th>14995</th>\n",
              "      <td>0.088976</td>\n",
              "    </tr>\n",
              "    <tr>\n",
              "      <th>14996</th>\n",
              "      <td>3.117790</td>\n",
              "    </tr>\n",
              "    <tr>\n",
              "      <th>14997</th>\n",
              "      <td>0.083569</td>\n",
              "    </tr>\n",
              "    <tr>\n",
              "      <th>14998</th>\n",
              "      <td>0.019007</td>\n",
              "    </tr>\n",
              "    <tr>\n",
              "      <th>14999</th>\n",
              "      <td>1.647251</td>\n",
              "    </tr>\n",
              "  </tbody>\n",
              "</table>\n",
              "<p>15000 rows × 1 columns</p>\n",
              "</div>"
            ],
            "text/plain": [
              "            dEh\n",
              "0      0.372158\n",
              "1      6.462847\n",
              "2      0.016743\n",
              "3      0.035767\n",
              "4      0.087609\n",
              "...         ...\n",
              "14995  0.088976\n",
              "14996  3.117790\n",
              "14997  0.083569\n",
              "14998  0.019007\n",
              "14999  1.647251\n",
              "\n",
              "[15000 rows x 1 columns]"
            ]
          },
          "metadata": {
            "tags": []
          },
          "execution_count": 19
        }
      ]
    },
    {
      "cell_type": "code",
      "metadata": {
        "id": "6EYkV-ZhI8Tt",
        "colab_type": "code",
        "colab": {
          "base_uri": "https://localhost:8080/",
          "height": 51
        },
        "outputId": "7115cbb2-7ebe-480f-fad9-6d0daf9bbb4b"
      },
      "source": [
        "# 평균\n",
        "deh.mean() # 0.914265"
      ],
      "execution_count": 20,
      "outputs": [
        {
          "output_type": "execute_result",
          "data": {
            "text/plain": [
              "dEh    0.914265\n",
              "dtype: float64"
            ]
          },
          "metadata": {
            "tags": []
          },
          "execution_count": 20
        }
      ]
    },
    {
      "cell_type": "code",
      "metadata": {
        "id": "kID2MdEjJ7x6",
        "colab_type": "code",
        "colab": {
          "base_uri": "https://localhost:8080/",
          "height": 51
        },
        "outputId": "5c5327a1-0624-46f0-ca72-653acf885143"
      },
      "source": [
        "# 분산\n",
        "deh.var() # 1.934336"
      ],
      "execution_count": 21,
      "outputs": [
        {
          "output_type": "execute_result",
          "data": {
            "text/plain": [
              "dEh    1.934336\n",
              "dtype: float64"
            ]
          },
          "metadata": {
            "tags": []
          },
          "execution_count": 21
        }
      ]
    },
    {
      "cell_type": "markdown",
      "metadata": {
        "id": "h--dGUzrbzA4",
        "colab_type": "text"
      },
      "source": [
        "## 3) 데이터 양자화 2\n",
        "- 양자화 간격을 3으로 조정함\n",
        "    - dE의 값을 5 이하로 하는 dL, da, db 의 값을 추산한 결과로 간격인 3을 결정함\n",
        "- 인지적으로 균등한 색채 이론 참고\n",
        "    - [Perceptual Color Space](http://cs.haifa.ac.il/hagit/courses/ist/Lectures/IST05_ColorLAB.pdf)\n",
        "- 양자화 후 dEh 값을 역으로 계산하여 양자화 신뢰도 검증함\n",
        "    - dEh 값은 평균 0.591941, 분산은 0.910121\n",
        "    - 데이터의 신뢰도 검증 완료\n",
        "- 양자화 한 색채로 테마를 구성했을 때의 시각적 유사도 또한 육안으로 검증하는 과정을 거쳤음"
      ]
    },
    {
      "cell_type": "code",
      "metadata": {
        "id": "bPpi-8a3KAu3",
        "colab_type": "code",
        "colab": {}
      },
      "source": [
        "# quantize\n",
        "\n",
        "def quant2(x):\n",
        "    if x % 3 == 0:\n",
        "        return int(x)\n",
        "    else:\n",
        "        return int(int((x + 3) / 3) * 3)\n",
        "\n",
        "quant2_l = []\n",
        "quant2_a = []\n",
        "quant2_b = []\n",
        "\n",
        "for i in range(len(lab)):\n",
        "    quant2_l.append(quant2(lab.L[i]))\n",
        "    quant2_a.append(quant2(lab.a[i]))\n",
        "    quant2_b.append(quant2(lab.b[i]))"
      ],
      "execution_count": 22,
      "outputs": []
    },
    {
      "cell_type": "code",
      "metadata": {
        "id": "6DmogzdfcImm",
        "colab_type": "code",
        "colab": {}
      },
      "source": [
        "quant2_lab = pd.DataFrame({\"L\" : quant2_l, \"a\" : quant2_a, \"b\": quant2_b})\n",
        "quant2_lab\n",
        "quant2_lab.to_csv('gdrive/My Drive/colorPOOL/kulerData/quantize.csv')"
      ],
      "execution_count": 23,
      "outputs": []
    },
    {
      "cell_type": "code",
      "metadata": {
        "id": "gsDh-3BecSNi",
        "colab_type": "code",
        "colab": {}
      },
      "source": [
        "dE = []\n",
        "\n",
        "for i in range(len(lab)):\n",
        "    previous = [lab.L[i], lab.a[i], lab.b[i]]\n",
        "    next = [quant2_lab.L[i], quant2_lab.a[i], quant2_lab.b[i],]\n",
        "\n",
        "    de = colour.delta_E(previous, next, method='CIE 2000')\n",
        "    dE.append(de)"
      ],
      "execution_count": 24,
      "outputs": []
    },
    {
      "cell_type": "code",
      "metadata": {
        "id": "zfjgin9RcZyq",
        "colab_type": "code",
        "colab": {}
      },
      "source": [
        "cab = []\n",
        "\n",
        "for i in range(len(lab)):\n",
        "    cal = (lab.a[i] ** 2 + lab.b[i] ** 2) ** 1/2\n",
        "    cab.append(cal)"
      ],
      "execution_count": 25,
      "outputs": []
    },
    {
      "cell_type": "code",
      "metadata": {
        "id": "yioxv3occbHO",
        "colab_type": "code",
        "colab": {
          "base_uri": "https://localhost:8080/",
          "height": 419
        },
        "outputId": "125d35e8-806a-497b-af3b-fc914f2ed3ec"
      },
      "source": [
        "tmp = pd.DataFrame({\"dE\": dE, \"Cab\" : cab})\n",
        "tmp"
      ],
      "execution_count": 26,
      "outputs": [
        {
          "output_type": "execute_result",
          "data": {
            "text/html": [
              "<div>\n",
              "<style scoped>\n",
              "    .dataframe tbody tr th:only-of-type {\n",
              "        vertical-align: middle;\n",
              "    }\n",
              "\n",
              "    .dataframe tbody tr th {\n",
              "        vertical-align: top;\n",
              "    }\n",
              "\n",
              "    .dataframe thead th {\n",
              "        text-align: right;\n",
              "    }\n",
              "</style>\n",
              "<table border=\"1\" class=\"dataframe\">\n",
              "  <thead>\n",
              "    <tr style=\"text-align: right;\">\n",
              "      <th></th>\n",
              "      <th>dE</th>\n",
              "      <th>Cab</th>\n",
              "    </tr>\n",
              "  </thead>\n",
              "  <tbody>\n",
              "    <tr>\n",
              "      <th>0</th>\n",
              "      <td>1.684818</td>\n",
              "      <td>573.664600</td>\n",
              "    </tr>\n",
              "    <tr>\n",
              "      <th>1</th>\n",
              "      <td>4.177201</td>\n",
              "      <td>1.177812</td>\n",
              "    </tr>\n",
              "    <tr>\n",
              "      <th>2</th>\n",
              "      <td>2.371840</td>\n",
              "      <td>3612.433003</td>\n",
              "    </tr>\n",
              "    <tr>\n",
              "      <th>3</th>\n",
              "      <td>0.685026</td>\n",
              "      <td>4148.802352</td>\n",
              "    </tr>\n",
              "    <tr>\n",
              "      <th>4</th>\n",
              "      <td>1.018892</td>\n",
              "      <td>581.355545</td>\n",
              "    </tr>\n",
              "    <tr>\n",
              "      <th>...</th>\n",
              "      <td>...</td>\n",
              "      <td>...</td>\n",
              "    </tr>\n",
              "    <tr>\n",
              "      <th>14995</th>\n",
              "      <td>2.444754</td>\n",
              "      <td>1140.519609</td>\n",
              "    </tr>\n",
              "    <tr>\n",
              "      <th>14996</th>\n",
              "      <td>1.493273</td>\n",
              "      <td>2.378510</td>\n",
              "    </tr>\n",
              "    <tr>\n",
              "      <th>14997</th>\n",
              "      <td>3.507119</td>\n",
              "      <td>2632.319556</td>\n",
              "    </tr>\n",
              "    <tr>\n",
              "      <th>14998</th>\n",
              "      <td>1.865937</td>\n",
              "      <td>2819.675865</td>\n",
              "    </tr>\n",
              "    <tr>\n",
              "      <th>14999</th>\n",
              "      <td>3.578351</td>\n",
              "      <td>146.089424</td>\n",
              "    </tr>\n",
              "  </tbody>\n",
              "</table>\n",
              "<p>15000 rows × 2 columns</p>\n",
              "</div>"
            ],
            "text/plain": [
              "             dE          Cab\n",
              "0      1.684818   573.664600\n",
              "1      4.177201     1.177812\n",
              "2      2.371840  3612.433003\n",
              "3      0.685026  4148.802352\n",
              "4      1.018892   581.355545\n",
              "...         ...          ...\n",
              "14995  2.444754  1140.519609\n",
              "14996  1.493273     2.378510\n",
              "14997  3.507119  2632.319556\n",
              "14998  1.865937  2819.675865\n",
              "14999  3.578351   146.089424\n",
              "\n",
              "[15000 rows x 2 columns]"
            ]
          },
          "metadata": {
            "tags": []
          },
          "execution_count": 26
        }
      ]
    },
    {
      "cell_type": "code",
      "metadata": {
        "id": "Oja4Wnt8cdxO",
        "colab_type": "code",
        "colab": {}
      },
      "source": [
        "deh = []\n",
        "for i in range(len(tmp)):\n",
        "    cal = tmp.dE[i] / (1 + 0.022 * tmp.Cab[i])\n",
        "    deh.append(cal)"
      ],
      "execution_count": 27,
      "outputs": []
    },
    {
      "cell_type": "code",
      "metadata": {
        "id": "9XSQgjh8ch7H",
        "colab_type": "code",
        "colab": {
          "base_uri": "https://localhost:8080/",
          "height": 419
        },
        "outputId": "2055fb18-fad0-4230-d1c5-5e30ec76023a"
      },
      "source": [
        "deh2 = pd.DataFrame(data=deh, columns=['dEh'])\n",
        "deh2"
      ],
      "execution_count": 28,
      "outputs": [
        {
          "output_type": "execute_result",
          "data": {
            "text/html": [
              "<div>\n",
              "<style scoped>\n",
              "    .dataframe tbody tr th:only-of-type {\n",
              "        vertical-align: middle;\n",
              "    }\n",
              "\n",
              "    .dataframe tbody tr th {\n",
              "        vertical-align: top;\n",
              "    }\n",
              "\n",
              "    .dataframe thead th {\n",
              "        text-align: right;\n",
              "    }\n",
              "</style>\n",
              "<table border=\"1\" class=\"dataframe\">\n",
              "  <thead>\n",
              "    <tr style=\"text-align: right;\">\n",
              "      <th></th>\n",
              "      <th>dEh</th>\n",
              "    </tr>\n",
              "  </thead>\n",
              "  <tbody>\n",
              "    <tr>\n",
              "      <th>0</th>\n",
              "      <td>0.123696</td>\n",
              "    </tr>\n",
              "    <tr>\n",
              "      <th>1</th>\n",
              "      <td>4.071696</td>\n",
              "    </tr>\n",
              "    <tr>\n",
              "      <th>2</th>\n",
              "      <td>0.029474</td>\n",
              "    </tr>\n",
              "    <tr>\n",
              "      <th>3</th>\n",
              "      <td>0.007424</td>\n",
              "    </tr>\n",
              "    <tr>\n",
              "      <th>4</th>\n",
              "      <td>0.073887</td>\n",
              "    </tr>\n",
              "    <tr>\n",
              "      <th>...</th>\n",
              "      <td>...</td>\n",
              "    </tr>\n",
              "    <tr>\n",
              "      <th>14995</th>\n",
              "      <td>0.093700</td>\n",
              "    </tr>\n",
              "    <tr>\n",
              "      <th>14996</th>\n",
              "      <td>1.419020</td>\n",
              "    </tr>\n",
              "    <tr>\n",
              "      <th>14997</th>\n",
              "      <td>0.059532</td>\n",
              "    </tr>\n",
              "    <tr>\n",
              "      <th>14998</th>\n",
              "      <td>0.029603</td>\n",
              "    </tr>\n",
              "    <tr>\n",
              "      <th>14999</th>\n",
              "      <td>0.849165</td>\n",
              "    </tr>\n",
              "  </tbody>\n",
              "</table>\n",
              "<p>15000 rows × 1 columns</p>\n",
              "</div>"
            ],
            "text/plain": [
              "            dEh\n",
              "0      0.123696\n",
              "1      4.071696\n",
              "2      0.029474\n",
              "3      0.007424\n",
              "4      0.073887\n",
              "...         ...\n",
              "14995  0.093700\n",
              "14996  1.419020\n",
              "14997  0.059532\n",
              "14998  0.029603\n",
              "14999  0.849165\n",
              "\n",
              "[15000 rows x 1 columns]"
            ]
          },
          "metadata": {
            "tags": []
          },
          "execution_count": 28
        }
      ]
    },
    {
      "cell_type": "code",
      "metadata": {
        "id": "YOprXTYZciV9",
        "colab_type": "code",
        "colab": {
          "base_uri": "https://localhost:8080/",
          "height": 51
        },
        "outputId": "bb900ad6-08b4-4bb4-efdc-96ab7826bb29"
      },
      "source": [
        "# 평균\n",
        "deh2.mean() # 0.591941"
      ],
      "execution_count": 29,
      "outputs": [
        {
          "output_type": "execute_result",
          "data": {
            "text/plain": [
              "dEh    0.591941\n",
              "dtype: float64"
            ]
          },
          "metadata": {
            "tags": []
          },
          "execution_count": 29
        }
      ]
    },
    {
      "cell_type": "code",
      "metadata": {
        "id": "Y500V9xickY7",
        "colab_type": "code",
        "colab": {
          "base_uri": "https://localhost:8080/",
          "height": 51
        },
        "outputId": "bf7cce2b-9b61-4c3d-d156-d5bb6ef19310"
      },
      "source": [
        "# 분산\n",
        "deh2.var() # 0.910121"
      ],
      "execution_count": 30,
      "outputs": [
        {
          "output_type": "execute_result",
          "data": {
            "text/plain": [
              "dEh    0.910121\n",
              "dtype: float64"
            ]
          },
          "metadata": {
            "tags": []
          },
          "execution_count": 30
        }
      ]
    }
  ]
}