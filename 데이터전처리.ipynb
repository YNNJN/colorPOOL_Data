{
  "nbformat": 4,
  "nbformat_minor": 0,
  "metadata": {
    "colab": {
      "name": "데이터전처리.ipynb",
      "provenance": [],
      "authorship_tag": "ABX9TyM94f81rAnpImK5ojYid/rn",
      "include_colab_link": true
    },
    "kernelspec": {
      "name": "python3",
      "display_name": "Python 3"
    },
    "accelerator": "GPU"
  },
  "cells": [
    {
      "cell_type": "markdown",
      "metadata": {
        "id": "view-in-github",
        "colab_type": "text"
      },
      "source": [
        "<a href=\"https://colab.research.google.com/github/YNNJN/colorPool_Data/blob/master/%EB%8D%B0%EC%9D%B4%ED%84%B0%EC%A0%84%EC%B2%98%EB%A6%AC.ipynb\" target=\"_parent\"><img src=\"https://colab.research.google.com/assets/colab-badge.svg\" alt=\"Open In Colab\"/></a>"
      ]
    },
    {
      "cell_type": "markdown",
      "metadata": {
        "id": "4pbhlXlf-Fke",
        "colab_type": "text"
      },
      "source": [
        "## 0. 데이터 로드 & 상위 데이터 추출\n",
        "\n",
        "- COMPLETE : 각 배색에 대한 조화도 평점을 기준으로, 내림차순 정렬하여 상위 3000개를 데이터 프레임으로 추출 완료 !\n",
        "    - 상위 3000개 데이터의 조화도 평균 평점 : 4.35, 표준편차 : 0.26\n",
        "- TODO : 데이터프레임에 포함된 색채 각각을 색공간 내에서 가장 가까운 색채 표본으로 근사"
      ]
    },
    {
      "cell_type": "code",
      "metadata": {
        "id": "lQ334EK3Baa5",
        "colab_type": "code",
        "colab": {}
      },
      "source": [
        "!git clone https://github.com/YNNJN/colorPool_Data.git"
      ],
      "execution_count": null,
      "outputs": []
    },
    {
      "cell_type": "code",
      "metadata": {
        "id": "cwqKK-QYBlcK",
        "colab_type": "code",
        "colab": {}
      },
      "source": [
        "!ls -ltr"
      ],
      "execution_count": null,
      "outputs": []
    },
    {
      "cell_type": "code",
      "metadata": {
        "id": "kHEGjPSstoES",
        "colab_type": "code",
        "colab": {}
      },
      "source": [
        "# connect to google dirve\n",
        "\n",
        "from google.colab import drive\n",
        "drive.mount('/content/gdrive')"
      ],
      "execution_count": null,
      "outputs": []
    },
    {
      "cell_type": "code",
      "metadata": {
        "id": "PQNUwVbjt3Hd",
        "colab_type": "code",
        "colab": {}
      },
      "source": [
        "import numpy as np # linear algebra\n",
        "import pandas as pd # data processing, CSV file I/O (e.g. pd.read_csv)\n",
        "\n",
        "rgbData = pd.read_csv('gdrive/My Drive/colorPOOL/kulerData/kulerData_data.csv', names=['R1', 'R2', 'R3', 'R4', 'R5', 'G1', 'G2', 'G3', 'G4', 'G5', 'B1', 'B2', 'B3', 'B4', 'B5' ])\n",
        "ratingData = pd.read_csv('gdrive/My Drive/colorPOOL/kulerData/kulerData_targets.csv', names=['rating'])\n",
        "\n",
        "rgbRatingData = pd.concat([rgbData, ratingData], axis=1)"
      ],
      "execution_count": null,
      "outputs": []
    },
    {
      "cell_type": "code",
      "metadata": {
        "id": "fPBh4EEx_sla",
        "colab_type": "code",
        "colab": {}
      },
      "source": [
        "df = pd.DataFrame(rgbRatingData)\n",
        "df_sorted = df.sort_values(by=['rating'], ascending=[False])\n",
        "df_extracted = df_sorted[0:3000]\n",
        "df_rgbExtracted = df_extracted.drop(df_extracted.columns[-1], axis=1)\n",
        "\n",
        "df_rgbExtracted"
      ],
      "execution_count": null,
      "outputs": []
    },
    {
      "cell_type": "markdown",
      "metadata": {
        "id": "EIu-RJkiE98D",
        "colab_type": "text"
      },
      "source": [
        "# 1. 표본 색채 설정 & 색차 허용치 보정\n",
        "- 표본 색채 설정 이유\n",
        "    - Kuler에서 활용되는 색채들 중 서로 비슷한 색들을 근사하여 분석하기 위해, 인지적으로 균등한 표본 색채를 설정함\n",
        "- 색차 허용치 보정 이유\n",
        "    - 색차 표본간의 거리를 사람이 인식하는 색차와 균등하게 보정하기 위함\n",
        "\n",
        "#### McDonald의 색차 계산식 이용\n",
        "- 이유 : CIE L*a*b 색공간 내에서의 기하학적 거리 ≠ 사람의 인지적 색차\n",
        "    - 방법 : 색차허용치 = 색공간 내 기하학적 거리/(1+0.022(채도값)) = 6.35\n",
        "    - 의의 : 색채 표본간의 거리를 사람이 인식하는 색차와 균등하게 보정 완료\n",
        "- 진행과정 :"
      ]
    },
    {
      "cell_type": "markdown",
      "metadata": {
        "id": "rCIoauyXIHCQ",
        "colab_type": "text"
      },
      "source": [
        "## 1) 데이터 변환\n",
        "- RGB → XYZ → CIE L*a*b"
      ]
    },
    {
      "cell_type": "code",
      "metadata": {
        "id": "9GJEruYLE_49",
        "colab_type": "code",
        "colab": {
          "base_uri": "https://localhost:8080/",
          "height": 419
        },
        "outputId": "a6303c63-3138-41f0-c5be-3ec0e7df82e7"
      },
      "source": [
        "# 데이터프레임 구조 변환 3000*15 => 15000*3\n",
        "\n",
        "df1=df_rgbExtracted.iloc[:,[0,5,10]].reset_index(drop=True).rename(columns={\"R1\":'R',\"G1\":'G',\"B1\":'B'})\n",
        "df2=df_rgbExtracted.iloc[:,[1,6,11]].reset_index(drop=True).rename(columns={\"R2\":'R',\"G2\":'G',\"B2\":'B'})\n",
        "df3=df_rgbExtracted.iloc[:,[2,7,12]].reset_index(drop=True).rename(columns={\"R3\":'R',\"G3\":'G',\"B3\":'B'})\n",
        "df4=df_rgbExtracted.iloc[:,[3,8,13]].reset_index(drop=True).rename(columns={\"R4\":'R',\"G4\":'G',\"B4\":'B'})\n",
        "df5=df_rgbExtracted.iloc[:,[4,9,14]].reset_index(drop=True).rename(columns={\"R5\":'R',\"G5\":'G',\"B5\":'B'})\n",
        "\n",
        "df_all=pd.concat([df1,df2,df3,df4,df4], axis=0).reset_index(drop=True)\n",
        "df_all"
      ],
      "execution_count": 6,
      "outputs": [
        {
          "output_type": "execute_result",
          "data": {
            "text/html": [
              "<div>\n",
              "<style scoped>\n",
              "    .dataframe tbody tr th:only-of-type {\n",
              "        vertical-align: middle;\n",
              "    }\n",
              "\n",
              "    .dataframe tbody tr th {\n",
              "        vertical-align: top;\n",
              "    }\n",
              "\n",
              "    .dataframe thead th {\n",
              "        text-align: right;\n",
              "    }\n",
              "</style>\n",
              "<table border=\"1\" class=\"dataframe\">\n",
              "  <thead>\n",
              "    <tr style=\"text-align: right;\">\n",
              "      <th></th>\n",
              "      <th>R</th>\n",
              "      <th>G</th>\n",
              "      <th>B</th>\n",
              "    </tr>\n",
              "  </thead>\n",
              "  <tbody>\n",
              "    <tr>\n",
              "      <th>0</th>\n",
              "      <td>0.43922</td>\n",
              "      <td>0.28627</td>\n",
              "      <td>0.172550</td>\n",
              "    </tr>\n",
              "    <tr>\n",
              "      <th>1</th>\n",
              "      <td>0.05098</td>\n",
              "      <td>0.05098</td>\n",
              "      <td>0.050980</td>\n",
              "    </tr>\n",
              "    <tr>\n",
              "      <th>2</th>\n",
              "      <td>0.93333</td>\n",
              "      <td>0.56863</td>\n",
              "      <td>0.058824</td>\n",
              "    </tr>\n",
              "    <tr>\n",
              "      <th>3</th>\n",
              "      <td>0.76863</td>\n",
              "      <td>0.00000</td>\n",
              "      <td>0.000000</td>\n",
              "    </tr>\n",
              "    <tr>\n",
              "      <th>4</th>\n",
              "      <td>1.00000</td>\n",
              "      <td>0.98431</td>\n",
              "      <td>0.839220</td>\n",
              "    </tr>\n",
              "    <tr>\n",
              "      <th>...</th>\n",
              "      <td>...</td>\n",
              "      <td>...</td>\n",
              "      <td>...</td>\n",
              "    </tr>\n",
              "    <tr>\n",
              "      <th>14995</th>\n",
              "      <td>0.34510</td>\n",
              "      <td>0.80000</td>\n",
              "      <td>0.623530</td>\n",
              "    </tr>\n",
              "    <tr>\n",
              "      <th>14996</th>\n",
              "      <td>0.15294</td>\n",
              "      <td>0.17255</td>\n",
              "      <td>0.188240</td>\n",
              "    </tr>\n",
              "    <tr>\n",
              "      <th>14997</th>\n",
              "      <td>0.47451</td>\n",
              "      <td>0.65098</td>\n",
              "      <td>0.090196</td>\n",
              "    </tr>\n",
              "    <tr>\n",
              "      <th>14998</th>\n",
              "      <td>0.94902</td>\n",
              "      <td>0.56863</td>\n",
              "      <td>0.239220</td>\n",
              "    </tr>\n",
              "    <tr>\n",
              "      <th>14999</th>\n",
              "      <td>0.21176</td>\n",
              "      <td>0.29020</td>\n",
              "      <td>0.450980</td>\n",
              "    </tr>\n",
              "  </tbody>\n",
              "</table>\n",
              "<p>15000 rows × 3 columns</p>\n",
              "</div>"
            ],
            "text/plain": [
              "             R        G         B\n",
              "0      0.43922  0.28627  0.172550\n",
              "1      0.05098  0.05098  0.050980\n",
              "2      0.93333  0.56863  0.058824\n",
              "3      0.76863  0.00000  0.000000\n",
              "4      1.00000  0.98431  0.839220\n",
              "...        ...      ...       ...\n",
              "14995  0.34510  0.80000  0.623530\n",
              "14996  0.15294  0.17255  0.188240\n",
              "14997  0.47451  0.65098  0.090196\n",
              "14998  0.94902  0.56863  0.239220\n",
              "14999  0.21176  0.29020  0.450980\n",
              "\n",
              "[15000 rows x 3 columns]"
            ]
          },
          "metadata": {
            "tags": []
          },
          "execution_count": 6
        }
      ]
    },
    {
      "cell_type": "code",
      "metadata": {
        "id": "KPRblrrJF0AY",
        "colab_type": "code",
        "colab": {
          "base_uri": "https://localhost:8080/",
          "height": 221
        },
        "outputId": "b11983a5-361a-4048-d2a9-6cbcb12581cf"
      },
      "source": [
        "!pip install colormath"
      ],
      "execution_count": 7,
      "outputs": [
        {
          "output_type": "stream",
          "text": [
            "Collecting colormath\n",
            "  Downloading https://files.pythonhosted.org/packages/ce/cf/70ea34103a76cc6fb1892289bda321cd0cc73b1a5500ee7fe9ef9f64acef/colormath-3.0.0.tar.gz\n",
            "Requirement already satisfied: numpy in /usr/local/lib/python3.6/dist-packages (from colormath) (1.18.5)\n",
            "Requirement already satisfied: networkx>=2.0 in /usr/local/lib/python3.6/dist-packages (from colormath) (2.5)\n",
            "Requirement already satisfied: decorator>=4.3.0 in /usr/local/lib/python3.6/dist-packages (from networkx>=2.0->colormath) (4.4.2)\n",
            "Building wheels for collected packages: colormath\n",
            "  Building wheel for colormath (setup.py) ... \u001b[?25l\u001b[?25hdone\n",
            "  Created wheel for colormath: filename=colormath-3.0.0-cp36-none-any.whl size=39392 sha256=adbac26c9def99c7a0e7e980d142e0c9687889a58db31087acf432d9d29ced58\n",
            "  Stored in directory: /root/.cache/pip/wheels/20/49/7b/9635bccd6136cc713f623caa85ced89c0c63878f8b2a58fe99\n",
            "Successfully built colormath\n",
            "Installing collected packages: colormath\n",
            "Successfully installed colormath-3.0.0\n"
          ],
          "name": "stdout"
        }
      ]
    },
    {
      "cell_type": "code",
      "metadata": {
        "id": "Nkeo8szBFZEr",
        "colab_type": "code",
        "colab": {}
      },
      "source": [
        "# RGB → XYZ\n",
        "\n",
        "from colormath.color_objects import XYZColor, sRGBColor\n",
        "from colormath.color_conversions import convert_color\n",
        "\n",
        "x=[]\n",
        "y=[]\n",
        "z=[]\n",
        "\n",
        "for i in range(len(df_all)):\n",
        "    rgb = sRGBColor(df_all['R'][i], df_all['G'][i], df_all['B'][i])\n",
        "    xyz = convert_color(rgb, XYZColor, target_illuminant='d50') \n",
        "    x.append(xyz.xyz_x)\n",
        "    y.append(xyz.xyz_y)\n",
        "    z.append(xyz.xyz_z)"
      ],
      "execution_count": 8,
      "outputs": []
    },
    {
      "cell_type": "code",
      "metadata": {
        "id": "JX6DmREIFgmm",
        "colab_type": "code",
        "colab": {
          "base_uri": "https://localhost:8080/",
          "height": 204
        },
        "outputId": "8a2af763-8dfb-4be6-8008-d64125d03312"
      },
      "source": [
        "xyz=pd.DataFrame({\"X\":x,\"Y\":y,\"Z\":z})\n",
        "xyz.head()"
      ],
      "execution_count": 9,
      "outputs": [
        {
          "output_type": "execute_result",
          "data": {
            "text/html": [
              "<div>\n",
              "<style scoped>\n",
              "    .dataframe tbody tr th:only-of-type {\n",
              "        vertical-align: middle;\n",
              "    }\n",
              "\n",
              "    .dataframe tbody tr th {\n",
              "        vertical-align: top;\n",
              "    }\n",
              "\n",
              "    .dataframe thead th {\n",
              "        text-align: right;\n",
              "    }\n",
              "</style>\n",
              "<table border=\"1\" class=\"dataframe\">\n",
              "  <thead>\n",
              "    <tr style=\"text-align: right;\">\n",
              "      <th></th>\n",
              "      <th>X</th>\n",
              "      <th>Y</th>\n",
              "      <th>Z</th>\n",
              "    </tr>\n",
              "  </thead>\n",
              "  <tbody>\n",
              "    <tr>\n",
              "      <th>0</th>\n",
              "      <td>0.099912</td>\n",
              "      <td>0.085339</td>\n",
              "      <td>0.026717</td>\n",
              "    </tr>\n",
              "    <tr>\n",
              "      <th>1</th>\n",
              "      <td>0.003881</td>\n",
              "      <td>0.004025</td>\n",
              "      <td>0.003322</td>\n",
              "    </tr>\n",
              "    <tr>\n",
              "      <th>2</th>\n",
              "      <td>0.482525</td>\n",
              "      <td>0.393500</td>\n",
              "      <td>0.042819</td>\n",
              "    </tr>\n",
              "    <tr>\n",
              "      <th>3</th>\n",
              "      <td>0.240701</td>\n",
              "      <td>0.122816</td>\n",
              "      <td>0.007690</td>\n",
              "    </tr>\n",
              "    <tr>\n",
              "      <th>4</th>\n",
              "      <td>0.903736</td>\n",
              "      <td>0.954817</td>\n",
              "      <td>0.587924</td>\n",
              "    </tr>\n",
              "  </tbody>\n",
              "</table>\n",
              "</div>"
            ],
            "text/plain": [
              "          X         Y         Z\n",
              "0  0.099912  0.085339  0.026717\n",
              "1  0.003881  0.004025  0.003322\n",
              "2  0.482525  0.393500  0.042819\n",
              "3  0.240701  0.122816  0.007690\n",
              "4  0.903736  0.954817  0.587924"
            ]
          },
          "metadata": {
            "tags": []
          },
          "execution_count": 9
        }
      ]
    },
    {
      "cell_type": "code",
      "metadata": {
        "id": "YxUzCCVfGNIS",
        "colab_type": "code",
        "colab": {
          "base_uri": "https://localhost:8080/",
          "height": 34
        },
        "outputId": "c277f623-62e9-413d-bc39-dab7c0453d85"
      },
      "source": [
        "!pip install -q colour-science"
      ],
      "execution_count": 10,
      "outputs": [
        {
          "output_type": "stream",
          "text": [
            "\u001b[K     |████████████████████████████████| 1.6MB 2.9MB/s \n",
            "\u001b[?25h"
          ],
          "name": "stdout"
        }
      ]
    },
    {
      "cell_type": "code",
      "metadata": {
        "id": "20Cn0I4HF6Up",
        "colab_type": "code",
        "colab": {}
      },
      "source": [
        "# XYZ → CIE Lab\n",
        "\n",
        "import colour\n",
        "\n",
        "l=[]\n",
        "a=[]\n",
        "b=[]\n",
        "\n",
        "for i in range(len(xyz)):\n",
        "    lab = colour.XYZ_to_Lab([xyz['X'][i], xyz['Y'][i], xyz['Z'][i]])\n",
        "\n",
        "    l.append(lab[0])\n",
        "    a.append(lab[1])\n",
        "    b.append(lab[2])"
      ],
      "execution_count": 11,
      "outputs": []
    },
    {
      "cell_type": "code",
      "metadata": {
        "id": "MkDJiiAjGLkC",
        "colab_type": "code",
        "colab": {
          "base_uri": "https://localhost:8080/",
          "height": 419
        },
        "outputId": "f9fa0bb4-f023-4085-a55c-baa8d566ea80"
      },
      "source": [
        "lab = pd.DataFrame({\"L\":l,\"a\":a,\"b\":b})\n",
        "lab"
      ],
      "execution_count": 12,
      "outputs": [
        {
          "output_type": "execute_result",
          "data": {
            "text/html": [
              "<div>\n",
              "<style scoped>\n",
              "    .dataframe tbody tr th:only-of-type {\n",
              "        vertical-align: middle;\n",
              "    }\n",
              "\n",
              "    .dataframe tbody tr th {\n",
              "        vertical-align: top;\n",
              "    }\n",
              "\n",
              "    .dataframe thead th {\n",
              "        text-align: right;\n",
              "    }\n",
              "</style>\n",
              "<table border=\"1\" class=\"dataframe\">\n",
              "  <thead>\n",
              "    <tr style=\"text-align: right;\">\n",
              "      <th></th>\n",
              "      <th>L</th>\n",
              "      <th>a</th>\n",
              "      <th>b</th>\n",
              "    </tr>\n",
              "  </thead>\n",
              "  <tbody>\n",
              "    <tr>\n",
              "      <th>0</th>\n",
              "      <td>35.070886</td>\n",
              "      <td>15.841340</td>\n",
              "      <td>29.939625</td>\n",
              "    </tr>\n",
              "    <tr>\n",
              "      <th>1</th>\n",
              "      <td>3.635469</td>\n",
              "      <td>0.226806</td>\n",
              "      <td>1.517953</td>\n",
              "    </tr>\n",
              "    <tr>\n",
              "      <th>2</th>\n",
              "      <td>69.004011</td>\n",
              "      <td>32.474404</td>\n",
              "      <td>78.551124</td>\n",
              "    </tr>\n",
              "    <tr>\n",
              "      <th>3</th>\n",
              "      <td>41.660251</td>\n",
              "      <td>67.802908</td>\n",
              "      <td>60.830670</td>\n",
              "    </tr>\n",
              "    <tr>\n",
              "      <th>4</th>\n",
              "      <td>98.225945</td>\n",
              "      <td>-0.683832</td>\n",
              "      <td>34.091692</td>\n",
              "    </tr>\n",
              "    <tr>\n",
              "      <th>...</th>\n",
              "      <td>...</td>\n",
              "      <td>...</td>\n",
              "      <td>...</td>\n",
              "    </tr>\n",
              "    <tr>\n",
              "      <th>14995</th>\n",
              "      <td>74.546928</td>\n",
              "      <td>-40.763407</td>\n",
              "      <td>24.887424</td>\n",
              "    </tr>\n",
              "    <tr>\n",
              "      <th>14996</th>\n",
              "      <td>17.627638</td>\n",
              "      <td>-0.797361</td>\n",
              "      <td>2.030083</td>\n",
              "    </tr>\n",
              "    <tr>\n",
              "      <th>14997</th>\n",
              "      <td>63.046363</td>\n",
              "      <td>-28.491513</td>\n",
              "      <td>66.729849</td>\n",
              "    </tr>\n",
              "    <tr>\n",
              "      <th>14998</th>\n",
              "      <td>69.708712</td>\n",
              "      <td>34.969050</td>\n",
              "      <td>66.456883</td>\n",
              "    </tr>\n",
              "    <tr>\n",
              "      <th>14999</th>\n",
              "      <td>31.275859</td>\n",
              "      <td>2.758294</td>\n",
              "      <td>-16.869222</td>\n",
              "    </tr>\n",
              "  </tbody>\n",
              "</table>\n",
              "<p>15000 rows × 3 columns</p>\n",
              "</div>"
            ],
            "text/plain": [
              "               L          a          b\n",
              "0      35.070886  15.841340  29.939625\n",
              "1       3.635469   0.226806   1.517953\n",
              "2      69.004011  32.474404  78.551124\n",
              "3      41.660251  67.802908  60.830670\n",
              "4      98.225945  -0.683832  34.091692\n",
              "...          ...        ...        ...\n",
              "14995  74.546928 -40.763407  24.887424\n",
              "14996  17.627638  -0.797361   2.030083\n",
              "14997  63.046363 -28.491513  66.729849\n",
              "14998  69.708712  34.969050  66.456883\n",
              "14999  31.275859   2.758294 -16.869222\n",
              "\n",
              "[15000 rows x 3 columns]"
            ]
          },
          "metadata": {
            "tags": []
          },
          "execution_count": 12
        }
      ]
    },
    {
      "cell_type": "markdown",
      "metadata": {
        "id": "_sS1aJf4IBLU",
        "colab_type": "text"
      },
      "source": [
        "## 2) 컬러 데이터 양자화\n"
      ]
    },
    {
      "cell_type": "code",
      "metadata": {
        "id": "tQ1zT5spGWiP",
        "colab_type": "code",
        "colab": {}
      },
      "source": [
        "# quantize\n",
        "\n",
        "def quant(x):\n",
        "    if x % 5 == 0:\n",
        "        return int(x)\n",
        "    else:\n",
        "        return int(int((x + 5) / 5) * 5)\n",
        "\n",
        "quant_l = []\n",
        "quant_a = []\n",
        "quant_b = []\n",
        "\n",
        "for i in range(len(lab)):\n",
        "    quant_l.append(quant(lab.L[i]))\n",
        "    quant_a.append(quant(lab.a[i]))\n",
        "    quant_b.append(quant(lab.b[i]))"
      ],
      "execution_count": 13,
      "outputs": []
    },
    {
      "cell_type": "code",
      "metadata": {
        "id": "KKZLpcU1ITYl",
        "colab_type": "code",
        "colab": {
          "base_uri": "https://localhost:8080/",
          "height": 419
        },
        "outputId": "8a17be63-041e-4ee2-e748-e98ee96b2261"
      },
      "source": [
        "quant_lab = pd.DataFrame({\"L\" : quant_l, \"a\" : quant_a, \"b\": quant_b})\n",
        "quant_lab"
      ],
      "execution_count": 14,
      "outputs": [
        {
          "output_type": "execute_result",
          "data": {
            "text/html": [
              "<div>\n",
              "<style scoped>\n",
              "    .dataframe tbody tr th:only-of-type {\n",
              "        vertical-align: middle;\n",
              "    }\n",
              "\n",
              "    .dataframe tbody tr th {\n",
              "        vertical-align: top;\n",
              "    }\n",
              "\n",
              "    .dataframe thead th {\n",
              "        text-align: right;\n",
              "    }\n",
              "</style>\n",
              "<table border=\"1\" class=\"dataframe\">\n",
              "  <thead>\n",
              "    <tr style=\"text-align: right;\">\n",
              "      <th></th>\n",
              "      <th>L</th>\n",
              "      <th>a</th>\n",
              "      <th>b</th>\n",
              "    </tr>\n",
              "  </thead>\n",
              "  <tbody>\n",
              "    <tr>\n",
              "      <th>0</th>\n",
              "      <td>40</td>\n",
              "      <td>20</td>\n",
              "      <td>30</td>\n",
              "    </tr>\n",
              "    <tr>\n",
              "      <th>1</th>\n",
              "      <td>5</td>\n",
              "      <td>5</td>\n",
              "      <td>5</td>\n",
              "    </tr>\n",
              "    <tr>\n",
              "      <th>2</th>\n",
              "      <td>70</td>\n",
              "      <td>35</td>\n",
              "      <td>80</td>\n",
              "    </tr>\n",
              "    <tr>\n",
              "      <th>3</th>\n",
              "      <td>45</td>\n",
              "      <td>70</td>\n",
              "      <td>65</td>\n",
              "    </tr>\n",
              "    <tr>\n",
              "      <th>4</th>\n",
              "      <td>100</td>\n",
              "      <td>0</td>\n",
              "      <td>35</td>\n",
              "    </tr>\n",
              "    <tr>\n",
              "      <th>...</th>\n",
              "      <td>...</td>\n",
              "      <td>...</td>\n",
              "      <td>...</td>\n",
              "    </tr>\n",
              "    <tr>\n",
              "      <th>14995</th>\n",
              "      <td>75</td>\n",
              "      <td>-35</td>\n",
              "      <td>25</td>\n",
              "    </tr>\n",
              "    <tr>\n",
              "      <th>14996</th>\n",
              "      <td>20</td>\n",
              "      <td>0</td>\n",
              "      <td>5</td>\n",
              "    </tr>\n",
              "    <tr>\n",
              "      <th>14997</th>\n",
              "      <td>65</td>\n",
              "      <td>-20</td>\n",
              "      <td>70</td>\n",
              "    </tr>\n",
              "    <tr>\n",
              "      <th>14998</th>\n",
              "      <td>70</td>\n",
              "      <td>35</td>\n",
              "      <td>70</td>\n",
              "    </tr>\n",
              "    <tr>\n",
              "      <th>14999</th>\n",
              "      <td>35</td>\n",
              "      <td>5</td>\n",
              "      <td>-10</td>\n",
              "    </tr>\n",
              "  </tbody>\n",
              "</table>\n",
              "<p>15000 rows × 3 columns</p>\n",
              "</div>"
            ],
            "text/plain": [
              "         L   a   b\n",
              "0       40  20  30\n",
              "1        5   5   5\n",
              "2       70  35  80\n",
              "3       45  70  65\n",
              "4      100   0  35\n",
              "...    ...  ..  ..\n",
              "14995   75 -35  25\n",
              "14996   20   0   5\n",
              "14997   65 -20  70\n",
              "14998   70  35  70\n",
              "14999   35   5 -10\n",
              "\n",
              "[15000 rows x 3 columns]"
            ]
          },
          "metadata": {
            "tags": []
          },
          "execution_count": 14
        }
      ]
    },
    {
      "cell_type": "code",
      "metadata": {
        "id": "8Sb0rpUoIZ1Z",
        "colab_type": "code",
        "colab": {}
      },
      "source": [
        "# 적정 dEh 값과 비교하기 위한 테스트 진행\n",
        "# Cab = (a ** 2 + b ** 2) ** 1/2\n",
        "# dEh = dE / (1 + 0.022 * Cab)\n",
        "\n",
        "dE = []\n",
        "\n",
        "for i in range(len(lab)):\n",
        "    previous = [lab.L[i], lab.a[i], lab.b[i]]\n",
        "    next = [quant_lab.L[i], quant_lab.a[i], quant_lab.b[i],]\n",
        "\n",
        "    de = colour.delta_E(previous, next, method='CIE 2000')\n",
        "    dE.append(de)"
      ],
      "execution_count": 15,
      "outputs": []
    },
    {
      "cell_type": "code",
      "metadata": {
        "id": "LWHtoQIwIlJH",
        "colab_type": "code",
        "colab": {}
      },
      "source": [
        "cab = []\n",
        "\n",
        "for i in range(len(lab)):\n",
        "    cal = (lab.a[i] ** 2 + lab.b[i] ** 2) ** 1/2\n",
        "    cab.append(cal)"
      ],
      "execution_count": 16,
      "outputs": []
    },
    {
      "cell_type": "code",
      "metadata": {
        "id": "URBFecKuIpjW",
        "colab_type": "code",
        "colab": {
          "base_uri": "https://localhost:8080/",
          "height": 419
        },
        "outputId": "a89e4199-7248-4fbe-85fc-6db5aa290604"
      },
      "source": [
        "tmp = pd.DataFrame({\"dE\": dE, \"Cab\" : cab})\n",
        "tmp"
      ],
      "execution_count": 18,
      "outputs": [
        {
          "output_type": "execute_result",
          "data": {
            "text/html": [
              "<div>\n",
              "<style scoped>\n",
              "    .dataframe tbody tr th:only-of-type {\n",
              "        vertical-align: middle;\n",
              "    }\n",
              "\n",
              "    .dataframe tbody tr th {\n",
              "        vertical-align: top;\n",
              "    }\n",
              "\n",
              "    .dataframe thead th {\n",
              "        text-align: right;\n",
              "    }\n",
              "</style>\n",
              "<table border=\"1\" class=\"dataframe\">\n",
              "  <thead>\n",
              "    <tr style=\"text-align: right;\">\n",
              "      <th></th>\n",
              "      <th>dE</th>\n",
              "      <th>Cab</th>\n",
              "    </tr>\n",
              "  </thead>\n",
              "  <tbody>\n",
              "    <tr>\n",
              "      <th>0</th>\n",
              "      <td>5.069017</td>\n",
              "      <td>573.664600</td>\n",
              "    </tr>\n",
              "    <tr>\n",
              "      <th>1</th>\n",
              "      <td>6.630312</td>\n",
              "      <td>1.177812</td>\n",
              "    </tr>\n",
              "    <tr>\n",
              "      <th>2</th>\n",
              "      <td>1.347346</td>\n",
              "      <td>3612.433003</td>\n",
              "    </tr>\n",
              "    <tr>\n",
              "      <th>3</th>\n",
              "      <td>3.300368</td>\n",
              "      <td>4148.802352</td>\n",
              "    </tr>\n",
              "    <tr>\n",
              "      <th>4</th>\n",
              "      <td>1.208111</td>\n",
              "      <td>581.355545</td>\n",
              "    </tr>\n",
              "    <tr>\n",
              "      <th>...</th>\n",
              "      <td>...</td>\n",
              "      <td>...</td>\n",
              "    </tr>\n",
              "    <tr>\n",
              "      <th>14995</th>\n",
              "      <td>2.321504</td>\n",
              "      <td>1140.519609</td>\n",
              "    </tr>\n",
              "    <tr>\n",
              "      <th>14996</th>\n",
              "      <td>3.280936</td>\n",
              "      <td>2.378510</td>\n",
              "    </tr>\n",
              "    <tr>\n",
              "      <th>14997</th>\n",
              "      <td>4.923121</td>\n",
              "      <td>2632.319556</td>\n",
              "    </tr>\n",
              "    <tr>\n",
              "      <th>14998</th>\n",
              "      <td>1.198079</td>\n",
              "      <td>2819.675865</td>\n",
              "    </tr>\n",
              "    <tr>\n",
              "      <th>14999</th>\n",
              "      <td>6.941460</td>\n",
              "      <td>146.089424</td>\n",
              "    </tr>\n",
              "  </tbody>\n",
              "</table>\n",
              "<p>15000 rows × 2 columns</p>\n",
              "</div>"
            ],
            "text/plain": [
              "             dE          Cab\n",
              "0      5.069017   573.664600\n",
              "1      6.630312     1.177812\n",
              "2      1.347346  3612.433003\n",
              "3      3.300368  4148.802352\n",
              "4      1.208111   581.355545\n",
              "...         ...          ...\n",
              "14995  2.321504  1140.519609\n",
              "14996  3.280936     2.378510\n",
              "14997  4.923121  2632.319556\n",
              "14998  1.198079  2819.675865\n",
              "14999  6.941460   146.089424\n",
              "\n",
              "[15000 rows x 2 columns]"
            ]
          },
          "metadata": {
            "tags": []
          },
          "execution_count": 18
        }
      ]
    },
    {
      "cell_type": "code",
      "metadata": {
        "id": "h5763ehdIqLa",
        "colab_type": "code",
        "colab": {}
      },
      "source": [
        "deh = []\n",
        "for i in range(len(tmp)):\n",
        "    cal = tmp.dE[i] / (1 + 0.022 * tmp.Cab[i])\n",
        "    deh.append(cal)"
      ],
      "execution_count": 19,
      "outputs": []
    },
    {
      "cell_type": "code",
      "metadata": {
        "id": "PIu6NFzwI7bH",
        "colab_type": "code",
        "colab": {
          "base_uri": "https://localhost:8080/",
          "height": 419
        },
        "outputId": "88ca802a-a989-4cd9-e297-b27f6b78d41d"
      },
      "source": [
        "deh = pd.DataFrame(data=deh, columns=['dEh'])\n",
        "deh"
      ],
      "execution_count": 21,
      "outputs": [
        {
          "output_type": "execute_result",
          "data": {
            "text/html": [
              "<div>\n",
              "<style scoped>\n",
              "    .dataframe tbody tr th:only-of-type {\n",
              "        vertical-align: middle;\n",
              "    }\n",
              "\n",
              "    .dataframe tbody tr th {\n",
              "        vertical-align: top;\n",
              "    }\n",
              "\n",
              "    .dataframe thead th {\n",
              "        text-align: right;\n",
              "    }\n",
              "</style>\n",
              "<table border=\"1\" class=\"dataframe\">\n",
              "  <thead>\n",
              "    <tr style=\"text-align: right;\">\n",
              "      <th></th>\n",
              "      <th>dEh</th>\n",
              "    </tr>\n",
              "  </thead>\n",
              "  <tbody>\n",
              "    <tr>\n",
              "      <th>0</th>\n",
              "      <td>0.372158</td>\n",
              "    </tr>\n",
              "    <tr>\n",
              "      <th>1</th>\n",
              "      <td>6.462847</td>\n",
              "    </tr>\n",
              "    <tr>\n",
              "      <th>2</th>\n",
              "      <td>0.016743</td>\n",
              "    </tr>\n",
              "    <tr>\n",
              "      <th>3</th>\n",
              "      <td>0.035767</td>\n",
              "    </tr>\n",
              "    <tr>\n",
              "      <th>4</th>\n",
              "      <td>0.087609</td>\n",
              "    </tr>\n",
              "    <tr>\n",
              "      <th>...</th>\n",
              "      <td>...</td>\n",
              "    </tr>\n",
              "    <tr>\n",
              "      <th>14995</th>\n",
              "      <td>0.088976</td>\n",
              "    </tr>\n",
              "    <tr>\n",
              "      <th>14996</th>\n",
              "      <td>3.117790</td>\n",
              "    </tr>\n",
              "    <tr>\n",
              "      <th>14997</th>\n",
              "      <td>0.083569</td>\n",
              "    </tr>\n",
              "    <tr>\n",
              "      <th>14998</th>\n",
              "      <td>0.019007</td>\n",
              "    </tr>\n",
              "    <tr>\n",
              "      <th>14999</th>\n",
              "      <td>1.647251</td>\n",
              "    </tr>\n",
              "  </tbody>\n",
              "</table>\n",
              "<p>15000 rows × 1 columns</p>\n",
              "</div>"
            ],
            "text/plain": [
              "            dEh\n",
              "0      0.372158\n",
              "1      6.462847\n",
              "2      0.016743\n",
              "3      0.035767\n",
              "4      0.087609\n",
              "...         ...\n",
              "14995  0.088976\n",
              "14996  3.117790\n",
              "14997  0.083569\n",
              "14998  0.019007\n",
              "14999  1.647251\n",
              "\n",
              "[15000 rows x 1 columns]"
            ]
          },
          "metadata": {
            "tags": []
          },
          "execution_count": 21
        }
      ]
    },
    {
      "cell_type": "code",
      "metadata": {
        "id": "6EYkV-ZhI8Tt",
        "colab_type": "code",
        "colab": {
          "base_uri": "https://localhost:8080/",
          "height": 51
        },
        "outputId": "54f08241-a9e8-46d5-e28c-136268c87683"
      },
      "source": [
        "# 평균\n",
        "deh.mean() # 0.914265"
      ],
      "execution_count": 22,
      "outputs": [
        {
          "output_type": "execute_result",
          "data": {
            "text/plain": [
              "dEh    0.914265\n",
              "dtype: float64"
            ]
          },
          "metadata": {
            "tags": []
          },
          "execution_count": 22
        }
      ]
    },
    {
      "cell_type": "code",
      "metadata": {
        "id": "kID2MdEjJ7x6",
        "colab_type": "code",
        "colab": {
          "base_uri": "https://localhost:8080/",
          "height": 51
        },
        "outputId": "dcc85dd5-216c-4451-c47b-13da761799da"
      },
      "source": [
        "# 분산\n",
        "deh.var() # 1.934336"
      ],
      "execution_count": 23,
      "outputs": [
        {
          "output_type": "execute_result",
          "data": {
            "text/plain": [
              "dEh    1.934336\n",
              "dtype: float64"
            ]
          },
          "metadata": {
            "tags": []
          },
          "execution_count": 23
        }
      ]
    },
    {
      "cell_type": "code",
      "metadata": {
        "id": "bPpi-8a3KAu3",
        "colab_type": "code",
        "colab": {}
      },
      "source": [
        ""
      ],
      "execution_count": null,
      "outputs": []
    }
  ]
}