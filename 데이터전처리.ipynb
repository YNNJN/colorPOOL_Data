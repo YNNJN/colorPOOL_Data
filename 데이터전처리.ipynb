{
  "nbformat": 4,
  "nbformat_minor": 0,
  "metadata": {
    "colab": {
      "name": "데이터전처리.ipynb",
      "provenance": [],
      "collapsed_sections": [],
      "authorship_tag": "ABX9TyMZ7rji3QmnVk3anU59wa9A",
      "include_colab_link": true
    },
    "kernelspec": {
      "name": "python3",
      "display_name": "Python 3"
    },
    "accelerator": "GPU"
  },
  "cells": [
    {
      "cell_type": "markdown",
      "metadata": {
        "id": "view-in-github",
        "colab_type": "text"
      },
      "source": [
        "<a href=\"https://colab.research.google.com/github/YNNJN/colorPOOL_Data/blob/master/%EB%8D%B0%EC%9D%B4%ED%84%B0%EC%A0%84%EC%B2%98%EB%A6%AC.ipynb\" target=\"_parent\"><img src=\"https://colab.research.google.com/assets/colab-badge.svg\" alt=\"Open In Colab\"/></a>"
      ]
    },
    {
      "cell_type": "markdown",
      "metadata": {
        "id": "4pbhlXlf-Fke"
      },
      "source": [
        "## 0. 데이터 로드 & 상위 데이터 추출\n",
        "\n",
        "- 각 배색에 대한 조화도 평점을 기준으로, 내림차순 정렬하여 상위 3000개를 데이터 프레임으로 추출 완료함\n",
        "    - 상위 3000개 데이터의 조화도 평균 평점 : 4.35, 표준편차 : 0.26"
      ]
    },
    {
      "cell_type": "code",
      "metadata": {
        "id": "lQ334EK3Baa5",
        "outputId": "9edaa04d-f6c4-43b4-b769-98fdef9dd202",
        "colab": {
          "base_uri": "https://localhost:8080/",
          "height": 119
        }
      },
      "source": [
        "!git clone https://github.com/YNNJN/colorPool_Data.git"
      ],
      "execution_count": 1,
      "outputs": [
        {
          "output_type": "stream",
          "text": [
            "Cloning into 'colorPool_Data'...\n",
            "remote: Enumerating objects: 64, done.\u001b[K\n",
            "remote: Counting objects: 100% (64/64), done.\u001b[K\n",
            "remote: Compressing objects: 100% (57/57), done.\u001b[K\n",
            "remote: Total 64 (delta 34), reused 15 (delta 3), pack-reused 0\u001b[K\n",
            "Unpacking objects: 100% (64/64), done.\n"
          ],
          "name": "stdout"
        }
      ]
    },
    {
      "cell_type": "code",
      "metadata": {
        "id": "cwqKK-QYBlcK",
        "outputId": "ae7b7262-0d41-4ad8-aa80-d131573f74d7",
        "colab": {
          "base_uri": "https://localhost:8080/",
          "height": 68
        }
      },
      "source": [
        "!ls -ltr"
      ],
      "execution_count": 2,
      "outputs": [
        {
          "output_type": "stream",
          "text": [
            "total 8\n",
            "drwxr-xr-x 1 root root 4096 Sep 16 16:29 sample_data\n",
            "drwxr-xr-x 4 root root 4096 Sep 28 08:18 colorPool_Data\n"
          ],
          "name": "stdout"
        }
      ]
    },
    {
      "cell_type": "code",
      "metadata": {
        "id": "kHEGjPSstoES",
        "outputId": "4faaa073-5322-4a94-8921-48bbf0c40232",
        "colab": {
          "base_uri": "https://localhost:8080/",
          "height": 34
        }
      },
      "source": [
        "# connect to google drive\n",
        "\n",
        "from google.colab import drive\n",
        "drive.mount('/content/gdrive')"
      ],
      "execution_count": 3,
      "outputs": [
        {
          "output_type": "stream",
          "text": [
            "Mounted at /content/gdrive\n"
          ],
          "name": "stdout"
        }
      ]
    },
    {
      "cell_type": "code",
      "metadata": {
        "id": "PQNUwVbjt3Hd"
      },
      "source": [
        "import numpy as np # linear algebra\n",
        "import pandas as pd # data processing, CSV file I/O (e.g. pd.read_csv)\n",
        "\n",
        "rgbData = pd.read_csv('gdrive/My Drive/colorPOOL/kulerData/kulerData_data.csv', names=['R1', 'R2', 'R3', 'R4', 'R5', 'G1', 'G2', 'G3', 'G4', 'G5', 'B1', 'B2', 'B3', 'B4', 'B5' ])\n",
        "ratingData = pd.read_csv('gdrive/My Drive/colorPOOL/kulerData/kulerData_targets.csv', names=['rating'])\n",
        "idData = pd.read_csv('gdrive/My Drive/colorPOOL/kulerData/kulerData_ids.csv', names=['id'])\n",
        "nameData = pd.read_csv('gdrive/My Drive/colorPOOL/kulerData/kulerData_name.csv', names=['name'])\n",
        "\n",
        "rgbRatingData = pd.concat([rgbData, ratingData, idData, nameData], axis=1)"
      ],
      "execution_count": 4,
      "outputs": []
    },
    {
      "cell_type": "code",
      "metadata": {
        "id": "fPBh4EEx_sla",
        "outputId": "2f2a3f1a-b48c-4479-9283-3029d5b53891",
        "colab": {
          "base_uri": "https://localhost:8080/",
          "height": 419
        }
      },
      "source": [
        "df = pd.DataFrame(rgbRatingData)\n",
        "df_sorted = df.sort_values(by=['rating'], ascending=[False])\n",
        "df_extracted = df_sorted[0:3000]\n",
        "df_rgbExtracted = df_extracted.drop(df_extracted.columns[-1], axis=1)\n",
        "df_rgbExtracted = df_rgbExtracted.drop(df_extracted.columns[-2], axis=1)\n",
        "df_rgbExtracted = df_rgbExtracted.drop(df_extracted.columns[-3], axis=1)\n",
        "\n",
        "df_rgbExtracted\n",
        "\n",
        "# df_extracted.to_csv('gdrive/My Drive/colorPOOL/kulerData/matrixData.csv')"
      ],
      "execution_count": 5,
      "outputs": [
        {
          "output_type": "execute_result",
          "data": {
            "text/html": [
              "<div>\n",
              "<style scoped>\n",
              "    .dataframe tbody tr th:only-of-type {\n",
              "        vertical-align: middle;\n",
              "    }\n",
              "\n",
              "    .dataframe tbody tr th {\n",
              "        vertical-align: top;\n",
              "    }\n",
              "\n",
              "    .dataframe thead th {\n",
              "        text-align: right;\n",
              "    }\n",
              "</style>\n",
              "<table border=\"1\" class=\"dataframe\">\n",
              "  <thead>\n",
              "    <tr style=\"text-align: right;\">\n",
              "      <th></th>\n",
              "      <th>R1</th>\n",
              "      <th>R2</th>\n",
              "      <th>R3</th>\n",
              "      <th>R4</th>\n",
              "      <th>R5</th>\n",
              "      <th>G1</th>\n",
              "      <th>G2</th>\n",
              "      <th>G3</th>\n",
              "      <th>G4</th>\n",
              "      <th>G5</th>\n",
              "      <th>B1</th>\n",
              "      <th>B2</th>\n",
              "      <th>B3</th>\n",
              "      <th>B4</th>\n",
              "      <th>B5</th>\n",
              "    </tr>\n",
              "  </thead>\n",
              "  <tbody>\n",
              "    <tr>\n",
              "      <th>44985</th>\n",
              "      <td>0.43922</td>\n",
              "      <td>0.619610</td>\n",
              "      <td>0.45490</td>\n",
              "      <td>0.27843</td>\n",
              "      <td>0.388240</td>\n",
              "      <td>0.286270</td>\n",
              "      <td>0.52157</td>\n",
              "      <td>0.47843</td>\n",
              "      <td>0.27451</td>\n",
              "      <td>0.30196</td>\n",
              "      <td>0.172550</td>\n",
              "      <td>0.270590</td>\n",
              "      <td>0.341180</td>\n",
              "      <td>0.196080</td>\n",
              "      <td>0.16471</td>\n",
              "    </tr>\n",
              "    <tr>\n",
              "      <th>37404</th>\n",
              "      <td>0.05098</td>\n",
              "      <td>0.949020</td>\n",
              "      <td>0.74902</td>\n",
              "      <td>0.68235</td>\n",
              "      <td>0.643140</td>\n",
              "      <td>0.050980</td>\n",
              "      <td>0.94902</td>\n",
              "      <td>0.85098</td>\n",
              "      <td>0.85098</td>\n",
              "      <td>0.85098</td>\n",
              "      <td>0.050980</td>\n",
              "      <td>0.949020</td>\n",
              "      <td>0.721570</td>\n",
              "      <td>0.639220</td>\n",
              "      <td>0.58824</td>\n",
              "    </tr>\n",
              "    <tr>\n",
              "      <th>36535</th>\n",
              "      <td>0.93333</td>\n",
              "      <td>0.850980</td>\n",
              "      <td>0.67059</td>\n",
              "      <td>0.42745</td>\n",
              "      <td>0.317650</td>\n",
              "      <td>0.568630</td>\n",
              "      <td>0.33333</td>\n",
              "      <td>0.74902</td>\n",
              "      <td>0.65098</td>\n",
              "      <td>0.55686</td>\n",
              "      <td>0.058824</td>\n",
              "      <td>0.145100</td>\n",
              "      <td>0.082353</td>\n",
              "      <td>0.090196</td>\n",
              "      <td>0.65098</td>\n",
              "    </tr>\n",
              "    <tr>\n",
              "      <th>4099</th>\n",
              "      <td>0.76863</td>\n",
              "      <td>0.039216</td>\n",
              "      <td>0.80392</td>\n",
              "      <td>0.40000</td>\n",
              "      <td>0.000000</td>\n",
              "      <td>0.000000</td>\n",
              "      <td>0.50980</td>\n",
              "      <td>0.00000</td>\n",
              "      <td>0.25490</td>\n",
              "      <td>0.00000</td>\n",
              "      <td>0.000000</td>\n",
              "      <td>0.756860</td>\n",
              "      <td>0.509800</td>\n",
              "      <td>0.125490</td>\n",
              "      <td>0.00000</td>\n",
              "    </tr>\n",
              "    <tr>\n",
              "      <th>4091</th>\n",
              "      <td>1.00000</td>\n",
              "      <td>0.823530</td>\n",
              "      <td>0.88627</td>\n",
              "      <td>0.67059</td>\n",
              "      <td>0.403920</td>\n",
              "      <td>0.984310</td>\n",
              "      <td>0.76863</td>\n",
              "      <td>0.44314</td>\n",
              "      <td>0.32157</td>\n",
              "      <td>0.21569</td>\n",
              "      <td>0.839220</td>\n",
              "      <td>0.725490</td>\n",
              "      <td>0.215690</td>\n",
              "      <td>0.196080</td>\n",
              "      <td>0.13725</td>\n",
              "    </tr>\n",
              "    <tr>\n",
              "      <th>...</th>\n",
              "      <td>...</td>\n",
              "      <td>...</td>\n",
              "      <td>...</td>\n",
              "      <td>...</td>\n",
              "      <td>...</td>\n",
              "      <td>...</td>\n",
              "      <td>...</td>\n",
              "      <td>...</td>\n",
              "      <td>...</td>\n",
              "      <td>...</td>\n",
              "      <td>...</td>\n",
              "      <td>...</td>\n",
              "      <td>...</td>\n",
              "      <td>...</td>\n",
              "      <td>...</td>\n",
              "    </tr>\n",
              "    <tr>\n",
              "      <th>31263</th>\n",
              "      <td>0.80000</td>\n",
              "      <td>0.980390</td>\n",
              "      <td>0.67451</td>\n",
              "      <td>0.34510</td>\n",
              "      <td>0.164710</td>\n",
              "      <td>0.325490</td>\n",
              "      <td>1.00000</td>\n",
              "      <td>1.00000</td>\n",
              "      <td>0.80000</td>\n",
              "      <td>0.52549</td>\n",
              "      <td>0.513730</td>\n",
              "      <td>0.580390</td>\n",
              "      <td>0.874510</td>\n",
              "      <td>0.623530</td>\n",
              "      <td>0.60000</td>\n",
              "    </tr>\n",
              "    <tr>\n",
              "      <th>31270</th>\n",
              "      <td>0.65098</td>\n",
              "      <td>0.949020</td>\n",
              "      <td>0.94902</td>\n",
              "      <td>0.15294</td>\n",
              "      <td>0.372550</td>\n",
              "      <td>0.545100</td>\n",
              "      <td>0.94902</td>\n",
              "      <td>0.91373</td>\n",
              "      <td>0.17255</td>\n",
              "      <td>0.45098</td>\n",
              "      <td>0.011765</td>\n",
              "      <td>0.949020</td>\n",
              "      <td>0.427450</td>\n",
              "      <td>0.188240</td>\n",
              "      <td>0.40000</td>\n",
              "    </tr>\n",
              "    <tr>\n",
              "      <th>31278</th>\n",
              "      <td>0.85098</td>\n",
              "      <td>0.850980</td>\n",
              "      <td>0.94902</td>\n",
              "      <td>0.47451</td>\n",
              "      <td>0.011765</td>\n",
              "      <td>0.015686</td>\n",
              "      <td>0.40392</td>\n",
              "      <td>0.62353</td>\n",
              "      <td>0.65098</td>\n",
              "      <td>0.58824</td>\n",
              "      <td>0.015686</td>\n",
              "      <td>0.015686</td>\n",
              "      <td>0.019608</td>\n",
              "      <td>0.090196</td>\n",
              "      <td>0.65098</td>\n",
              "    </tr>\n",
              "    <tr>\n",
              "      <th>31279</th>\n",
              "      <td>0.14902</td>\n",
              "      <td>0.549020</td>\n",
              "      <td>0.85098</td>\n",
              "      <td>0.94902</td>\n",
              "      <td>0.949020</td>\n",
              "      <td>0.003922</td>\n",
              "      <td>0.15294</td>\n",
              "      <td>0.41569</td>\n",
              "      <td>0.56863</td>\n",
              "      <td>0.88235</td>\n",
              "      <td>0.003922</td>\n",
              "      <td>0.011765</td>\n",
              "      <td>0.160780</td>\n",
              "      <td>0.239220</td>\n",
              "      <td>0.55294</td>\n",
              "    </tr>\n",
              "    <tr>\n",
              "      <th>31289</th>\n",
              "      <td>0.60784</td>\n",
              "      <td>0.474510</td>\n",
              "      <td>0.32549</td>\n",
              "      <td>0.21176</td>\n",
              "      <td>0.090196</td>\n",
              "      <td>0.756860</td>\n",
              "      <td>0.63922</td>\n",
              "      <td>0.43137</td>\n",
              "      <td>0.29020</td>\n",
              "      <td>0.10196</td>\n",
              "      <td>0.949020</td>\n",
              "      <td>0.850980</td>\n",
              "      <td>0.650980</td>\n",
              "      <td>0.450980</td>\n",
              "      <td>0.12157</td>\n",
              "    </tr>\n",
              "  </tbody>\n",
              "</table>\n",
              "<p>3000 rows × 15 columns</p>\n",
              "</div>"
            ],
            "text/plain": [
              "            R1        R2       R3  ...        B3        B4       B5\n",
              "44985  0.43922  0.619610  0.45490  ...  0.341180  0.196080  0.16471\n",
              "37404  0.05098  0.949020  0.74902  ...  0.721570  0.639220  0.58824\n",
              "36535  0.93333  0.850980  0.67059  ...  0.082353  0.090196  0.65098\n",
              "4099   0.76863  0.039216  0.80392  ...  0.509800  0.125490  0.00000\n",
              "4091   1.00000  0.823530  0.88627  ...  0.215690  0.196080  0.13725\n",
              "...        ...       ...      ...  ...       ...       ...      ...\n",
              "31263  0.80000  0.980390  0.67451  ...  0.874510  0.623530  0.60000\n",
              "31270  0.65098  0.949020  0.94902  ...  0.427450  0.188240  0.40000\n",
              "31278  0.85098  0.850980  0.94902  ...  0.019608  0.090196  0.65098\n",
              "31279  0.14902  0.549020  0.85098  ...  0.160780  0.239220  0.55294\n",
              "31289  0.60784  0.474510  0.32549  ...  0.650980  0.450980  0.12157\n",
              "\n",
              "[3000 rows x 15 columns]"
            ]
          },
          "metadata": {
            "tags": []
          },
          "execution_count": 5
        }
      ]
    },
    {
      "cell_type": "markdown",
      "metadata": {
        "id": "EIu-RJkiE98D"
      },
      "source": [
        "# 1. 표본 색채 설정 & 색차 허용치 보정\n",
        "- 표본 색채 설정 이유\n",
        "    - Kuler에서 활용되는 색채들 중 서로 비슷한 색들을 근사하여 분석하기 위해, 인지적으로 균등한 표본 색채를 설정함\n",
        "- 색차 허용치 보정 이유\n",
        "    - 색차 표본간의 거리를 사람이 인식하는 색차와 균등하게 보정하기 위함\n",
        "\n",
        "#### McDonald의 색차 계산식 이용\n",
        "- 이유 : CIE L*a*b 색공간 내에서의 기하학적 거리 ≠ 사람의 인지적 색차\n",
        "    - 방법 : 색차허용치 = 색공간 내 기하학적 거리/(1+0.022(채도값)) = 6.35\n",
        "    - 의의 : 색채 표본간의 거리를 사람이 인식하는 색차와 균등하게 보정 완료\n",
        "- 진행과정 :"
      ]
    },
    {
      "cell_type": "markdown",
      "metadata": {
        "id": "rCIoauyXIHCQ"
      },
      "source": [
        "## 1) 데이터 변환\n",
        "- RGB → XYZ → CIE L*a*b"
      ]
    },
    {
      "cell_type": "code",
      "metadata": {
        "id": "9GJEruYLE_49",
        "outputId": "34965eb3-62bb-4bf4-d8ec-84b681069607",
        "colab": {
          "base_uri": "https://localhost:8080/",
          "height": 419
        }
      },
      "source": [
        "# 데이터프레임 구조 변환 3000*15 => 15000*3\n",
        "\n",
        "df1=df_rgbExtracted.iloc[:,[0,5,10]].reset_index(drop=True).rename(columns={\"R1\":'R',\"G1\":'G',\"B1\":'B'})\n",
        "df2=df_rgbExtracted.iloc[:,[1,6,11]].reset_index(drop=True).rename(columns={\"R2\":'R',\"G2\":'G',\"B2\":'B'})\n",
        "df3=df_rgbExtracted.iloc[:,[2,7,12]].reset_index(drop=True).rename(columns={\"R3\":'R',\"G3\":'G',\"B3\":'B'})\n",
        "df4=df_rgbExtracted.iloc[:,[3,8,13]].reset_index(drop=True).rename(columns={\"R4\":'R',\"G4\":'G',\"B4\":'B'})\n",
        "df5=df_rgbExtracted.iloc[:,[4,9,14]].reset_index(drop=True).rename(columns={\"R5\":'R',\"G5\":'G',\"B5\":'B'})\n",
        "\n",
        "df_all=pd.concat([df1,df2,df3,df4,df5], axis=0).reset_index(drop=True)\n",
        "df_all"
      ],
      "execution_count": 6,
      "outputs": [
        {
          "output_type": "execute_result",
          "data": {
            "text/html": [
              "<div>\n",
              "<style scoped>\n",
              "    .dataframe tbody tr th:only-of-type {\n",
              "        vertical-align: middle;\n",
              "    }\n",
              "\n",
              "    .dataframe tbody tr th {\n",
              "        vertical-align: top;\n",
              "    }\n",
              "\n",
              "    .dataframe thead th {\n",
              "        text-align: right;\n",
              "    }\n",
              "</style>\n",
              "<table border=\"1\" class=\"dataframe\">\n",
              "  <thead>\n",
              "    <tr style=\"text-align: right;\">\n",
              "      <th></th>\n",
              "      <th>R</th>\n",
              "      <th>G</th>\n",
              "      <th>B</th>\n",
              "    </tr>\n",
              "  </thead>\n",
              "  <tbody>\n",
              "    <tr>\n",
              "      <th>0</th>\n",
              "      <td>0.439220</td>\n",
              "      <td>0.28627</td>\n",
              "      <td>0.172550</td>\n",
              "    </tr>\n",
              "    <tr>\n",
              "      <th>1</th>\n",
              "      <td>0.050980</td>\n",
              "      <td>0.05098</td>\n",
              "      <td>0.050980</td>\n",
              "    </tr>\n",
              "    <tr>\n",
              "      <th>2</th>\n",
              "      <td>0.933330</td>\n",
              "      <td>0.56863</td>\n",
              "      <td>0.058824</td>\n",
              "    </tr>\n",
              "    <tr>\n",
              "      <th>3</th>\n",
              "      <td>0.768630</td>\n",
              "      <td>0.00000</td>\n",
              "      <td>0.000000</td>\n",
              "    </tr>\n",
              "    <tr>\n",
              "      <th>4</th>\n",
              "      <td>1.000000</td>\n",
              "      <td>0.98431</td>\n",
              "      <td>0.839220</td>\n",
              "    </tr>\n",
              "    <tr>\n",
              "      <th>...</th>\n",
              "      <td>...</td>\n",
              "      <td>...</td>\n",
              "      <td>...</td>\n",
              "    </tr>\n",
              "    <tr>\n",
              "      <th>14995</th>\n",
              "      <td>0.164710</td>\n",
              "      <td>0.52549</td>\n",
              "      <td>0.600000</td>\n",
              "    </tr>\n",
              "    <tr>\n",
              "      <th>14996</th>\n",
              "      <td>0.372550</td>\n",
              "      <td>0.45098</td>\n",
              "      <td>0.400000</td>\n",
              "    </tr>\n",
              "    <tr>\n",
              "      <th>14997</th>\n",
              "      <td>0.011765</td>\n",
              "      <td>0.58824</td>\n",
              "      <td>0.650980</td>\n",
              "    </tr>\n",
              "    <tr>\n",
              "      <th>14998</th>\n",
              "      <td>0.949020</td>\n",
              "      <td>0.88235</td>\n",
              "      <td>0.552940</td>\n",
              "    </tr>\n",
              "    <tr>\n",
              "      <th>14999</th>\n",
              "      <td>0.090196</td>\n",
              "      <td>0.10196</td>\n",
              "      <td>0.121570</td>\n",
              "    </tr>\n",
              "  </tbody>\n",
              "</table>\n",
              "<p>15000 rows × 3 columns</p>\n",
              "</div>"
            ],
            "text/plain": [
              "              R        G         B\n",
              "0      0.439220  0.28627  0.172550\n",
              "1      0.050980  0.05098  0.050980\n",
              "2      0.933330  0.56863  0.058824\n",
              "3      0.768630  0.00000  0.000000\n",
              "4      1.000000  0.98431  0.839220\n",
              "...         ...      ...       ...\n",
              "14995  0.164710  0.52549  0.600000\n",
              "14996  0.372550  0.45098  0.400000\n",
              "14997  0.011765  0.58824  0.650980\n",
              "14998  0.949020  0.88235  0.552940\n",
              "14999  0.090196  0.10196  0.121570\n",
              "\n",
              "[15000 rows x 3 columns]"
            ]
          },
          "metadata": {
            "tags": []
          },
          "execution_count": 6
        }
      ]
    },
    {
      "cell_type": "code",
      "metadata": {
        "id": "s0F9r8bqw7tE",
        "outputId": "bbf147d7-8312-4032-806d-e5be2521c7a6",
        "colab": {
          "base_uri": "https://localhost:8080/",
          "height": 419
        }
      },
      "source": [
        "df_all = df_all * 255.0\n",
        "df_all"
      ],
      "execution_count": 7,
      "outputs": [
        {
          "output_type": "execute_result",
          "data": {
            "text/html": [
              "<div>\n",
              "<style scoped>\n",
              "    .dataframe tbody tr th:only-of-type {\n",
              "        vertical-align: middle;\n",
              "    }\n",
              "\n",
              "    .dataframe tbody tr th {\n",
              "        vertical-align: top;\n",
              "    }\n",
              "\n",
              "    .dataframe thead th {\n",
              "        text-align: right;\n",
              "    }\n",
              "</style>\n",
              "<table border=\"1\" class=\"dataframe\">\n",
              "  <thead>\n",
              "    <tr style=\"text-align: right;\">\n",
              "      <th></th>\n",
              "      <th>R</th>\n",
              "      <th>G</th>\n",
              "      <th>B</th>\n",
              "    </tr>\n",
              "  </thead>\n",
              "  <tbody>\n",
              "    <tr>\n",
              "      <th>0</th>\n",
              "      <td>112.001100</td>\n",
              "      <td>72.99885</td>\n",
              "      <td>44.00025</td>\n",
              "    </tr>\n",
              "    <tr>\n",
              "      <th>1</th>\n",
              "      <td>12.999900</td>\n",
              "      <td>12.99990</td>\n",
              "      <td>12.99990</td>\n",
              "    </tr>\n",
              "    <tr>\n",
              "      <th>2</th>\n",
              "      <td>237.999150</td>\n",
              "      <td>145.00065</td>\n",
              "      <td>15.00012</td>\n",
              "    </tr>\n",
              "    <tr>\n",
              "      <th>3</th>\n",
              "      <td>196.000650</td>\n",
              "      <td>0.00000</td>\n",
              "      <td>0.00000</td>\n",
              "    </tr>\n",
              "    <tr>\n",
              "      <th>4</th>\n",
              "      <td>255.000000</td>\n",
              "      <td>250.99905</td>\n",
              "      <td>214.00110</td>\n",
              "    </tr>\n",
              "    <tr>\n",
              "      <th>...</th>\n",
              "      <td>...</td>\n",
              "      <td>...</td>\n",
              "      <td>...</td>\n",
              "    </tr>\n",
              "    <tr>\n",
              "      <th>14995</th>\n",
              "      <td>42.001050</td>\n",
              "      <td>133.99995</td>\n",
              "      <td>153.00000</td>\n",
              "    </tr>\n",
              "    <tr>\n",
              "      <th>14996</th>\n",
              "      <td>95.000250</td>\n",
              "      <td>114.99990</td>\n",
              "      <td>102.00000</td>\n",
              "    </tr>\n",
              "    <tr>\n",
              "      <th>14997</th>\n",
              "      <td>3.000075</td>\n",
              "      <td>150.00120</td>\n",
              "      <td>165.99990</td>\n",
              "    </tr>\n",
              "    <tr>\n",
              "      <th>14998</th>\n",
              "      <td>242.000100</td>\n",
              "      <td>224.99925</td>\n",
              "      <td>140.99970</td>\n",
              "    </tr>\n",
              "    <tr>\n",
              "      <th>14999</th>\n",
              "      <td>22.999980</td>\n",
              "      <td>25.99980</td>\n",
              "      <td>31.00035</td>\n",
              "    </tr>\n",
              "  </tbody>\n",
              "</table>\n",
              "<p>15000 rows × 3 columns</p>\n",
              "</div>"
            ],
            "text/plain": [
              "                R          G          B\n",
              "0      112.001100   72.99885   44.00025\n",
              "1       12.999900   12.99990   12.99990\n",
              "2      237.999150  145.00065   15.00012\n",
              "3      196.000650    0.00000    0.00000\n",
              "4      255.000000  250.99905  214.00110\n",
              "...           ...        ...        ...\n",
              "14995   42.001050  133.99995  153.00000\n",
              "14996   95.000250  114.99990  102.00000\n",
              "14997    3.000075  150.00120  165.99990\n",
              "14998  242.000100  224.99925  140.99970\n",
              "14999   22.999980   25.99980   31.00035\n",
              "\n",
              "[15000 rows x 3 columns]"
            ]
          },
          "metadata": {
            "tags": []
          },
          "execution_count": 7
        }
      ]
    },
    {
      "cell_type": "code",
      "metadata": {
        "id": "KPRblrrJF0AY",
        "outputId": "8c92f4df-d935-4178-856a-0f874ca3bd9f",
        "colab": {
          "base_uri": "https://localhost:8080/",
          "height": 221
        }
      },
      "source": [
        "!pip install colormath"
      ],
      "execution_count": 8,
      "outputs": [
        {
          "output_type": "stream",
          "text": [
            "Collecting colormath\n",
            "  Downloading https://files.pythonhosted.org/packages/ce/cf/70ea34103a76cc6fb1892289bda321cd0cc73b1a5500ee7fe9ef9f64acef/colormath-3.0.0.tar.gz\n",
            "Requirement already satisfied: numpy in /usr/local/lib/python3.6/dist-packages (from colormath) (1.18.5)\n",
            "Requirement already satisfied: networkx>=2.0 in /usr/local/lib/python3.6/dist-packages (from colormath) (2.5)\n",
            "Requirement already satisfied: decorator>=4.3.0 in /usr/local/lib/python3.6/dist-packages (from networkx>=2.0->colormath) (4.4.2)\n",
            "Building wheels for collected packages: colormath\n",
            "  Building wheel for colormath (setup.py) ... \u001b[?25l\u001b[?25hdone\n",
            "  Created wheel for colormath: filename=colormath-3.0.0-cp36-none-any.whl size=39392 sha256=651cada75c5d59981755430809f377d81b03e595b953757ec4a518b382a5f4b9\n",
            "  Stored in directory: /root/.cache/pip/wheels/20/49/7b/9635bccd6136cc713f623caa85ced89c0c63878f8b2a58fe99\n",
            "Successfully built colormath\n",
            "Installing collected packages: colormath\n",
            "Successfully installed colormath-3.0.0\n"
          ],
          "name": "stdout"
        }
      ]
    },
    {
      "cell_type": "code",
      "metadata": {
        "id": "VFoKTdTwxBSz"
      },
      "source": [
        "# RGB → Lab\n",
        "\n",
        "from colormath.color_objects import LabColor, sRGBColor \n",
        "from colormath.color_conversions import convert_color \n",
        "\n",
        "l=[]\n",
        "a=[]\n",
        "b=[]\n",
        "\n",
        "for i in range(len(df_all)) :\n",
        "    rgb = sRGBColor(df_all['R'][i], df_all['G'][i], df_all['B'][i], is_upscaled=True)\n",
        "    lab = convert_color(rgb, LabColor, through_rgb_type=sRGBColor)\n",
        "    l.append(lab.lab_l)\n",
        "    a.append(lab.lab_a)\n",
        "    b.append(lab.lab_b)"
      ],
      "execution_count": 9,
      "outputs": []
    },
    {
      "cell_type": "code",
      "metadata": {
        "id": "MkDJiiAjGLkC",
        "outputId": "622c278c-4507-4e7c-a825-d714cae466d0",
        "colab": {
          "base_uri": "https://localhost:8080/",
          "height": 419
        }
      },
      "source": [
        "lab = pd.DataFrame({\"L\":l,\"a\":a,\"b\":b})\n",
        "lab"
      ],
      "execution_count": 10,
      "outputs": [
        {
          "output_type": "execute_result",
          "data": {
            "text/html": [
              "<div>\n",
              "<style scoped>\n",
              "    .dataframe tbody tr th:only-of-type {\n",
              "        vertical-align: middle;\n",
              "    }\n",
              "\n",
              "    .dataframe tbody tr th {\n",
              "        vertical-align: top;\n",
              "    }\n",
              "\n",
              "    .dataframe thead th {\n",
              "        text-align: right;\n",
              "    }\n",
              "</style>\n",
              "<table border=\"1\" class=\"dataframe\">\n",
              "  <thead>\n",
              "    <tr style=\"text-align: right;\">\n",
              "      <th></th>\n",
              "      <th>L</th>\n",
              "      <th>a</th>\n",
              "      <th>b</th>\n",
              "    </tr>\n",
              "  </thead>\n",
              "  <tbody>\n",
              "    <tr>\n",
              "      <th>0</th>\n",
              "      <td>34.786683</td>\n",
              "      <td>13.291604</td>\n",
              "      <td>23.964126</td>\n",
              "    </tr>\n",
              "    <tr>\n",
              "      <th>1</th>\n",
              "      <td>3.635461</td>\n",
              "      <td>-0.000043</td>\n",
              "      <td>-0.000805</td>\n",
              "    </tr>\n",
              "    <tr>\n",
              "      <th>2</th>\n",
              "      <td>68.362727</td>\n",
              "      <td>27.425410</td>\n",
              "      <td>71.602494</td>\n",
              "    </tr>\n",
              "    <tr>\n",
              "      <th>3</th>\n",
              "      <td>40.798164</td>\n",
              "      <td>65.699870</td>\n",
              "      <td>55.126697</td>\n",
              "    </tr>\n",
              "    <tr>\n",
              "      <th>4</th>\n",
              "      <td>98.077292</td>\n",
              "      <td>-4.623466</td>\n",
              "      <td>18.233872</td>\n",
              "    </tr>\n",
              "    <tr>\n",
              "      <th>...</th>\n",
              "      <td>...</td>\n",
              "      <td>...</td>\n",
              "      <td>...</td>\n",
              "    </tr>\n",
              "    <tr>\n",
              "      <th>14995</th>\n",
              "      <td>51.656988</td>\n",
              "      <td>-20.060466</td>\n",
              "      <td>-17.912878</td>\n",
              "    </tr>\n",
              "    <tr>\n",
              "      <th>14996</th>\n",
              "      <td>46.516427</td>\n",
              "      <td>-10.225682</td>\n",
              "      <td>4.739290</td>\n",
              "    </tr>\n",
              "    <tr>\n",
              "      <th>14997</th>\n",
              "      <td>56.667610</td>\n",
              "      <td>-27.024131</td>\n",
              "      <td>-17.807196</td>\n",
              "    </tr>\n",
              "    <tr>\n",
              "      <th>14998</th>\n",
              "      <td>89.229635</td>\n",
              "      <td>-5.618007</td>\n",
              "      <td>43.125657</td>\n",
              "    </tr>\n",
              "    <tr>\n",
              "      <th>14999</th>\n",
              "      <td>9.155753</td>\n",
              "      <td>0.025172</td>\n",
              "      <td>-3.946787</td>\n",
              "    </tr>\n",
              "  </tbody>\n",
              "</table>\n",
              "<p>15000 rows × 3 columns</p>\n",
              "</div>"
            ],
            "text/plain": [
              "               L          a          b\n",
              "0      34.786683  13.291604  23.964126\n",
              "1       3.635461  -0.000043  -0.000805\n",
              "2      68.362727  27.425410  71.602494\n",
              "3      40.798164  65.699870  55.126697\n",
              "4      98.077292  -4.623466  18.233872\n",
              "...          ...        ...        ...\n",
              "14995  51.656988 -20.060466 -17.912878\n",
              "14996  46.516427 -10.225682   4.739290\n",
              "14997  56.667610 -27.024131 -17.807196\n",
              "14998  89.229635  -5.618007  43.125657\n",
              "14999   9.155753   0.025172  -3.946787\n",
              "\n",
              "[15000 rows x 3 columns]"
            ]
          },
          "metadata": {
            "tags": []
          },
          "execution_count": 10
        }
      ]
    },
    {
      "cell_type": "markdown",
      "metadata": {
        "id": "_sS1aJf4IBLU"
      },
      "source": [
        "## 2) 데이터 양자화\n"
      ]
    },
    {
      "cell_type": "code",
      "metadata": {
        "id": "tQ1zT5spGWiP"
      },
      "source": [
        "# quantize\n",
        "\n",
        "def quant(x):\n",
        "    if x % 5 == 0:\n",
        "        return int(x)\n",
        "    else:\n",
        "        return int(int((x + 5) / 5) * 5)\n",
        "\n",
        "quant_l = []\n",
        "quant_a = []\n",
        "quant_b = []\n",
        "\n",
        "for i in range(len(lab)):\n",
        "    quant_l.append(quant(lab.L[i]))\n",
        "    quant_a.append(quant(lab.a[i]))\n",
        "    quant_b.append(quant(lab.b[i]))"
      ],
      "execution_count": 11,
      "outputs": []
    },
    {
      "cell_type": "code",
      "metadata": {
        "id": "KKZLpcU1ITYl",
        "outputId": "14ad4a8a-7af7-494a-aeed-9a19acf55678",
        "colab": {
          "base_uri": "https://localhost:8080/",
          "height": 419
        }
      },
      "source": [
        "quant_lab = pd.DataFrame({\"L\" : quant_l, \"a\" : quant_a, \"b\": quant_b})\n",
        "quant_lab"
      ],
      "execution_count": 12,
      "outputs": [
        {
          "output_type": "execute_result",
          "data": {
            "text/html": [
              "<div>\n",
              "<style scoped>\n",
              "    .dataframe tbody tr th:only-of-type {\n",
              "        vertical-align: middle;\n",
              "    }\n",
              "\n",
              "    .dataframe tbody tr th {\n",
              "        vertical-align: top;\n",
              "    }\n",
              "\n",
              "    .dataframe thead th {\n",
              "        text-align: right;\n",
              "    }\n",
              "</style>\n",
              "<table border=\"1\" class=\"dataframe\">\n",
              "  <thead>\n",
              "    <tr style=\"text-align: right;\">\n",
              "      <th></th>\n",
              "      <th>L</th>\n",
              "      <th>a</th>\n",
              "      <th>b</th>\n",
              "    </tr>\n",
              "  </thead>\n",
              "  <tbody>\n",
              "    <tr>\n",
              "      <th>0</th>\n",
              "      <td>35</td>\n",
              "      <td>15</td>\n",
              "      <td>25</td>\n",
              "    </tr>\n",
              "    <tr>\n",
              "      <th>1</th>\n",
              "      <td>5</td>\n",
              "      <td>0</td>\n",
              "      <td>0</td>\n",
              "    </tr>\n",
              "    <tr>\n",
              "      <th>2</th>\n",
              "      <td>70</td>\n",
              "      <td>30</td>\n",
              "      <td>75</td>\n",
              "    </tr>\n",
              "    <tr>\n",
              "      <th>3</th>\n",
              "      <td>45</td>\n",
              "      <td>70</td>\n",
              "      <td>60</td>\n",
              "    </tr>\n",
              "    <tr>\n",
              "      <th>4</th>\n",
              "      <td>100</td>\n",
              "      <td>0</td>\n",
              "      <td>20</td>\n",
              "    </tr>\n",
              "    <tr>\n",
              "      <th>...</th>\n",
              "      <td>...</td>\n",
              "      <td>...</td>\n",
              "      <td>...</td>\n",
              "    </tr>\n",
              "    <tr>\n",
              "      <th>14995</th>\n",
              "      <td>55</td>\n",
              "      <td>-15</td>\n",
              "      <td>-10</td>\n",
              "    </tr>\n",
              "    <tr>\n",
              "      <th>14996</th>\n",
              "      <td>50</td>\n",
              "      <td>-5</td>\n",
              "      <td>5</td>\n",
              "    </tr>\n",
              "    <tr>\n",
              "      <th>14997</th>\n",
              "      <td>60</td>\n",
              "      <td>-20</td>\n",
              "      <td>-10</td>\n",
              "    </tr>\n",
              "    <tr>\n",
              "      <th>14998</th>\n",
              "      <td>90</td>\n",
              "      <td>0</td>\n",
              "      <td>45</td>\n",
              "    </tr>\n",
              "    <tr>\n",
              "      <th>14999</th>\n",
              "      <td>10</td>\n",
              "      <td>5</td>\n",
              "      <td>0</td>\n",
              "    </tr>\n",
              "  </tbody>\n",
              "</table>\n",
              "<p>15000 rows × 3 columns</p>\n",
              "</div>"
            ],
            "text/plain": [
              "         L   a   b\n",
              "0       35  15  25\n",
              "1        5   0   0\n",
              "2       70  30  75\n",
              "3       45  70  60\n",
              "4      100   0  20\n",
              "...    ...  ..  ..\n",
              "14995   55 -15 -10\n",
              "14996   50  -5   5\n",
              "14997   60 -20 -10\n",
              "14998   90   0  45\n",
              "14999   10   5   0\n",
              "\n",
              "[15000 rows x 3 columns]"
            ]
          },
          "metadata": {
            "tags": []
          },
          "execution_count": 12
        }
      ]
    },
    {
      "cell_type": "code",
      "metadata": {
        "id": "YaFmrUZlyWnx",
        "outputId": "3b99cc1c-9574-4067-f151-864387dae1c7",
        "colab": {
          "base_uri": "https://localhost:8080/",
          "height": 34
        }
      },
      "source": [
        "!pip install -q colour-science"
      ],
      "execution_count": 13,
      "outputs": [
        {
          "output_type": "stream",
          "text": [
            "\u001b[K     |████████████████████████████████| 1.6MB 2.7MB/s \n",
            "\u001b[?25h"
          ],
          "name": "stdout"
        }
      ]
    },
    {
      "cell_type": "code",
      "metadata": {
        "id": "8Sb0rpUoIZ1Z"
      },
      "source": [
        "# 적정 dEh 값과 비교하기 위한 테스트 진행\n",
        "# Cab = (a ** 2 + b ** 2) ** 1/2\n",
        "# dEh = dE / (1 + 0.022 * Cab)\n",
        "\n",
        "import colour\n",
        "\n",
        "dE = []\n",
        "\n",
        "for i in range(len(lab)):\n",
        "    previous = [lab.L[i], lab.a[i], lab.b[i]]\n",
        "    next = [quant_lab.L[i], quant_lab.a[i], quant_lab.b[i],]\n",
        "\n",
        "    de = colour.delta_E(previous, next, method='CIE 2000')\n",
        "    dE.append(de)"
      ],
      "execution_count": 14,
      "outputs": []
    },
    {
      "cell_type": "code",
      "metadata": {
        "id": "LWHtoQIwIlJH"
      },
      "source": [
        "cab = []\n",
        "\n",
        "for i in range(len(lab)):\n",
        "    cal = (lab.a[i] ** 2 + lab.b[i] ** 2) ** 1/2\n",
        "    cab.append(cal)"
      ],
      "execution_count": 15,
      "outputs": []
    },
    {
      "cell_type": "code",
      "metadata": {
        "id": "URBFecKuIpjW",
        "outputId": "59a90b6c-3a27-4472-f494-35b9f5d37c38",
        "colab": {
          "base_uri": "https://localhost:8080/",
          "height": 419
        }
      },
      "source": [
        "tmp = pd.DataFrame({\"dE\": dE, \"Cab\" : cab})\n",
        "tmp"
      ],
      "execution_count": 16,
      "outputs": [
        {
          "output_type": "execute_result",
          "data": {
            "text/html": [
              "<div>\n",
              "<style scoped>\n",
              "    .dataframe tbody tr th:only-of-type {\n",
              "        vertical-align: middle;\n",
              "    }\n",
              "\n",
              "    .dataframe tbody tr th {\n",
              "        vertical-align: top;\n",
              "    }\n",
              "\n",
              "    .dataframe thead th {\n",
              "        text-align: right;\n",
              "    }\n",
              "</style>\n",
              "<table border=\"1\" class=\"dataframe\">\n",
              "  <thead>\n",
              "    <tr style=\"text-align: right;\">\n",
              "      <th></th>\n",
              "      <th>dE</th>\n",
              "      <th>Cab</th>\n",
              "    </tr>\n",
              "  </thead>\n",
              "  <tbody>\n",
              "    <tr>\n",
              "      <th>0</th>\n",
              "      <td>1.151602</td>\n",
              "      <td>3.754730e+02</td>\n",
              "    </tr>\n",
              "    <tr>\n",
              "      <th>1</th>\n",
              "      <td>0.811273</td>\n",
              "      <td>3.249352e-07</td>\n",
              "    </tr>\n",
              "    <tr>\n",
              "      <th>2</th>\n",
              "      <td>1.708097</td>\n",
              "      <td>2.939535e+03</td>\n",
              "    </tr>\n",
              "    <tr>\n",
              "      <th>3</th>\n",
              "      <td>4.091402</td>\n",
              "      <td>3.677713e+03</td>\n",
              "    </tr>\n",
              "    <tr>\n",
              "      <th>4</th>\n",
              "      <td>5.311534</td>\n",
              "      <td>1.769253e+02</td>\n",
              "    </tr>\n",
              "    <tr>\n",
              "      <th>...</th>\n",
              "      <td>...</td>\n",
              "      <td>...</td>\n",
              "    </tr>\n",
              "    <tr>\n",
              "      <th>14995</th>\n",
              "      <td>5.903835</td>\n",
              "      <td>3.616468e+02</td>\n",
              "    </tr>\n",
              "    <tr>\n",
              "      <th>14996</th>\n",
              "      <td>6.280096</td>\n",
              "      <td>6.351273e+01</td>\n",
              "    </tr>\n",
              "    <tr>\n",
              "      <th>14997</th>\n",
              "      <td>5.832186</td>\n",
              "      <td>5.237000e+02</td>\n",
              "    </tr>\n",
              "    <tr>\n",
              "      <th>14998</th>\n",
              "      <td>4.083315</td>\n",
              "      <td>9.456922e+02</td>\n",
              "    </tr>\n",
              "    <tr>\n",
              "      <th>14999</th>\n",
              "      <td>7.686417</td>\n",
              "      <td>7.788880e+00</td>\n",
              "    </tr>\n",
              "  </tbody>\n",
              "</table>\n",
              "<p>15000 rows × 2 columns</p>\n",
              "</div>"
            ],
            "text/plain": [
              "             dE           Cab\n",
              "0      1.151602  3.754730e+02\n",
              "1      0.811273  3.249352e-07\n",
              "2      1.708097  2.939535e+03\n",
              "3      4.091402  3.677713e+03\n",
              "4      5.311534  1.769253e+02\n",
              "...         ...           ...\n",
              "14995  5.903835  3.616468e+02\n",
              "14996  6.280096  6.351273e+01\n",
              "14997  5.832186  5.237000e+02\n",
              "14998  4.083315  9.456922e+02\n",
              "14999  7.686417  7.788880e+00\n",
              "\n",
              "[15000 rows x 2 columns]"
            ]
          },
          "metadata": {
            "tags": []
          },
          "execution_count": 16
        }
      ]
    },
    {
      "cell_type": "code",
      "metadata": {
        "id": "h5763ehdIqLa"
      },
      "source": [
        "deh = []\n",
        "for i in range(len(tmp)):\n",
        "    cal = tmp.dE[i] / (1 + 0.022 * tmp.Cab[i])\n",
        "    deh.append(cal)"
      ],
      "execution_count": 17,
      "outputs": []
    },
    {
      "cell_type": "code",
      "metadata": {
        "id": "PIu6NFzwI7bH",
        "outputId": "80c58641-55aa-4bfa-ce20-8fbbdf0b90cf",
        "colab": {
          "base_uri": "https://localhost:8080/",
          "height": 419
        }
      },
      "source": [
        "deh = pd.DataFrame(data=deh, columns=['dEh'])\n",
        "deh"
      ],
      "execution_count": 18,
      "outputs": [
        {
          "output_type": "execute_result",
          "data": {
            "text/html": [
              "<div>\n",
              "<style scoped>\n",
              "    .dataframe tbody tr th:only-of-type {\n",
              "        vertical-align: middle;\n",
              "    }\n",
              "\n",
              "    .dataframe tbody tr th {\n",
              "        vertical-align: top;\n",
              "    }\n",
              "\n",
              "    .dataframe thead th {\n",
              "        text-align: right;\n",
              "    }\n",
              "</style>\n",
              "<table border=\"1\" class=\"dataframe\">\n",
              "  <thead>\n",
              "    <tr style=\"text-align: right;\">\n",
              "      <th></th>\n",
              "      <th>dEh</th>\n",
              "    </tr>\n",
              "  </thead>\n",
              "  <tbody>\n",
              "    <tr>\n",
              "      <th>0</th>\n",
              "      <td>0.124358</td>\n",
              "    </tr>\n",
              "    <tr>\n",
              "      <th>1</th>\n",
              "      <td>0.811273</td>\n",
              "    </tr>\n",
              "    <tr>\n",
              "      <th>2</th>\n",
              "      <td>0.026010</td>\n",
              "    </tr>\n",
              "    <tr>\n",
              "      <th>3</th>\n",
              "      <td>0.049950</td>\n",
              "    </tr>\n",
              "    <tr>\n",
              "      <th>4</th>\n",
              "      <td>1.085680</td>\n",
              "    </tr>\n",
              "    <tr>\n",
              "      <th>...</th>\n",
              "      <td>...</td>\n",
              "    </tr>\n",
              "    <tr>\n",
              "      <th>14995</th>\n",
              "      <td>0.659188</td>\n",
              "    </tr>\n",
              "    <tr>\n",
              "      <th>14996</th>\n",
              "      <td>2.619676</td>\n",
              "    </tr>\n",
              "    <tr>\n",
              "      <th>14997</th>\n",
              "      <td>0.465778</td>\n",
              "    </tr>\n",
              "    <tr>\n",
              "      <th>14998</th>\n",
              "      <td>0.187263</td>\n",
              "    </tr>\n",
              "    <tr>\n",
              "      <th>14999</th>\n",
              "      <td>6.561986</td>\n",
              "    </tr>\n",
              "  </tbody>\n",
              "</table>\n",
              "<p>15000 rows × 1 columns</p>\n",
              "</div>"
            ],
            "text/plain": [
              "            dEh\n",
              "0      0.124358\n",
              "1      0.811273\n",
              "2      0.026010\n",
              "3      0.049950\n",
              "4      1.085680\n",
              "...         ...\n",
              "14995  0.659188\n",
              "14996  2.619676\n",
              "14997  0.465778\n",
              "14998  0.187263\n",
              "14999  6.561986\n",
              "\n",
              "[15000 rows x 1 columns]"
            ]
          },
          "metadata": {
            "tags": []
          },
          "execution_count": 18
        }
      ]
    },
    {
      "cell_type": "code",
      "metadata": {
        "id": "6EYkV-ZhI8Tt",
        "outputId": "24a31900-2e79-42f9-df4d-a111a998483e",
        "colab": {
          "base_uri": "https://localhost:8080/",
          "height": 51
        }
      },
      "source": [
        "# 평균\n",
        "deh.mean() # 1.192859"
      ],
      "execution_count": 19,
      "outputs": [
        {
          "output_type": "execute_result",
          "data": {
            "text/plain": [
              "dEh    1.192859\n",
              "dtype: float64"
            ]
          },
          "metadata": {
            "tags": []
          },
          "execution_count": 19
        }
      ]
    },
    {
      "cell_type": "code",
      "metadata": {
        "id": "kID2MdEjJ7x6",
        "outputId": "4bfd6024-1115-419d-f0be-1eb234d06661",
        "colab": {
          "base_uri": "https://localhost:8080/",
          "height": 51
        }
      },
      "source": [
        "# 분산\n",
        "deh.var() # 2.418498"
      ],
      "execution_count": 20,
      "outputs": [
        {
          "output_type": "execute_result",
          "data": {
            "text/plain": [
              "dEh    2.418498\n",
              "dtype: float64"
            ]
          },
          "metadata": {
            "tags": []
          },
          "execution_count": 20
        }
      ]
    },
    {
      "cell_type": "markdown",
      "metadata": {
        "id": "h--dGUzrbzA4"
      },
      "source": [
        "## 3) 데이터 양자화 2\n",
        "- 양자화 간격을 3으로 조정함\n",
        "    - dE의 값을 5 이하로 하는 dL, da, db 의 값을 추산한 결과로 간격인 3을 결정함\n",
        "- 인지적으로 균등한 색채 이론 참고\n",
        "    - [Perceptual Color Space](http://cs.haifa.ac.il/hagit/courses/ist/Lectures/IST05_ColorLAB.pdf)\n",
        "- 양자화 후 dEh 값을 역으로 계산하여 양자화 신뢰도 검증함\n",
        "    - dEh 값은 평균 0.792064, 분산은 1.181968\n",
        "    - 데이터의 신뢰도 검증 완료\n",
        "- 양자화 한 색채로 테마를 구성했을 때의 시각적 유사도 또한 육안으로 검증하는 과정을 거쳤음"
      ]
    },
    {
      "cell_type": "code",
      "metadata": {
        "id": "bPpi-8a3KAu3"
      },
      "source": [
        "# quantize\n",
        "\n",
        "def quant2(x):\n",
        "    if x % 3 == 0:\n",
        "        return int(x)\n",
        "    else:\n",
        "        return int(int((x + 3) / 3) * 3)\n",
        "\n",
        "quant2_l = []\n",
        "quant2_a = []\n",
        "quant2_b = []\n",
        "\n",
        "for i in range(len(lab)):\n",
        "    quant2_l.append(quant2(lab.L[i]))\n",
        "    quant2_a.append(quant2(lab.a[i]))\n",
        "    quant2_b.append(quant2(lab.b[i]))"
      ],
      "execution_count": 21,
      "outputs": []
    },
    {
      "cell_type": "code",
      "metadata": {
        "id": "6DmogzdfcImm"
      },
      "source": [
        "quant2_lab = pd.DataFrame({\"L\" : quant2_l, \"a\" : quant2_a, \"b\": quant2_b})\n",
        "quant2_lab\n",
        "quant2_lab.to_csv('gdrive/My Drive/colorPOOL/kulerData/quantize.csv')"
      ],
      "execution_count": 22,
      "outputs": []
    },
    {
      "cell_type": "code",
      "metadata": {
        "id": "gsDh-3BecSNi"
      },
      "source": [
        "dE = []\n",
        "\n",
        "for i in range(len(lab)):\n",
        "    previous = [lab.L[i], lab.a[i], lab.b[i]]\n",
        "    next = [quant2_lab.L[i], quant2_lab.a[i], quant2_lab.b[i],]\n",
        "\n",
        "    de = colour.delta_E(previous, next, method='CIE 2000')\n",
        "    dE.append(de)"
      ],
      "execution_count": 23,
      "outputs": []
    },
    {
      "cell_type": "code",
      "metadata": {
        "id": "zfjgin9RcZyq"
      },
      "source": [
        "cab = []\n",
        "\n",
        "for i in range(len(lab)):\n",
        "    cal = (lab.a[i] ** 2 + lab.b[i] ** 2) ** 1/2\n",
        "    cab.append(cal)"
      ],
      "execution_count": 24,
      "outputs": []
    },
    {
      "cell_type": "code",
      "metadata": {
        "id": "yioxv3occbHO",
        "outputId": "17e62bee-2edc-4988-95a1-3a89b0604791",
        "colab": {
          "base_uri": "https://localhost:8080/",
          "height": 419
        }
      },
      "source": [
        "tmp = pd.DataFrame({\"dE\": dE, \"Cab\" : cab})\n",
        "tmp"
      ],
      "execution_count": 25,
      "outputs": [
        {
          "output_type": "execute_result",
          "data": {
            "text/html": [
              "<div>\n",
              "<style scoped>\n",
              "    .dataframe tbody tr th:only-of-type {\n",
              "        vertical-align: middle;\n",
              "    }\n",
              "\n",
              "    .dataframe tbody tr th {\n",
              "        vertical-align: top;\n",
              "    }\n",
              "\n",
              "    .dataframe thead th {\n",
              "        text-align: right;\n",
              "    }\n",
              "</style>\n",
              "<table border=\"1\" class=\"dataframe\">\n",
              "  <thead>\n",
              "    <tr style=\"text-align: right;\">\n",
              "      <th></th>\n",
              "      <th>dE</th>\n",
              "      <th>Cab</th>\n",
              "    </tr>\n",
              "  </thead>\n",
              "  <tbody>\n",
              "    <tr>\n",
              "      <th>0</th>\n",
              "      <td>1.642781</td>\n",
              "      <td>3.754730e+02</td>\n",
              "    </tr>\n",
              "    <tr>\n",
              "      <th>1</th>\n",
              "      <td>1.412139</td>\n",
              "      <td>3.249352e-07</td>\n",
              "    </tr>\n",
              "    <tr>\n",
              "      <th>2</th>\n",
              "      <td>1.452595</td>\n",
              "      <td>2.939535e+03</td>\n",
              "    </tr>\n",
              "    <tr>\n",
              "      <th>3</th>\n",
              "      <td>1.289372</td>\n",
              "      <td>3.677713e+03</td>\n",
              "    </tr>\n",
              "    <tr>\n",
              "      <th>4</th>\n",
              "      <td>5.338274</td>\n",
              "      <td>1.769253e+02</td>\n",
              "    </tr>\n",
              "    <tr>\n",
              "      <th>...</th>\n",
              "      <td>...</td>\n",
              "      <td>...</td>\n",
              "    </tr>\n",
              "    <tr>\n",
              "      <th>14995</th>\n",
              "      <td>4.581062</td>\n",
              "      <td>3.616468e+02</td>\n",
              "    </tr>\n",
              "    <tr>\n",
              "      <th>14996</th>\n",
              "      <td>4.622651</td>\n",
              "      <td>6.351273e+01</td>\n",
              "    </tr>\n",
              "    <tr>\n",
              "      <th>14997</th>\n",
              "      <td>3.290195</td>\n",
              "      <td>5.237000e+02</td>\n",
              "    </tr>\n",
              "    <tr>\n",
              "      <th>14998</th>\n",
              "      <td>4.083315</td>\n",
              "      <td>9.456922e+02</td>\n",
              "    </tr>\n",
              "    <tr>\n",
              "      <th>14999</th>\n",
              "      <td>5.922686</td>\n",
              "      <td>7.788880e+00</td>\n",
              "    </tr>\n",
              "  </tbody>\n",
              "</table>\n",
              "<p>15000 rows × 2 columns</p>\n",
              "</div>"
            ],
            "text/plain": [
              "             dE           Cab\n",
              "0      1.642781  3.754730e+02\n",
              "1      1.412139  3.249352e-07\n",
              "2      1.452595  2.939535e+03\n",
              "3      1.289372  3.677713e+03\n",
              "4      5.338274  1.769253e+02\n",
              "...         ...           ...\n",
              "14995  4.581062  3.616468e+02\n",
              "14996  4.622651  6.351273e+01\n",
              "14997  3.290195  5.237000e+02\n",
              "14998  4.083315  9.456922e+02\n",
              "14999  5.922686  7.788880e+00\n",
              "\n",
              "[15000 rows x 2 columns]"
            ]
          },
          "metadata": {
            "tags": []
          },
          "execution_count": 25
        }
      ]
    },
    {
      "cell_type": "code",
      "metadata": {
        "id": "Oja4Wnt8cdxO"
      },
      "source": [
        "deh = []\n",
        "for i in range(len(tmp)):\n",
        "    cal = tmp.dE[i] / (1 + 0.022 * tmp.Cab[i])\n",
        "    deh.append(cal)"
      ],
      "execution_count": 26,
      "outputs": []
    },
    {
      "cell_type": "code",
      "metadata": {
        "id": "9XSQgjh8ch7H",
        "outputId": "8db46f4c-749b-4bcf-a54d-e4f6b3c24ce7",
        "colab": {
          "base_uri": "https://localhost:8080/",
          "height": 419
        }
      },
      "source": [
        "deh2 = pd.DataFrame(data=deh, columns=['dEh'])\n",
        "deh2"
      ],
      "execution_count": 27,
      "outputs": [
        {
          "output_type": "execute_result",
          "data": {
            "text/html": [
              "<div>\n",
              "<style scoped>\n",
              "    .dataframe tbody tr th:only-of-type {\n",
              "        vertical-align: middle;\n",
              "    }\n",
              "\n",
              "    .dataframe tbody tr th {\n",
              "        vertical-align: top;\n",
              "    }\n",
              "\n",
              "    .dataframe thead th {\n",
              "        text-align: right;\n",
              "    }\n",
              "</style>\n",
              "<table border=\"1\" class=\"dataframe\">\n",
              "  <thead>\n",
              "    <tr style=\"text-align: right;\">\n",
              "      <th></th>\n",
              "      <th>dEh</th>\n",
              "    </tr>\n",
              "  </thead>\n",
              "  <tbody>\n",
              "    <tr>\n",
              "      <th>0</th>\n",
              "      <td>0.177398</td>\n",
              "    </tr>\n",
              "    <tr>\n",
              "      <th>1</th>\n",
              "      <td>1.412139</td>\n",
              "    </tr>\n",
              "    <tr>\n",
              "      <th>2</th>\n",
              "      <td>0.022120</td>\n",
              "    </tr>\n",
              "    <tr>\n",
              "      <th>3</th>\n",
              "      <td>0.015741</td>\n",
              "    </tr>\n",
              "    <tr>\n",
              "      <th>4</th>\n",
              "      <td>1.091146</td>\n",
              "    </tr>\n",
              "    <tr>\n",
              "      <th>...</th>\n",
              "      <td>...</td>\n",
              "    </tr>\n",
              "    <tr>\n",
              "      <th>14995</th>\n",
              "      <td>0.511495</td>\n",
              "    </tr>\n",
              "    <tr>\n",
              "      <th>14996</th>\n",
              "      <td>1.928290</td>\n",
              "    </tr>\n",
              "    <tr>\n",
              "      <th>14997</th>\n",
              "      <td>0.262766</td>\n",
              "    </tr>\n",
              "    <tr>\n",
              "      <th>14998</th>\n",
              "      <td>0.187263</td>\n",
              "    </tr>\n",
              "    <tr>\n",
              "      <th>14999</th>\n",
              "      <td>5.056268</td>\n",
              "    </tr>\n",
              "  </tbody>\n",
              "</table>\n",
              "<p>15000 rows × 1 columns</p>\n",
              "</div>"
            ],
            "text/plain": [
              "            dEh\n",
              "0      0.177398\n",
              "1      1.412139\n",
              "2      0.022120\n",
              "3      0.015741\n",
              "4      1.091146\n",
              "...         ...\n",
              "14995  0.511495\n",
              "14996  1.928290\n",
              "14997  0.262766\n",
              "14998  0.187263\n",
              "14999  5.056268\n",
              "\n",
              "[15000 rows x 1 columns]"
            ]
          },
          "metadata": {
            "tags": []
          },
          "execution_count": 27
        }
      ]
    },
    {
      "cell_type": "code",
      "metadata": {
        "id": "YOprXTYZciV9",
        "outputId": "3842aad7-5cff-4220-8ab2-cba529f41fdc",
        "colab": {
          "base_uri": "https://localhost:8080/",
          "height": 51
        }
      },
      "source": [
        "# 평균\n",
        "deh2.mean() # 0.792064"
      ],
      "execution_count": 28,
      "outputs": [
        {
          "output_type": "execute_result",
          "data": {
            "text/plain": [
              "dEh    0.792064\n",
              "dtype: float64"
            ]
          },
          "metadata": {
            "tags": []
          },
          "execution_count": 28
        }
      ]
    },
    {
      "cell_type": "code",
      "metadata": {
        "id": "Y500V9xickY7",
        "outputId": "3a633a41-62eb-4aef-d0db-83dfe73b097d",
        "colab": {
          "base_uri": "https://localhost:8080/",
          "height": 51
        }
      },
      "source": [
        "# 분산\n",
        "deh2.var() # 1.181968"
      ],
      "execution_count": 29,
      "outputs": [
        {
          "output_type": "execute_result",
          "data": {
            "text/plain": [
              "dEh    1.181968\n",
              "dtype: float64"
            ]
          },
          "metadata": {
            "tags": []
          },
          "execution_count": 29
        }
      ]
    }
  ]
}