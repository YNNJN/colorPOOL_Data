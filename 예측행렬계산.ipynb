{
  "nbformat": 4,
  "nbformat_minor": 0,
  "metadata": {
    "colab": {
      "name": "예측행렬계산.ipynb",
      "provenance": [],
      "collapsed_sections": [],
      "authorship_tag": "ABX9TyNljmBoknCvwYjLrELRPpBT",
      "include_colab_link": true
    },
    "kernelspec": {
      "name": "python3",
      "display_name": "Python 3"
    },
    "accelerator": "GPU"
  },
  "cells": [
    {
      "cell_type": "markdown",
      "metadata": {
        "id": "view-in-github",
        "colab_type": "text"
      },
      "source": [
        "<a href=\"https://colab.research.google.com/github/YNNJN/colorPOOL_Data/blob/master/%EC%98%88%EC%B8%A1%ED%96%89%EB%A0%AC%EA%B3%84%EC%82%B0.ipynb\" target=\"_parent\"><img src=\"https://colab.research.google.com/assets/colab-badge.svg\" alt=\"Open In Colab\"/></a>"
      ]
    },
    {
      "cell_type": "markdown",
      "metadata": {
        "id": "lO7AEVOxYwnP"
      },
      "source": [
        "## 0. 과정 요약\n",
        "- 예측행렬 계산 : Sparse matrix의 결측값 비율을 낮추기 위해 진행\n",
        "    - 그룹에 대한 예측 수행 → 전체 행렬로 확장  \n",
        "    1) 테마 간 유사도 분석을 통한 클러스터링  \n",
        "    2) 행렬 인수분해를 통한 색채-테마 관계 예측  \n",
        "    3) 색채-테마 관계 예측 행렬 정규화 및 보정  "
      ]
    },
    {
      "cell_type": "code",
      "metadata": {
        "id": "fuSOy3gSYcSP",
        "outputId": "fb93505c-ee29-4342-dc1f-14e97263ee7f",
        "colab": {
          "base_uri": "https://localhost:8080/",
          "height": 34
        }
      },
      "source": [
        "# connect to google drive\n",
        "\n",
        "from google.colab import drive\n",
        "drive.mount('/content/gdrive')"
      ],
      "execution_count": null,
      "outputs": [
        {
          "output_type": "stream",
          "text": [
            "Mounted at /content/gdrive\n"
          ],
          "name": "stdout"
        }
      ]
    },
    {
      "cell_type": "code",
      "metadata": {
        "id": "0Z-dbl1eYiLn"
      },
      "source": [
        "import numpy as np # linear algebra\n",
        "import pandas as pd # data processing, CSV file I/O (e.g. pd.read_csv)"
      ],
      "execution_count": null,
      "outputs": []
    },
    {
      "cell_type": "code",
      "metadata": {
        "id": "z4y4FXIoqQNY"
      },
      "source": [
        "theme_df = pd.read_csv('gdrive/My Drive/colorPOOL/kulerData/quantizeTheme.csv')\n",
        "color_df = pd.read_csv('gdrive/My Drive/colorPOOL/kulerData/quantize.csv')\n",
        "matrixData = pd.read_csv('gdrive/My Drive/colorPOOL/kulerData/referenceMatrix.csv')"
      ],
      "execution_count": null,
      "outputs": []
    },
    {
      "cell_type": "markdown",
      "metadata": {
        "id": "gVXEamFyZm8_"
      },
      "source": [
        "## 1. 비슷한 색채를 포함하는 테마 그룹핑\n",
        "- 계산되지 않은 테마(값이 0) 중 가장 평점이 높은 테마를 기준으로 유사도 계산\n",
        "    - 코사인 계수 활용\n",
        "    - 유사도가 높은 순서대로 테마를 추가하며 값을 예측\n",
        "    - 이후 존재하는 기준 값과의 오차를 계산\n",
        "    - 오차 값이 급격히 커지는 테마 직전까지만을 해당 테마 그룹에 추가"
      ]
    },
    {
      "cell_type": "code",
      "metadata": {
        "id": "4DTR5UgMaGaZ"
      },
      "source": [
        "from numpy import dot\n",
        "from numpy.linalg import norm\n",
        "\n",
        "def cos_sim(A, B):\n",
        "    return dot(A, B)/(norm(A)*norm(B))\n",
        "\n",
        "def cos_sim(A, B):\n",
        "    normA = norm(A)\n",
        "    normB = norm(B)\n",
        "    if normA * normB == 0: # rounding error 이슈 해결을 위한 조건문\n",
        "        return 0\n",
        "    else:\n",
        "        return dot(A, B)/(normA * normB)"
      ],
      "execution_count": null,
      "outputs": []
    },
    {
      "cell_type": "code",
      "metadata": {
        "id": "nxrZ-Stz9DQi"
      },
      "source": [
        "cols_len = len(matrixData.loc[0])\n",
        "m_columns = matrixData.columns\n",
        "\n",
        "sim_matrix = pd.DataFrame(columns=m_columns, dtype=float)\n",
        "\n",
        "for r in range(len(matrixData)): \n",
        "    max = 0\n",
        "    max_index = -1\n",
        "    for c in range(cols_len):\n",
        "        rating = matrixData.iloc[r][c]\n",
        "        if rating:\n",
        "            if max < rating:\n",
        "                max = rating\n",
        "                max_index = c\n",
        "  \n",
        "    kj = matrixData.iloc[max_index]\n",
        "    arr = [0] * cols_len\n",
        "\n",
        "    for i in range(cols_len):\n",
        "        if i != max_index:\n",
        "            ki = matrixData.iloc[i]\n",
        "            arr[i] = cos_sim(ki, kj)\n",
        "        else:\n",
        "            arr[i] = 1.0\n",
        "\n",
        "    sim_matrix = sim_matrix.append(pd.Series(arr, index=m_columns), ignore_index=True)\n",
        "\n",
        "sim_matrix"
      ],
      "execution_count": null,
      "outputs": []
    },
    {
      "cell_type": "code",
      "metadata": {
        "id": "ueqXW7er9Yg8"
      },
      "source": [
        "sim_matrix.to_csv('gdrive/My Drive/colorPOOL/kulerData/simMatrix.csv')"
      ],
      "execution_count": null,
      "outputs": []
    },
    {
      "cell_type": "code",
      "metadata": {
        "id": "ymOmN4vpP44g"
      },
      "source": [
        "# 테마 그룹 리스트"
      ],
      "execution_count": null,
      "outputs": []
    }
  ]
}