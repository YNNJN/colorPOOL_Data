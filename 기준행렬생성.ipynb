{
  "nbformat": 4,
  "nbformat_minor": 0,
  "metadata": {
    "colab": {
      "name": "기준행렬생성.ipynb",
      "provenance": [],
      "collapsed_sections": [],
      "authorship_tag": "ABX9TyNmiZRv1bGORxvvLSFwHJ4t",
      "include_colab_link": true
    },
    "kernelspec": {
      "name": "python3",
      "display_name": "Python 3"
    }
  },
  "cells": [
    {
      "cell_type": "markdown",
      "metadata": {
        "id": "view-in-github",
        "colab_type": "text"
      },
      "source": [
        "<a href=\"https://colab.research.google.com/github/YNNJN/colorPool_Data/blob/master/%EA%B8%B0%EC%A4%80%ED%96%89%EB%A0%AC%EC%83%9D%EC%84%B1.ipynb\" target=\"_parent\"><img src=\"https://colab.research.google.com/assets/colab-badge.svg\" alt=\"Open In Colab\"/></a>"
      ]
    },
    {
      "cell_type": "markdown",
      "metadata": {
        "id": "7AQAeIbmiY9Z",
        "colab_type": "text"
      },
      "source": [
        "# 1. 기준행렬 K 생성\n",
        "- 기준 행렬이란 조화관계 예측 위한 기준 데이터임\n",
        "- 즉 각 테마가 어떤 색채를 포함하는지를 나타내는 색채-테마 관계 기준 행렬임\n",
        "- N X M 행렬\n",
        "    - N은 표본 색채 수(7234), M은 표본 배색 수(3000)\n",
        "    - 행렬의 value는 rating"
      ]
    },
    {
      "cell_type": "code",
      "metadata": {
        "id": "SicufaxfQxON",
        "colab_type": "code",
        "colab": {}
      },
      "source": [
        "!git clone https://github.com/YNNJN/colorPool_Data.git"
      ],
      "execution_count": null,
      "outputs": []
    },
    {
      "cell_type": "code",
      "metadata": {
        "id": "Ln1rk9lHQ5as",
        "colab_type": "code",
        "colab": {}
      },
      "source": [
        "!ls -ltr"
      ],
      "execution_count": null,
      "outputs": []
    },
    {
      "cell_type": "code",
      "metadata": {
        "id": "28yTWbcIQ8Bd",
        "colab_type": "code",
        "colab": {}
      },
      "source": [
        "# connect to google drive\n",
        "\n",
        "from google.colab import drive\n",
        "drive.mount('/content/gdrive')"
      ],
      "execution_count": null,
      "outputs": []
    },
    {
      "cell_type": "code",
      "metadata": {
        "id": "64fcs6KjQ-7m",
        "colab_type": "code",
        "colab": {}
      },
      "source": [
        "import numpy as np # linear algebra\n",
        "import pandas as pd # data processing, CSV file I/O (e.g. pd.read_csv)\n",
        "\n",
        "data = pd.read_csv('gdrive/My Drive/colorPOOL/kulerData/quantize.csv')\n",
        "data = data.drop([data.columns[0]], axis=1)\n",
        "data"
      ],
      "execution_count": null,
      "outputs": []
    },
    {
      "cell_type": "markdown",
      "metadata": {
        "id": "10g76a12o3ND",
        "colab_type": "text"
      },
      "source": [
        "## 1) 표본 색채 (행)"
      ]
    },
    {
      "cell_type": "code",
      "metadata": {
        "id": "8ohxQ2DGmq4M",
        "colab_type": "code",
        "colab": {
          "base_uri": "https://localhost:8080/",
          "height": 419
        },
        "outputId": "a5aec321-17c4-467c-9cf4-01ca869406af"
      },
      "source": [
        "# 표본 색채 설정 위해 중복되는 컬러 삭제\n",
        "# 결과 : 7234개 컬러\n",
        "\n",
        "colorData = data.drop_duplicates()\n",
        "colorData"
      ],
      "execution_count": 5,
      "outputs": [
        {
          "output_type": "execute_result",
          "data": {
            "text/html": [
              "<div>\n",
              "<style scoped>\n",
              "    .dataframe tbody tr th:only-of-type {\n",
              "        vertical-align: middle;\n",
              "    }\n",
              "\n",
              "    .dataframe tbody tr th {\n",
              "        vertical-align: top;\n",
              "    }\n",
              "\n",
              "    .dataframe thead th {\n",
              "        text-align: right;\n",
              "    }\n",
              "</style>\n",
              "<table border=\"1\" class=\"dataframe\">\n",
              "  <thead>\n",
              "    <tr style=\"text-align: right;\">\n",
              "      <th></th>\n",
              "      <th>L</th>\n",
              "      <th>a</th>\n",
              "      <th>b</th>\n",
              "    </tr>\n",
              "  </thead>\n",
              "  <tbody>\n",
              "    <tr>\n",
              "      <th>0</th>\n",
              "      <td>36</td>\n",
              "      <td>18</td>\n",
              "      <td>30</td>\n",
              "    </tr>\n",
              "    <tr>\n",
              "      <th>1</th>\n",
              "      <td>6</td>\n",
              "      <td>3</td>\n",
              "      <td>3</td>\n",
              "    </tr>\n",
              "    <tr>\n",
              "      <th>2</th>\n",
              "      <td>72</td>\n",
              "      <td>33</td>\n",
              "      <td>81</td>\n",
              "    </tr>\n",
              "    <tr>\n",
              "      <th>3</th>\n",
              "      <td>42</td>\n",
              "      <td>69</td>\n",
              "      <td>63</td>\n",
              "    </tr>\n",
              "    <tr>\n",
              "      <th>4</th>\n",
              "      <td>99</td>\n",
              "      <td>0</td>\n",
              "      <td>36</td>\n",
              "    </tr>\n",
              "    <tr>\n",
              "      <th>...</th>\n",
              "      <td>...</td>\n",
              "      <td>...</td>\n",
              "      <td>...</td>\n",
              "    </tr>\n",
              "    <tr>\n",
              "      <th>11987</th>\n",
              "      <td>66</td>\n",
              "      <td>42</td>\n",
              "      <td>69</td>\n",
              "    </tr>\n",
              "    <tr>\n",
              "      <th>11991</th>\n",
              "      <td>21</td>\n",
              "      <td>12</td>\n",
              "      <td>30</td>\n",
              "    </tr>\n",
              "    <tr>\n",
              "      <th>11993</th>\n",
              "      <td>81</td>\n",
              "      <td>6</td>\n",
              "      <td>30</td>\n",
              "    </tr>\n",
              "    <tr>\n",
              "      <th>11995</th>\n",
              "      <td>75</td>\n",
              "      <td>-36</td>\n",
              "      <td>27</td>\n",
              "    </tr>\n",
              "    <tr>\n",
              "      <th>11997</th>\n",
              "      <td>66</td>\n",
              "      <td>-24</td>\n",
              "      <td>69</td>\n",
              "    </tr>\n",
              "  </tbody>\n",
              "</table>\n",
              "<p>7234 rows × 3 columns</p>\n",
              "</div>"
            ],
            "text/plain": [
              "        L   a   b\n",
              "0      36  18  30\n",
              "1       6   3   3\n",
              "2      72  33  81\n",
              "3      42  69  63\n",
              "4      99   0  36\n",
              "...    ..  ..  ..\n",
              "11987  66  42  69\n",
              "11991  21  12  30\n",
              "11993  81   6  30\n",
              "11995  75 -36  27\n",
              "11997  66 -24  69\n",
              "\n",
              "[7234 rows x 3 columns]"
            ]
          },
          "metadata": {
            "tags": []
          },
          "execution_count": 5
        }
      ]
    },
    {
      "cell_type": "markdown",
      "metadata": {
        "id": "DcqXpqXJpKnP",
        "colab_type": "text"
      },
      "source": [
        "## 2) 표본 배색 (열)"
      ]
    },
    {
      "cell_type": "code",
      "metadata": {
        "id": "TuJ7TVexRec9",
        "colab_type": "code",
        "colab": {}
      },
      "source": [
        "# 데이터프레임 형태 변환 15000*3 => 3000*15\n",
        "\n",
        "df1 = data[:3000].reset_index(drop=True).rename(columns={\"L\":'L1',\"a\":'a1',\"b\":'b1'})\n",
        "df2 = data[3000:6000].reset_index(drop=True).rename(columns={\"L\":'L2',\"a\":'a2',\"b\":'b2'})\n",
        "df3 = data[6000:9000].reset_index(drop=True).rename(columns={\"L\":'L3',\"a\":'a3',\"b\":'b3'})\n",
        "df4 = data[9000:12000].reset_index(drop=True).rename(columns={\"L\":'L4',\"a\":'a4',\"b\":'b4'})\n",
        "df5 = data[12000:15000].reset_index(drop=True).rename(columns={\"L\":'L5',\"a\":'a5',\"b\":'b5'})\n",
        "\n",
        "df_all = pd.concat([df1,df2,df3,df4,df5], axis=1).reset_index(drop=True)\n",
        "df_all"
      ],
      "execution_count": null,
      "outputs": []
    },
    {
      "cell_type": "code",
      "metadata": {
        "id": "ZYAYIDFimIut",
        "colab_type": "code",
        "colab": {}
      },
      "source": [
        ""
      ],
      "execution_count": 6,
      "outputs": []
    }
  ]
}