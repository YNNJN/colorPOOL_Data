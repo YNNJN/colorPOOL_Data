{
  "nbformat": 4,
  "nbformat_minor": 0,
  "metadata": {
    "colab": {
      "name": "기준행렬생성.ipynb",
      "provenance": [],
      "authorship_tag": "ABX9TyPYbjLLQ2KnCmE85Nya8Cua",
      "include_colab_link": true
    },
    "kernelspec": {
      "name": "python3",
      "display_name": "Python 3"
    }
  },
  "cells": [
    {
      "cell_type": "markdown",
      "metadata": {
        "id": "view-in-github",
        "colab_type": "text"
      },
      "source": [
        "<a href=\"https://colab.research.google.com/github/YNNJN/colorPool_Data/blob/master/%EA%B8%B0%EC%A4%80%ED%96%89%EB%A0%AC%EC%83%9D%EC%84%B1.ipynb\" target=\"_parent\"><img src=\"https://colab.research.google.com/assets/colab-badge.svg\" alt=\"Open In Colab\"/></a>"
      ]
    },
    {
      "cell_type": "code",
      "metadata": {
        "id": "SicufaxfQxON",
        "colab_type": "code",
        "colab": {}
      },
      "source": [
        "!git clone https://github.com/YNNJN/colorPool_Data.git"
      ],
      "execution_count": null,
      "outputs": []
    },
    {
      "cell_type": "code",
      "metadata": {
        "id": "Ln1rk9lHQ5as",
        "colab_type": "code",
        "colab": {}
      },
      "source": [
        "!ls -ltr"
      ],
      "execution_count": null,
      "outputs": []
    },
    {
      "cell_type": "code",
      "metadata": {
        "id": "28yTWbcIQ8Bd",
        "colab_type": "code",
        "colab": {}
      },
      "source": [
        "# connect to google dirve\n",
        "\n",
        "from google.colab import drive\n",
        "drive.mount('/content/gdrive')"
      ],
      "execution_count": null,
      "outputs": []
    },
    {
      "cell_type": "code",
      "metadata": {
        "id": "64fcs6KjQ-7m",
        "colab_type": "code",
        "colab": {}
      },
      "source": [
        "import numpy as np # linear algebra\n",
        "import pandas as pd # data processing, CSV file I/O (e.g. pd.read_csv)\n",
        "\n",
        "colorData = pd.read_csv('gdrive/My Drive/colorPOOL/kulerData/quantize.csv')\n",
        "colorData = colorData.drop([colorData.columns[0]], axis=1)\n",
        "colorData"
      ],
      "execution_count": null,
      "outputs": []
    },
    {
      "cell_type": "code",
      "metadata": {
        "id": "TuJ7TVexRec9",
        "colab_type": "code",
        "colab": {}
      },
      "source": [
        "# 데이터프레임 형태 변환 15000*3 => 3000*15\n",
        "\n",
        "df1=colorData.loc[:3000].reset_index(drop=True).rename(columns={\"L\":'L1',\"a\":'a1',\"b\":'b1'})\n",
        "df2=colorData.loc[3000:6000].reset_index(drop=True).rename(columns={\"L\":'L2',\"a\":'a2',\"b\":'b2'})\n",
        "df3=colorData.loc[6000:9000].reset_index(drop=True).rename(columns={\"L\":'L3',\"a\":'a3',\"b\":'b3'})\n",
        "df4=colorData.loc[9000:12000].reset_index(drop=True).rename(columns={\"L\":'L4',\"a\":'a4',\"b\":'b4'})\n",
        "df5=colorData.loc[12000:15000].reset_index(drop=True).rename(columns={\"L\":'L5',\"a\":'a5',\"b\":'b5'})\n",
        "\n",
        "df_all=pd.concat([df1,df2,df3,df4,df5], axis=1).reset_index(drop=True)\n",
        "df_all\n",
        "\n",
        "df_all.to_csv('gdrive/My Drive/colorPOOL/kulerData/theme&color.csv')"
      ],
      "execution_count": null,
      "outputs": []
    },
    {
      "cell_type": "code",
      "metadata": {
        "id": "0dlVkjGpT_h6",
        "colab_type": "code",
        "colab": {}
      },
      "source": [
        ""
      ],
      "execution_count": null,
      "outputs": []
    }
  ]
}