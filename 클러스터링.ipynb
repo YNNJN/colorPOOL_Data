{
  "nbformat": 4,
  "nbformat_minor": 0,
  "metadata": {
    "colab": {
      "name": "클러스터링.ipynb",
      "provenance": [],
      "collapsed_sections": [],
      "authorship_tag": "ABX9TyOYhleEkf7llke4Imd4z5+z",
      "include_colab_link": true
    },
    "kernelspec": {
      "name": "python3",
      "display_name": "Python 3"
    }
  },
  "cells": [
    {
      "cell_type": "markdown",
      "metadata": {
        "id": "view-in-github",
        "colab_type": "text"
      },
      "source": [
        "<a href=\"https://colab.research.google.com/github/YNNJN/colorPOOL_Data/blob/master/%ED%81%B4%EB%9F%AC%EC%8A%A4%ED%84%B0%EB%A7%81.ipynb\" target=\"_parent\"><img src=\"https://colab.research.google.com/assets/colab-badge.svg\" alt=\"Open In Colab\"/></a>"
      ]
    },
    {
      "cell_type": "markdown",
      "metadata": {
        "id": "_MFSOxh7rK3p",
        "colab_type": "text"
      },
      "source": [
        "# 1. 색공간 내에서의 거리 계산\n",
        "- 컬러 사이의 유사도는 색공간 내 거리와 반비례 관계\n",
        "    - **Palette Similarity**\n",
        "    > Inverse of distance between two palettes with the closest first matched color pairs (KAIST Color Sommelier)\n",
        "- 과정\n",
        "    - 테마를 구성하는 5가지 컬러 중 기준 컬러(행)와의 색차가 가장 작은(유사도가 큰) 값을 따짐"
      ]
    },
    {
      "cell_type": "code",
      "metadata": {
        "id": "7fIn1Lb9rHZT",
        "colab_type": "code",
        "colab": {}
      },
      "source": [
        "# connect to google drive\n",
        "\n",
        "from google.colab import drive\n",
        "drive.mount('/content/gdrive')"
      ],
      "execution_count": null,
      "outputs": []
    },
    {
      "cell_type": "code",
      "metadata": {
        "id": "uLA60qLQrT5f",
        "colab_type": "code",
        "colab": {}
      },
      "source": [
        "import numpy as np\n",
        "import pandas as pd"
      ],
      "execution_count": null,
      "outputs": []
    },
    {
      "cell_type": "code",
      "metadata": {
        "id": "s8hJgj9DrVTo",
        "colab_type": "code",
        "colab": {}
      },
      "source": [
        "theme_df = pd.read_csv('gdrive/My Drive/colorPOOL/kulerData/quantizeTheme.csv')\n",
        "color_df = pd.read_csv('gdrive/My Drive/colorPOOL/kulerData/quantize.csv')\n",
        "referenceMatrix_df = pd.read_csv('gdrive/My Drive/colorPOOL/kulerData/referenceMatrix.csv')"
      ],
      "execution_count": null,
      "outputs": []
    },
    {
      "cell_type": "code",
      "metadata": {
        "id": "OgLlSCftrYpn",
        "colab_type": "code",
        "colab": {}
      },
      "source": [
        "# inverse distance\n",
        "\n",
        "def inverse_distance(a,b) :\n",
        "  if a[0] == b[0] and a[1] == b[1] and a[2] == b[2]: # 동일한 색인 경우\n",
        "    return 1.0 \n",
        "  return 1/(sum((a-b)**2))**(1/2)"
      ],
      "execution_count": null,
      "outputs": []
    },
    {
      "cell_type": "code",
      "metadata": {
        "id": "n9oWHKSwsXG4",
        "colab_type": "code",
        "colab": {}
      },
      "source": [
        "# 컬러와 테마간의 유사도 측정\n",
        "# 테마를 구성하는 5가지 컬러 중 기준 컬러(행)와 색차가 가장 작은 값을 저장함\n",
        "\n",
        "max = 0\n",
        "columns = referenceMatrix_df.columns[1:]\n",
        "matrix = pd.DataFrame(columns=columns, dtype=float)\n",
        "\n",
        "# print(len(color_df))\n",
        "\n",
        "for colorId in range(len(color_df)):\n",
        "    rowArr = []\n",
        "    for themeId in range(len(theme_df)):\n",
        "        color = [color_df.iloc[colorId, 1], color_df.iloc[colorId, 2], color_df.iloc[colorId, 3]]\n",
        "        max_inverse_dist = 0\n",
        "        for k in range(5):\n",
        "            theme = [theme_df.iloc[themeId, 3*k+1], theme_df.iloc[themeId, 3*k+2], theme_df.iloc[themeId, 3*k+3]]\n",
        "            if k == 0: \n",
        "                max_inverse_dist = inverse_distance(np.array(color), np.array(theme))\n",
        "            else: \n",
        "                inverse_dist = inverse_distance(np.array(color), np.array(theme))\n",
        "                if max_inverse_dist < inverse_dist : \n",
        "                    max_inverse_dist = inverse_dist\n",
        "        if max_inverse_dist != 1 and max < max_inverse_dist :\n",
        "            max = max_inverse_dist\n",
        "        rowArr.append(max_inverse_dist)\n",
        "    # print(rowArr) \n",
        "    matrix = matrix.append(pd.Series(rowArr,index=columns), ignore_index=True)\n",
        "\n",
        "matrix\n",
        "# print(matrix)\n",
        "matrix.to_csv('gdrive/My Drive/colorPOOL/kulerData/distanceMatrix.csv')"
      ],
      "execution_count": null,
      "outputs": []
    },
    {
      "cell_type": "code",
      "metadata": {
        "id": "W7KyQSWOvtfN",
        "colab_type": "code",
        "colab": {}
      },
      "source": [
        "distance_df = pd.read_csv('gdrive/My Drive/colorPOOL/kulerData/distanceMatrix.csv')\n",
        "theme_df = theme_df.iloc[:,1:]\n",
        "color_df = color_df.iloc[:,1:]"
      ],
      "execution_count": null,
      "outputs": []
    },
    {
      "cell_type": "code",
      "metadata": {
        "id": "ElWLUObZSp1Y",
        "colab_type": "code",
        "colab": {}
      },
      "source": [
        "theme_ids = distance_df.columns;\n",
        "theme_ids = theme_ids[1:]"
      ],
      "execution_count": 5,
      "outputs": []
    },
    {
      "cell_type": "code",
      "metadata": {
        "id": "E3T3sWLqT3Ud",
        "colab_type": "code",
        "colab": {}
      },
      "source": [
        "theme_df['id'] = theme_ids"
      ],
      "execution_count": 6,
      "outputs": []
    },
    {
      "cell_type": "code",
      "metadata": {
        "id": "7zJUwKQeUFPL",
        "colab_type": "code",
        "colab": {}
      },
      "source": [
        "color_df = color_df.drop_duplicates()\n",
        "color_df = color_df.reset_index(drop=True)"
      ],
      "execution_count": 7,
      "outputs": []
    },
    {
      "cell_type": "code",
      "metadata": {
        "id": "Bd06w3iVUIaL",
        "colab_type": "code",
        "colab": {}
      },
      "source": [
        "copy_color_df = pd.read_csv('gdrive/My Drive/colorPOOL/kulerData/quantize.csv')\n",
        "copy_color_df = copy_color_df.iloc[:,1:]\n",
        "copy_color_df = copy_color_df.drop_duplicates()\n",
        "copy_color_df = copy_color_df.reset_index(drop=True)"
      ],
      "execution_count": 8,
      "outputs": []
    },
    {
      "cell_type": "code",
      "metadata": {
        "id": "kJkoO8FNXIas",
        "colab_type": "code",
        "colab": {
          "base_uri": "https://localhost:8080/",
          "height": 419
        },
        "outputId": "5f2afd2f-85c3-413b-c17f-8f1383cc7a48"
      },
      "source": [
        "color_ids = []\n",
        "for i in range(len(copy_color_df)) :\n",
        "    color_ids.append(i)\n",
        "copy_color_df['id'] = color_ids\n",
        "copy_color_df"
      ],
      "execution_count": 9,
      "outputs": [
        {
          "output_type": "execute_result",
          "data": {
            "text/html": [
              "<div>\n",
              "<style scoped>\n",
              "    .dataframe tbody tr th:only-of-type {\n",
              "        vertical-align: middle;\n",
              "    }\n",
              "\n",
              "    .dataframe tbody tr th {\n",
              "        vertical-align: top;\n",
              "    }\n",
              "\n",
              "    .dataframe thead th {\n",
              "        text-align: right;\n",
              "    }\n",
              "</style>\n",
              "<table border=\"1\" class=\"dataframe\">\n",
              "  <thead>\n",
              "    <tr style=\"text-align: right;\">\n",
              "      <th></th>\n",
              "      <th>L</th>\n",
              "      <th>a</th>\n",
              "      <th>b</th>\n",
              "      <th>id</th>\n",
              "    </tr>\n",
              "  </thead>\n",
              "  <tbody>\n",
              "    <tr>\n",
              "      <th>0</th>\n",
              "      <td>36</td>\n",
              "      <td>18</td>\n",
              "      <td>30</td>\n",
              "      <td>0</td>\n",
              "    </tr>\n",
              "    <tr>\n",
              "      <th>1</th>\n",
              "      <td>6</td>\n",
              "      <td>3</td>\n",
              "      <td>3</td>\n",
              "      <td>1</td>\n",
              "    </tr>\n",
              "    <tr>\n",
              "      <th>2</th>\n",
              "      <td>72</td>\n",
              "      <td>33</td>\n",
              "      <td>81</td>\n",
              "      <td>2</td>\n",
              "    </tr>\n",
              "    <tr>\n",
              "      <th>3</th>\n",
              "      <td>42</td>\n",
              "      <td>69</td>\n",
              "      <td>63</td>\n",
              "      <td>3</td>\n",
              "    </tr>\n",
              "    <tr>\n",
              "      <th>4</th>\n",
              "      <td>99</td>\n",
              "      <td>0</td>\n",
              "      <td>36</td>\n",
              "      <td>4</td>\n",
              "    </tr>\n",
              "    <tr>\n",
              "      <th>...</th>\n",
              "      <td>...</td>\n",
              "      <td>...</td>\n",
              "      <td>...</td>\n",
              "      <td>...</td>\n",
              "    </tr>\n",
              "    <tr>\n",
              "      <th>8391</th>\n",
              "      <td>45</td>\n",
              "      <td>72</td>\n",
              "      <td>66</td>\n",
              "      <td>8391</td>\n",
              "    </tr>\n",
              "    <tr>\n",
              "      <th>8392</th>\n",
              "      <td>84</td>\n",
              "      <td>24</td>\n",
              "      <td>66</td>\n",
              "      <td>8392</td>\n",
              "    </tr>\n",
              "    <tr>\n",
              "      <th>8393</th>\n",
              "      <td>72</td>\n",
              "      <td>24</td>\n",
              "      <td>84</td>\n",
              "      <td>8393</td>\n",
              "    </tr>\n",
              "    <tr>\n",
              "      <th>8394</th>\n",
              "      <td>93</td>\n",
              "      <td>-15</td>\n",
              "      <td>3</td>\n",
              "      <td>8394</td>\n",
              "    </tr>\n",
              "    <tr>\n",
              "      <th>8395</th>\n",
              "      <td>45</td>\n",
              "      <td>60</td>\n",
              "      <td>54</td>\n",
              "      <td>8395</td>\n",
              "    </tr>\n",
              "  </tbody>\n",
              "</table>\n",
              "<p>8396 rows × 4 columns</p>\n",
              "</div>"
            ],
            "text/plain": [
              "       L   a   b    id\n",
              "0     36  18  30     0\n",
              "1      6   3   3     1\n",
              "2     72  33  81     2\n",
              "3     42  69  63     3\n",
              "4     99   0  36     4\n",
              "...   ..  ..  ..   ...\n",
              "8391  45  72  66  8391\n",
              "8392  84  24  66  8392\n",
              "8393  72  24  84  8393\n",
              "8394  93 -15   3  8394\n",
              "8395  45  60  54  8395\n",
              "\n",
              "[8396 rows x 4 columns]"
            ]
          },
          "metadata": {
            "tags": []
          },
          "execution_count": 9
        }
      ]
    },
    {
      "cell_type": "markdown",
      "metadata": {
        "id": "nFbdi-JWoMhw",
        "colab_type": "text"
      },
      "source": [
        "# 2. 클러스터링\n",
        "- 과정\n",
        "    - 기준 컬러(행)와 비교하여 유사도 최대값을 가지는 컬러의 범위를 그룹핑 하고, 테마 내 해당 컬러의 값을 보정함"
      ]
    },
    {
      "cell_type": "code",
      "metadata": {
        "id": "KJ1sVMreYtyy",
        "colab_type": "code",
        "colab": {}
      },
      "source": [
        "visited = [False for i in range(len(color_df))]\n",
        "\n",
        "for r in range(len(distance_df)):\n",
        "    count = 0\n",
        "    L = color_df.iloc[r,0]\n",
        "    a = color_df.iloc[r,1]\n",
        "    b = color_df.iloc[r,2]\n",
        "    print(L,a,b)\n",
        "\n",
        "    # 해당 컬러가 이미 제거가 된 행인지 확인\n",
        "    if visited[r]: continue\n",
        "    visited[r] = True\n",
        "  \n",
        "    # 클러스터링 범위 설정\n",
        "    color_range = [[L-3,a,b],[L,a-3,b],[L,a,b-3],[L+3,a,b],[L,a+3,b],[L,a,b+3]]\n",
        "  \n",
        "    # 클러스터링 범위 내에 컬러가 존재하는 경우\n",
        "    for j in range(len(copy_color_df)): \n",
        "        for k in range(len(color_range)):\n",
        "            if color_range[k][0] == copy_color_df.loc[j,'L'] and color_range[k][1] == copy_color_df.loc[j,'a'] and color_range[k][2] == copy_color_df.loc[j,'b']:\n",
        "                copy_color_df.loc[j,'L'] = L\n",
        "                copy_color_df.loc[j,'a'] = a\n",
        "                copy_color_df.loc[j,'b'] = b\n",
        "\n",
        "                # 방문체크\n",
        "                idx = copy_color_df.loc[j,'id']\n",
        "            if visited[idx] == False:  \n",
        "                visited[idx] = True\n",
        "                count += 1\n",
        "            break\n",
        "\n",
        "    # 중복인 컬러 제거\n",
        "    copy_color_df = copy_color_df.drop_duplicates(['L','a','b'], reset_index = True)\n",
        "  \n",
        "    # 테마 내의 컬러 보정\n",
        "    ids = []\n",
        "    for theme_id in theme_ids: \n",
        "        sim = distance_df.loc[r,theme_id]\n",
        "    \n",
        "        if sim == 1/3: # 유사도가 최대값(1/3)일 떄\n",
        "            for i in range(len(theme_df)): \n",
        "                if theme_df.loc[i,'id'] == theme_id: # 유사도 행렬의 열(theme_id)과 theme 행렬의 id가 동일하다면\n",
        "                    ids.append(i)\n",
        "                    for j in range(len(color_range)): # 그룹핑 진행\n",
        "                        for k in range(5):\n",
        "                            if color_range[j][0] == theme_df.iloc[i, 3*k] and color_range[j][1] == theme_df.iloc[i, 3*k+1] and color_range[j][2] == theme_df.iloc[i, 3*k+2]:\n",
        "                                theme_df.iloc[i,3*k] = L\n",
        "                                theme_df.iloc[i,3*k+1] = a\n",
        "                                theme_df.iloc[i,3*k+2] = b\n",
        "                                break\n",
        "\n",
        "copy_color_df.to_csv('gdrive/My Drive/colorPOOL/kulerData/Groupquantize.csv')\n",
        "theme_df.to_csv('gdrive/My Drive/colorPOOL/kulerData/GroupquantizeTheme.csv')\n"
      ],
      "execution_count": null,
      "outputs": []
    }
  ]
}