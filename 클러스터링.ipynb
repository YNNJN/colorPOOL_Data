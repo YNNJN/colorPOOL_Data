{
  "nbformat": 4,
  "nbformat_minor": 0,
  "metadata": {
    "colab": {
      "name": "클러스터링.ipynb",
      "provenance": [],
      "collapsed_sections": [],
      "authorship_tag": "ABX9TyPRqBGjSP1ynvZ7CG8qucFv",
      "include_colab_link": true
    },
    "kernelspec": {
      "name": "python3",
      "display_name": "Python 3"
    }
  },
  "cells": [
    {
      "cell_type": "markdown",
      "metadata": {
        "id": "view-in-github",
        "colab_type": "text"
      },
      "source": [
        "<a href=\"https://colab.research.google.com/github/YNNJN/colorPOOL_Data/blob/master/%ED%81%B4%EB%9F%AC%EC%8A%A4%ED%84%B0%EB%A7%81.ipynb\" target=\"_parent\"><img src=\"https://colab.research.google.com/assets/colab-badge.svg\" alt=\"Open In Colab\"/></a>"
      ]
    },
    {
      "cell_type": "markdown",
      "metadata": {
        "id": "_MFSOxh7rK3p",
        "colab_type": "text"
      },
      "source": [
        "# 1. 색공간 내에서의 거리 계산\n",
        "- 컬러 사이의 유사도는 색공간 내 거리와 반비례 관계\n",
        "    - **Palette Similarity**\n",
        "    > Inverse of distance between two palettes with the closest first matched color pairs (KAIST Color Sommelier)\n",
        "- 과정\n",
        "    - 테마를 구성하는 5가지 컬러 중 기준 컬러(행)와의 색차가 가장 작은(유사도가 큰) 값을 따짐"
      ]
    },
    {
      "cell_type": "code",
      "metadata": {
        "id": "7fIn1Lb9rHZT",
        "colab_type": "code",
        "colab": {}
      },
      "source": [
        "# connect to google drive\n",
        "\n",
        "from google.colab import drive\n",
        "drive.mount('/content/gdrive')"
      ],
      "execution_count": null,
      "outputs": []
    },
    {
      "cell_type": "code",
      "metadata": {
        "id": "uLA60qLQrT5f",
        "colab_type": "code",
        "colab": {}
      },
      "source": [
        "import numpy as np\n",
        "import pandas as pd"
      ],
      "execution_count": null,
      "outputs": []
    },
    {
      "cell_type": "code",
      "metadata": {
        "id": "s8hJgj9DrVTo",
        "colab_type": "code",
        "colab": {}
      },
      "source": [
        "theme_df = pd.read_csv('gdrive/My Drive/colorPOOL/kulerData/quantizeTheme.csv')\n",
        "color_df = pd.read_csv('gdrive/My Drive/colorPOOL/kulerData/quantize.csv')\n",
        "referenceMatrix_df = pd.read_csv('gdrive/My Drive/colorPOOL/kulerData/referenceMatrix.csv')"
      ],
      "execution_count": null,
      "outputs": []
    },
    {
      "cell_type": "code",
      "metadata": {
        "id": "OgLlSCftrYpn",
        "colab_type": "code",
        "colab": {}
      },
      "source": [
        "# inverse distance\n",
        "\n",
        "def inverse_distance(a,b) :\n",
        "  if a[0] == b[0] and a[1] == b[1] and a[2] == b[2]: # 동일한 색인 경우\n",
        "    return 1.0 \n",
        "  return 1/(sum((a-b)**2))**(1/2)"
      ],
      "execution_count": null,
      "outputs": []
    },
    {
      "cell_type": "code",
      "metadata": {
        "id": "n9oWHKSwsXG4",
        "colab_type": "code",
        "colab": {}
      },
      "source": [
        "# 컬러와 테마간의 유사도 측정\n",
        "# 테마를 구성하는 5가지 컬러 중 기준 컬러(행)와 색차가 가장 작은 값을 저장함\n",
        "\n",
        "max = 0\n",
        "columns = referenceMatrix_df.columns[1:]\n",
        "matrix = pd.DataFrame(columns=columns, dtype=float)\n",
        "\n",
        "# print(len(color_df))\n",
        "\n",
        "for colorId in range(len(color_df)):\n",
        "    rowArr = []\n",
        "    for themeId in range(len(theme_df)):\n",
        "        color = [color_df.iloc[colorId, 1], color_df.iloc[colorId, 2], color_df.iloc[colorId, 3]]\n",
        "        max_inverse_dist = 0\n",
        "        for k in range(5):\n",
        "            theme = [theme_df.iloc[themeId, 3*k+1], theme_df.iloc[themeId, 3*k+2], theme_df.iloc[themeId, 3*k+3]]\n",
        "            if k == 0: \n",
        "                max_inverse_dist = inverse_distance(np.array(color), np.array(theme))\n",
        "            else: \n",
        "                inverse_dist = inverse_distance(np.array(color), np.array(theme))\n",
        "                if max_inverse_dist < inverse_dist : \n",
        "                    max_inverse_dist = inverse_dist\n",
        "        if max_inverse_dist != 1 and max < max_inverse_dist :\n",
        "            max = max_inverse_dist\n",
        "        rowArr.append(max_inverse_dist)\n",
        "    # print(rowArr) \n",
        "    matrix = matrix.append(pd.Series(rowArr,index=columns), ignore_index=True)\n",
        "\n",
        "matrix\n",
        "# print(matrix)\n",
        "matrix.to_csv('gdrive/My Drive/colorPOOL/kulerData/distanceMatrix.csv')"
      ],
      "execution_count": null,
      "outputs": []
    },
    {
      "cell_type": "code",
      "metadata": {
        "id": "W7KyQSWOvtfN",
        "colab_type": "code",
        "colab": {}
      },
      "source": [
        ""
      ],
      "execution_count": null,
      "outputs": []
    }
  ]
}